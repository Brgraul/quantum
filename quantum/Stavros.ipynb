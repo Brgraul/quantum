{
 "cells": [
  {
   "cell_type": "code",
   "execution_count": 7,
   "metadata": {},
   "outputs": [],
   "source": [
    "from __future__ import absolute_import\n",
    "from __future__ import division\n",
    "from __future__ import print_function\n",
    "\n",
    "import numpy as np\n",
    "import tensorflow as tf\n",
    "import tensornetwork as tn\n",
    "from typing import Tuple, List, Optional\n",
    "\n",
    "def random_initializer(d_phys: int, d_bond: int, std: float = 1e-3,\n",
    "                       boundary: bool = False) -> np.ndarray:\n",
    "  \"\"\"Initializes MPS tensors randomly and close to identity matrices.\n",
    "  Args:\n",
    "    d_phys: Physical dimension of MPS.\n",
    "    d_bond: Bond dimension of MPS.\n",
    "    std: STD of normal distribution for random initialization.\n",
    "    boundary: If True returns a tensor of shape (d_phys, d_bond).\n",
    "      Otherwise returns a tensor of shape (d_phys, d_bond, d_bond).\n",
    "    Note that d_phys given in this function does not have to be the actual\n",
    "    MPS physical dimension (eg. it can also be n_labels to initialize there\n",
    "    label MPS tensor).\n",
    "  Returns:\n",
    "    tensor: Random numpy array with shape described above.\n",
    "  \"\"\"\n",
    "  if boundary:\n",
    "    x = np.zeros((d_phys, d_bond))\n",
    "    x[:, 0] = 1\n",
    "  else:\n",
    "    x = np.array(d_phys * [np.eye(d_bond)])\n",
    "  x += np.random.normal(0.0, std, size=x.shape)\n",
    "  return x\n"
   ]
  },
  {
   "cell_type": "code",
   "execution_count": 6,
   "metadata": {},
   "outputs": [
    {
     "data": {
      "text/plain": [
       "array([[[ 1.00194252e+00, -2.29174170e-04],\n",
       "        [-1.97955650e-03,  9.98209371e-01]],\n",
       "\n",
       "       [[ 1.00068629e+00, -1.56972446e-04],\n",
       "        [ 1.13111481e-03,  1.00039972e+00]],\n",
       "\n",
       "       [[ 1.00067762e+00, -1.03871174e-03],\n",
       "        [-2.96572526e-04,  9.99978796e-01]]])"
      ]
     },
     "execution_count": 6,
     "metadata": {},
     "output_type": "execute_result"
    }
   ],
   "source": [
    "random_initializer(3,2)"
   ]
  },
  {
   "cell_type": "code",
   "execution_count": 9,
   "metadata": {},
   "outputs": [
    {
     "ename": "AttributeError",
     "evalue": "module 'tensornetwork' has no attribute 'TensorNetwork'",
     "output_type": "error",
     "traceback": [
      "\u001b[0;31m---------------------------------------------------------------------------\u001b[0m",
      "\u001b[0;31mAttributeError\u001b[0m                            Traceback (most recent call last)",
      "\u001b[0;32m<ipython-input-9-063015760aa9>\u001b[0m in \u001b[0;36m<module>\u001b[0;34m\u001b[0m\n\u001b[0;32m----> 1\u001b[0;31m \u001b[0mtn\u001b[0m\u001b[0;34m.\u001b[0m\u001b[0mTensorNetwork\u001b[0m\u001b[0;34m\u001b[0m\u001b[0;34m\u001b[0m\u001b[0m\n\u001b[0m",
      "\u001b[0;31mAttributeError\u001b[0m: module 'tensornetwork' has no attribute 'TensorNetwork'"
     ]
    }
   ],
   "source": [
    "tn.TensorNetwork"
   ]
  },
  {
   "cell_type": "code",
   "execution_count": null,
   "metadata": {},
   "outputs": [],
   "source": []
  }
 ],
 "metadata": {
  "kernelspec": {
   "display_name": "Python 3",
   "language": "python",
   "name": "python3"
  },
  "language_info": {
   "codemirror_mode": {
    "name": "ipython",
    "version": 3
   },
   "file_extension": ".py",
   "mimetype": "text/x-python",
   "name": "python",
   "nbconvert_exporter": "python",
   "pygments_lexer": "ipython3",
   "version": "3.7.7"
  }
 },
 "nbformat": 4,
 "nbformat_minor": 4
}
