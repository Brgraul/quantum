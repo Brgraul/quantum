{
 "cells": [
  {
   "cell_type": "code",
   "execution_count": 2,
   "metadata": {},
   "outputs": [],
   "source": [
    "import tensornetwork as tn\n",
    "import numpy as np"
   ]
  },
  {
   "cell_type": "code",
   "execution_count": 10,
   "metadata": {},
   "outputs": [],
   "source": [
    "A = tn.Node(np.ones([4,2]))"
   ]
  },
  {
   "cell_type": "code",
   "execution_count": 11,
   "metadata": {},
   "outputs": [],
   "source": [
    "B = tn.Node(np.ones([2,2]))"
   ]
  },
  {
   "cell_type": "code",
   "execution_count": 12,
   "metadata": {},
   "outputs": [
    {
     "name": "stdout",
     "output_type": "stream",
     "text": [
      "Cannot connect edges of unequal dimension.\n"
     ]
    }
   ],
   "source": [
    "try: \n",
    "    A[0]^B[1]\n",
    "except:\n",
    "    print(\"Cannot connect edges of unequal dimension.\")"
   ]
  },
  {
   "cell_type": "code",
   "execution_count": 13,
   "metadata": {},
   "outputs": [
    {
     "data": {
      "text/plain": [
       "\n",
       "Edge('__unnamed_node__'[1] -> '__unnamed_node__'[0] )"
      ]
     },
     "execution_count": 13,
     "metadata": {},
     "output_type": "execute_result"
    }
   ],
   "source": [
    "A[1]^B[0]"
   ]
  },
  {
   "cell_type": "code",
   "execution_count": 6,
   "metadata": {},
   "outputs": [],
   "source": [
    "result = tn.contractors.auto([A,B], ignore_edge_order=True)"
   ]
  },
  {
   "cell_type": "code",
   "execution_count": 7,
   "metadata": {},
   "outputs": [
    {
     "ename": "TypeError",
     "evalue": "split_node() missing 2 required positional arguments: 'left_edges' and 'right_edges'",
     "traceback": [
      "\u001b[0;31m---------------------------------------------------------------------------\u001b[0m",
      "\u001b[0;31mTypeError\u001b[0m                                 Traceback (most recent call last)",
      "\u001b[0;32m<ipython-input-7-82cc15655c5b>\u001b[0m in \u001b[0;36m<module>\u001b[0;34m\u001b[0m\n\u001b[0;32m----> 1\u001b[0;31m \u001b[0mu_prime\u001b[0m \u001b[0;34m=\u001b[0m \u001b[0mtn\u001b[0m\u001b[0;34m.\u001b[0m\u001b[0msplit_node\u001b[0m\u001b[0;34m(\u001b[0m\u001b[0mresult\u001b[0m\u001b[0;34m)\u001b[0m\u001b[0;34m\u001b[0m\u001b[0;34m\u001b[0m\u001b[0m\n\u001b[0m",
      "\u001b[0;31mTypeError\u001b[0m: split_node() missing 2 required positional arguments: 'left_edges' and 'right_edges'"
     ],
     "output_type": "error"
    }
   ],
   "source": [
    "u_prime = tn.split_node(result)\n"
   ]
  },
  {
   "cell_type": "code",
   "execution_count": null,
   "metadata": {},
   "outputs": [],
   "source": [
    "letters = np.array([['A','B','C','D'],\n",
    "        ['E','F','G','H'],\n",
    "        ['I','J','K','L'],\n",
    "        ['M','N','O','P']])"
   ]
  },
  {
   "cell_type": "code",
   "execution_count": null,
   "metadata": {},
   "outputs": [],
   "source": [
    "np.reshape(letters,[2,2,2,2],order='A')"
   ]
  },
  {
   "cell_type": "code",
   "execution_count": null,
   "metadata": {},
   "outputs": [],
   "source": [
    "m = tn.Node(np.ones([3,3,3]), name=\"m\")\n",
    "d = tn.Node(np.ones([3,3,3]), name=\"d\")\n",
    "p = tn.Node(np.ones([3,3,3]), name=\"p\")\n",
    "d[0] ^ m[0]\n",
    "m[1] ^ p[0]\n",
    "p[1] ^ d[1]"
   ]
  },
  {
   "cell_type": "code",
   "execution_count": null,
   "metadata": {},
   "outputs": [],
   "source": [
    "l, r, _ = tn.split_node(m, left_edges=[m[0], m[2]], right_edges=[m[1]], left_name = \"m_l\", right_name=\"m_r\")"
   ]
  },
  {
   "cell_type": "code",
   "execution_count": 80,
   "metadata": {},
   "outputs": [
    {
     "data": {
      "text/plain": [
       "(3, 3, 2)"
      ]
     },
     "execution_count": 80,
     "metadata": {},
     "output_type": "execute_result"
    }
   ],
   "source": [
    "l.shape"
   ]
  },
  {
   "cell_type": "code",
   "execution_count": 81,
   "metadata": {},
   "outputs": [
    {
     "data": {
      "text/plain": [
       "(2, 3, 3)"
      ]
     },
     "execution_count": 81,
     "metadata": {},
     "output_type": "execute_result"
    }
   ],
   "source": [
    "r.shape"
   ]
  },
  {
   "cell_type": "code",
   "execution_count": 120,
   "metadata": {},
   "outputs": [],
   "source": [
    "t = tn.Node(np.ones([3,3,3,3 ]), name=\"o_4\")"
   ]
  },
  {
   "cell_type": "code",
   "execution_count": 121,
   "metadata": {},
   "outputs": [],
   "source": [
    "# This produces the right MPS for a 4-order tensor\n",
    "l, r, _ = tn.split_node(t, left_edges=[t[0],t[1]], right_edges=[t[2], t[3]], max_truncation_err = 10e-20, left_name = \"l\",\n",
    "right_name=\"r\")\n",
    "#rl, rr, _ = tn.split_node(r, left_edges=[r[0],r[1]], right_edges=[r[2]],max_singular_values = 2, left_name = \"rl\", right_name=\"rr\")\n"
   ]
  },
  {
   "cell_type": "code",
   "execution_count": 125,
   "metadata": {},
   "outputs": [
    {
     "data": {
      "text/plain": [
       "(Node\n",
       " (\n",
       " name : 'l',\n",
       " tensor : \n",
       " array([[[-1.],\n",
       "         [-1.],\n",
       "         [-1.]],\n",
       " \n",
       "        [[-1.],\n",
       "         [-1.],\n",
       "         [-1.]],\n",
       " \n",
       "        [[-1.],\n",
       "         [-1.],\n",
       "         [-1.]]]),\n",
       " edges : \n",
       " [\n",
       " Edge(Dangling Edge)[0] \n",
       " , \n",
       " Edge(Dangling Edge)[1] \n",
       " , \n",
       " Edge('l'[2] -> 'r'[0] )\n",
       " ] \n",
       " ),\n",
       " Node\n",
       " (\n",
       " name : 'r',\n",
       " tensor : \n",
       " array([[[-1., -1., -1.],\n",
       "         [-1., -1., -1.],\n",
       "         [-1., -1., -1.]]]),\n",
       " edges : \n",
       " [\n",
       " Edge('l'[2] -> 'r'[0] )\n",
       " , \n",
       " Edge(Dangling Edge)[1] \n",
       " , \n",
       " Edge(Dangling Edge)[2] \n",
       " ] \n",
       " ),\n",
       " array([0., 0., 0., 0., 0., 0., 0., 0.]))"
      ]
     },
     "execution_count": 125,
     "metadata": {},
     "output_type": "execute_result"
    }
   ],
   "source": [
    "tn.split_node(t, left_edges=[t[0],t[1]], right_edges=[t[2], t[3]], max_truncation_err = 10e-20, left_name = \"l\",\n",
    "right_name=\"r\")"
   ]
  },
  {
   "cell_type": "code",
   "execution_count": 93,
   "metadata": {},
   "outputs": [
    {
     "data": {
      "text/plain": [
       "(3, 3)"
      ]
     },
     "execution_count": 93,
     "metadata": {},
     "output_type": "execute_result"
    }
   ],
   "source": [
    "def matrix_product_state(tensor, max_truncation_err):\n",
    "    order = len(t.shape)\n",
    "    if order <=3:\n",
    "        return tensor\n",
    "    \n",
    "    mps = [tensor]\n",
    "    else:\n",
    "        for i in range(order-1):\n",
    "            mps.append(tn.split_node(mps[i], left_edges=[t[0],t[1]], right_edges=[t[2], t[3]], \n",
    "                                     max_truncation_err = 10e-20, left_name = \"l\", right_name=\"r\"))"
   ]
  },
  {
   "cell_type": "code",
   "execution_count": 154,
   "metadata": {},
   "outputs": [],
   "source": [
    "def recursor(tuple_train):\n",
    "    if len(tuple_train[0].shape) > 2:\n",
    "        print(\"Should trigger\")\n",
    "        return recursor(tn.split_node(tuple_train[0], left_edges=[tuple_train[0][0]], right_edges=[tuple_train[0][2], tuple_train[0][1]], \n",
    "                                     max_truncation_err = 10e-20))\n",
    "    if len(tuple_train[1].shape) > 2:\n",
    "        return recursor(tn.split_node(tuple_train[1], left_edges=[t[0],t[1]], right_edges=[t[2], t[3]], \n",
    "                             max_truncation_err = 10e-20))\n",
    "    else:\n",
    "        print('else!')\n",
    "        return tuple_train"
   ]
  },
  {
   "cell_type": "code",
   "execution_count": 183,
   "metadata": {},
   "outputs": [
    {
     "data": {
      "text/plain": [
       "\n",
       "Edge('o_4'[0] -> 'a'[0] )"
      ]
     },
     "execution_count": 183,
     "metadata": {},
     "output_type": "execute_result"
    }
   ],
   "source": [
    "t = tn.Node(np.ones([3,3,3,3 ]), name=\"o_4\")\n",
    "a = tn.Node(np.ones([3,3]), name=\"a\")\n",
    "t[0]^ a[0]\n",
    "test = tn.split_node(t, left_edges=[t[0],t[1]], right_edges=[t[2], t[3]], max_truncation_err = 10e-20, left_name = \"l\",\n",
    "right_name=\"r\")"
   ]
  },
  {
   "cell_type": "code",
   "execution_count": 185,
   "metadata": {},
   "outputs": [
    {
     "data": {
      "text/plain": [
       "[\n",
       " Edge('o_4'[0] -> 'a'[0] ),\n",
       " \n",
       " Edge(Dangling Edge)[1] ]"
      ]
     },
     "execution_count": 185,
     "metadata": {},
     "output_type": "execute_result"
    }
   ],
   "source": []
  },
  {
   "cell_type": "code",
   "execution_count": 187,
   "metadata": {},
   "outputs": [],
   "source": [
    "test = tn.split_node(t, left_edges=[t[0],t[1]], right_edges=[t[2], t[3]], max_truncation_err = 10e-20, left_name = \"l\",\n",
    "right_name=\"r\")"
   ]
  },
  {
   "cell_type": "code",
   "execution_count": 189,
   "metadata": {},
   "outputs": [
    {
     "data": {
      "text/plain": [
       "[\n",
       " Edge('l'[0] -> 'a'[0] ),\n",
       " \n",
       " Edge(Dangling Edge)[1] ,\n",
       " \n",
       " Edge('l'[2] -> 'r'[0] )]"
      ]
     },
     "execution_count": 189,
     "metadata": {},
     "output_type": "execute_result"
    }
   ],
   "source": []
  },
  {
   "cell_type": "code",
   "execution_count": 170,
   "metadata": {},
   "outputs": [
    {
     "data": {
      "text/plain": [
       "[\n",
       " Edge('l'[0] -> 'a'[0] ),\n",
       " \n",
       " Edge(Dangling Edge)[1] ,\n",
       " \n",
       " Edge('l'[2] -> 'r'[0] )]"
      ]
     },
     "execution_count": 170,
     "metadata": {},
     "output_type": "execute_result"
    }
   ],
   "source": [
    "test[0][0]^ a[0]\n",
    "test[0].edges"
   ]
  },
  {
   "cell_type": "code",
   "execution_count": 176,
   "metadata": {},
   "outputs": [
    {
     "data": {
      "text/plain": [
       "(Node\n",
       " (\n",
       " name : 'l',\n",
       " tensor : \n",
       " array([[[-1.],\n",
       "         [-1.],\n",
       "         [-1.]],\n",
       " \n",
       "        [[-1.],\n",
       "         [-1.],\n",
       "         [-1.]],\n",
       " \n",
       "        [[-1.],\n",
       "         [-1.],\n",
       "         [-1.]]]),\n",
       " edges : \n",
       " [\n",
       " Edge('l'[0] -> 'a'[0] )\n",
       " , \n",
       " Edge(Dangling Edge)[1] \n",
       " , \n",
       " Edge('l'[2] -> 'r'[0] )\n",
       " ] \n",
       " ),\n",
       " Node\n",
       " (\n",
       " name : 'r',\n",
       " tensor : \n",
       " array([[[-1., -1., -1.],\n",
       "         [-1., -1., -1.],\n",
       "         [-1., -1., -1.]]]),\n",
       " edges : \n",
       " [\n",
       " Edge('l'[2] -> 'r'[0] )\n",
       " , \n",
       " Edge(Dangling Edge)[1] \n",
       " , \n",
       " Edge(Dangling Edge)[2] \n",
       " ] \n",
       " ),\n",
       " array([0., 0., 0., 0., 0., 0., 0., 0.]))"
      ]
     },
     "execution_count": 176,
     "metadata": {},
     "output_type": "execute_result"
    }
   ],
   "source": [
    "test"
   ]
  },
  {
   "cell_type": "code",
   "execution_count": 4,
   "metadata": {},
   "outputs": [
    {
     "data": {
      "image/svg+xml": [
       "<?xml version=\"1.0\" encoding=\"UTF-8\" standalone=\"no\"?>\n",
       "<!DOCTYPE svg PUBLIC \"-//W3C//DTD SVG 1.1//EN\"\n",
       " \"http://www.w3.org/Graphics/SVG/1.1/DTD/svg11.dtd\">\n",
       "<!-- Generated by graphviz version 2.44.0 (20200408.0750)\n",
       " -->\n",
       "<!-- Title: G Pages: 1 -->\n",
       "<svg width=\"268pt\" height=\"253pt\"\n",
       " viewBox=\"0.00 0.00 268.25 253.00\" xmlns=\"http://www.w3.org/2000/svg\" xmlns:xlink=\"http://www.w3.org/1999/xlink\">\n",
       "<g id=\"graph0\" class=\"graph\" transform=\"scale(1 1) rotate(0) translate(4 249)\">\n",
       "<title>G</title>\n",
       "<polygon fill=\"white\" stroke=\"transparent\" points=\"-4,4 -4,-249 264.25,-249 264.25,4 -4,4\"/>\n",
       "<!-- 4511606224 -->\n",
       "<g id=\"node1\" class=\"node\">\n",
       "<title>4511606224</title>\n",
       "<ellipse fill=\"none\" stroke=\"black\" cx=\"96.3\" cy=\"-147.68\" rx=\"36.29\" ry=\"18\"/>\n",
       "<text text-anchor=\"middle\" x=\"96.3\" y=\"-143.98\" font-family=\"Times,serif\" font-size=\"14.00\">node_1</text>\n",
       "</g>\n",
       "<!-- 4511606160 -->\n",
       "<g id=\"node2\" class=\"node\">\n",
       "<title>4511606160</title>\n",
       "<ellipse fill=\"none\" stroke=\"black\" cx=\"164.53\" cy=\"-97.52\" rx=\"36.29\" ry=\"18\"/>\n",
       "<text text-anchor=\"middle\" x=\"164.53\" y=\"-93.82\" font-family=\"Times,serif\" font-size=\"14.00\">node_2</text>\n",
       "</g>\n",
       "<!-- 4511606224&#45;&#45;4511606160 -->\n",
       "<g id=\"edge1\" class=\"edge\">\n",
       "<title>4511606224&#45;&#45;4511606160</title>\n",
       "<path fill=\"none\" stroke=\"black\" d=\"M116.77,-132.63C125.4,-126.28 135.43,-118.91 144.07,-112.56\"/>\n",
       "</g>\n",
       "<!-- 4511606224_1 -->\n",
       "<!-- 4511606224_1&#45;&#45;4511606224 -->\n",
       "<g id=\"edge2\" class=\"edge\">\n",
       "<title>4511606224_1&#45;&#45;4511606224</title>\n",
       "<path fill=\"none\" stroke=\"black\" d=\"M46.67,-115.69C55.15,-121.16 65.12,-127.59 73.89,-133.24\"/>\n",
       "</g>\n",
       "<!-- 4511606224_2 -->\n",
       "<!-- 4511606224_2&#45;&#45;4511606224 -->\n",
       "<g id=\"edge3\" class=\"edge\">\n",
       "<title>4511606224_2&#45;&#45;4511606224</title>\n",
       "<path fill=\"none\" stroke=\"black\" d=\"M50.84,-182.09C58.76,-176.09 68.08,-169.04 76.22,-162.88\"/>\n",
       "</g>\n",
       "<!-- 4511606224_3 -->\n",
       "<!-- 4511606224_3&#45;&#45;4511606224 -->\n",
       "<g id=\"edge4\" class=\"edge\">\n",
       "<title>4511606224_3&#45;&#45;4511606224</title>\n",
       "<path fill=\"none\" stroke=\"black\" d=\"M114.12,-209C110.35,-196.02 105.28,-178.57 101.51,-165.61\"/>\n",
       "</g>\n",
       "<!-- 4511606160_0 -->\n",
       "<!-- 4511606160_0&#45;&#45;4511606160 -->\n",
       "<g id=\"edge5\" class=\"edge\">\n",
       "<title>4511606160_0&#45;&#45;4511606160</title>\n",
       "<path fill=\"none\" stroke=\"black\" d=\"M214.11,-130.61C205.53,-124.88 195.36,-118.1 186.48,-112.17\"/>\n",
       "</g>\n",
       "<!-- 4511606160_2 -->\n",
       "<!-- 4511606160_2&#45;&#45;4511606160 -->\n",
       "<g id=\"edge6\" class=\"edge\">\n",
       "<title>4511606160_2&#45;&#45;4511606160</title>\n",
       "<path fill=\"none\" stroke=\"black\" d=\"M147.73,-36.04C151.29,-49.06 156.07,-66.55 159.62,-79.55\"/>\n",
       "</g>\n",
       "<!-- 4511606160_3 -->\n",
       "<!-- 4511606160_3&#45;&#45;4511606160 -->\n",
       "<g id=\"edge7\" class=\"edge\">\n",
       "<title>4511606160_3&#45;&#45;4511606160</title>\n",
       "<path fill=\"none\" stroke=\"black\" d=\"M210.73,-64.86C202.93,-70.38 193.84,-76.8 185.8,-82.48\"/>\n",
       "</g>\n",
       "</g>\n",
       "</svg>\n"
      ],
      "text/plain": [
       "<graphviz.dot.Graph at 0x10ce84fd0>"
      ]
     },
     "execution_count": 4,
     "metadata": {},
     "output_type": "execute_result"
    }
   ],
   "source": [
    "U = np.ones([4,4])\n",
    "T_U = U.reshape([2,2,2,2], order='A')\n",
    "\n",
    "node1 = tn.Node(T_U, name=\"node_1\")\n",
    "node2 = tn.Node(T_U, name=\"node_2\")\n",
    "node1[0]^node2[1] # Connecting edges\n",
    "\n",
    "tn.to_graphviz([node1,node2]) # Plot the network"
   ]
  },
  {
   "cell_type": "code",
   "execution_count": null,
   "metadata": {},
   "outputs": [],
   "source": [
    "node"
   ]
  }
 ],
 "metadata": {
  "kernelspec": {
   "display_name": "Python 3",
   "language": "python",
   "name": "python3"
  },
  "language_info": {
   "codemirror_mode": {
    "name": "ipython",
    "version": 3
   },
   "file_extension": ".py",
   "mimetype": "text/x-python",
   "name": "python",
   "nbconvert_exporter": "python",
   "pygments_lexer": "ipython3",
   "version": "3.7.7"
  }
 },
 "nbformat": 4,
 "nbformat_minor": 4
}
