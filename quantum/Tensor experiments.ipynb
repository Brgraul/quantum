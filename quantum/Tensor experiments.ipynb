{
 "cells": [
  {
   "cell_type": "code",
   "execution_count": 9,
   "metadata": {},
   "outputs": [],
   "source": [
    "import tensornetwork as tn\n",
    "import numpy as np"
   ]
  },
  {
   "cell_type": "code",
   "execution_count": 10,
   "metadata": {},
   "outputs": [],
   "source": [
    "A = tn.Node(np.ones([4,2]))"
   ]
  },
  {
   "cell_type": "code",
   "execution_count": 11,
   "metadata": {},
   "outputs": [],
   "source": [
    "B = tn.Node(np.ones([2,2]))"
   ]
  },
  {
   "cell_type": "code",
   "execution_count": 12,
   "metadata": {},
   "outputs": [
    {
     "name": "stdout",
     "output_type": "stream",
     "text": [
      "Cannot connect edges of unequal dimension.\n"
     ]
    }
   ],
   "source": [
    "try: \n",
    "    A[0]^B[1]\n",
    "except:\n",
    "    print(\"Cannot connect edges of unequal dimension.\")"
   ]
  },
  {
   "cell_type": "code",
   "execution_count": 13,
   "metadata": {},
   "outputs": [
    {
     "data": {
      "text/plain": [
       "\n",
       "Edge('__unnamed_node__'[1] -> '__unnamed_node__'[0] )"
      ]
     },
     "execution_count": 13,
     "metadata": {},
     "output_type": "execute_result"
    }
   ],
   "source": [
    "A[1]^B[0]"
   ]
  },
  {
   "cell_type": "code",
   "execution_count": 6,
   "metadata": {},
   "outputs": [],
   "source": [
    "result = tn.contractors.auto([A,B], ignore_edge_order=True)"
   ]
  },
  {
   "cell_type": "code",
   "execution_count": 7,
   "metadata": {},
   "outputs": [
    {
     "ename": "TypeError",
     "evalue": "split_node() missing 2 required positional arguments: 'left_edges' and 'right_edges'",
     "output_type": "error",
     "traceback": [
      "\u001b[0;31m---------------------------------------------------------------------------\u001b[0m",
      "\u001b[0;31mTypeError\u001b[0m                                 Traceback (most recent call last)",
      "\u001b[0;32m<ipython-input-7-82cc15655c5b>\u001b[0m in \u001b[0;36m<module>\u001b[0;34m\u001b[0m\n\u001b[0;32m----> 1\u001b[0;31m \u001b[0mu_prime\u001b[0m \u001b[0;34m=\u001b[0m \u001b[0mtn\u001b[0m\u001b[0;34m.\u001b[0m\u001b[0msplit_node\u001b[0m\u001b[0;34m(\u001b[0m\u001b[0mresult\u001b[0m\u001b[0;34m)\u001b[0m\u001b[0;34m\u001b[0m\u001b[0;34m\u001b[0m\u001b[0m\n\u001b[0m",
      "\u001b[0;31mTypeError\u001b[0m: split_node() missing 2 required positional arguments: 'left_edges' and 'right_edges'"
     ]
    }
   ],
   "source": [
    "u_prime = tn.split_node(result)\n"
   ]
  },
  {
   "cell_type": "code",
   "execution_count": null,
   "metadata": {},
   "outputs": [],
   "source": [
    "letters = np.array([['A','B','C','D'],\n",
    "        ['E','F','G','H'],\n",
    "        ['I','J','K','L'],\n",
    "        ['M','N','O','P']])"
   ]
  },
  {
   "cell_type": "code",
   "execution_count": null,
   "metadata": {},
   "outputs": [],
   "source": [
    "np.reshape(letters,[2,2,2,2],order='A')"
   ]
  },
  {
   "cell_type": "code",
   "execution_count": null,
   "metadata": {},
   "outputs": [],
   "source": [
    "m = tn.Node(np.ones([3,3,3]), name=\"m\")\n",
    "d = tn.Node(np.ones([3,3,3]), name=\"d\")\n",
    "p = tn.Node(np.ones([3,3,3]), name=\"p\")\n",
    "d[0] ^ m[0]\n",
    "m[1] ^ p[0]\n",
    "p[1] ^ d[1]"
   ]
  },
  {
   "cell_type": "code",
   "execution_count": null,
   "metadata": {},
   "outputs": [],
   "source": [
    "l, r, _ = tn.split_node(m, left_edges=[m[0], m[2]], right_edges=[m[1]], left_name = \"m_l\", right_name=\"m_r\")"
   ]
  },
  {
   "cell_type": "code",
   "execution_count": 80,
   "metadata": {},
   "outputs": [
    {
     "data": {
      "text/plain": [
       "(3, 3, 2)"
      ]
     },
     "execution_count": 80,
     "metadata": {},
     "output_type": "execute_result"
    }
   ],
   "source": [
    "l.shape"
   ]
  },
  {
   "cell_type": "code",
   "execution_count": 81,
   "metadata": {},
   "outputs": [
    {
     "data": {
      "text/plain": [
       "(2, 3, 3)"
      ]
     },
     "execution_count": 81,
     "metadata": {},
     "output_type": "execute_result"
    }
   ],
   "source": [
    "r.shape"
   ]
  },
  {
   "cell_type": "code",
   "execution_count": 120,
   "metadata": {},
   "outputs": [],
   "source": [
    "t = tn.Node(np.ones([3,3,3,3 ]), name=\"o_4\")"
   ]
  },
  {
   "cell_type": "code",
   "execution_count": 121,
   "metadata": {},
   "outputs": [],
   "source": [
    "# This produces the right MPS for a 4-order tensor\n",
    "l, r, _ = tn.split_node(t, left_edges=[t[0],t[1]], right_edges=[t[2], t[3]], max_truncation_err = 10e-20, left_name = \"l\",\n",
    "right_name=\"r\")\n",
    "#rl, rr, _ = tn.split_node(r, left_edges=[r[0],r[1]], right_edges=[r[2]],max_singular_values = 2, left_name = \"rl\", right_name=\"rr\")\n"
   ]
  },
  {
   "cell_type": "code",
   "execution_count": 125,
   "metadata": {},
   "outputs": [
    {
     "data": {
      "text/plain": [
       "(Node\n",
       " (\n",
       " name : 'l',\n",
       " tensor : \n",
       " array([[[-1.],\n",
       "         [-1.],\n",
       "         [-1.]],\n",
       " \n",
       "        [[-1.],\n",
       "         [-1.],\n",
       "         [-1.]],\n",
       " \n",
       "        [[-1.],\n",
       "         [-1.],\n",
       "         [-1.]]]),\n",
       " edges : \n",
       " [\n",
       " Edge(Dangling Edge)[0] \n",
       " , \n",
       " Edge(Dangling Edge)[1] \n",
       " , \n",
       " Edge('l'[2] -> 'r'[0] )\n",
       " ] \n",
       " ),\n",
       " Node\n",
       " (\n",
       " name : 'r',\n",
       " tensor : \n",
       " array([[[-1., -1., -1.],\n",
       "         [-1., -1., -1.],\n",
       "         [-1., -1., -1.]]]),\n",
       " edges : \n",
       " [\n",
       " Edge('l'[2] -> 'r'[0] )\n",
       " , \n",
       " Edge(Dangling Edge)[1] \n",
       " , \n",
       " Edge(Dangling Edge)[2] \n",
       " ] \n",
       " ),\n",
       " array([0., 0., 0., 0., 0., 0., 0., 0.]))"
      ]
     },
     "execution_count": 125,
     "metadata": {},
     "output_type": "execute_result"
    }
   ],
   "source": [
    "tn.split_node(t, left_edges=[t[0],t[1]], right_edges=[t[2], t[3]], max_truncation_err = 10e-20, left_name = \"l\",\n",
    "right_name=\"r\")"
   ]
  },
  {
   "cell_type": "code",
   "execution_count": 93,
   "metadata": {},
   "outputs": [
    {
     "data": {
      "text/plain": [
       "(3, 3)"
      ]
     },
     "execution_count": 93,
     "metadata": {},
     "output_type": "execute_result"
    }
   ],
   "source": [
    "def matrix_product_state(tensor, max_truncation_err):\n",
    "    order = len(t.shape)\n",
    "    if order <=3:\n",
    "        return tensor\n",
    "    \n",
    "    mps = [tensor]\n",
    "    else:\n",
    "        for i in range(order-1):\n",
    "            mps.append(tn.split_node(mps[i], left_edges=[t[0],t[1]], right_edges=[t[2], t[3]], \n",
    "                                     max_truncation_err = 10e-20, left_name = \"l\", right_name=\"r\"))"
   ]
  },
  {
   "cell_type": "code",
   "execution_count": 154,
   "metadata": {},
   "outputs": [],
   "source": [
    "def recursor(tuple_train):\n",
    "    if len(tuple_train[0].shape) > 2:\n",
    "        print(\"Should trigger\")\n",
    "        return recursor(tn.split_node(tuple_train[0], left_edges=[tuple_train[0][0]], right_edges=[tuple_train[0][2], tuple_train[0][1]], \n",
    "                                     max_truncation_err = 10e-20))\n",
    "    if len(tuple_train[1].shape) > 2:\n",
    "        return recursor(tn.split_node(tuple_train[1], left_edges=[t[0],t[1]], right_edges=[t[2], t[3]], \n",
    "                             max_truncation_err = 10e-20))\n",
    "    else:\n",
    "        print('else!')\n",
    "        return tuple_train"
   ]
  },
  {
   "cell_type": "code",
   "execution_count": 183,
   "metadata": {},
   "outputs": [
    {
     "data": {
      "text/plain": [
       "\n",
       "Edge('o_4'[0] -> 'a'[0] )"
      ]
     },
     "execution_count": 183,
     "metadata": {},
     "output_type": "execute_result"
    }
   ],
   "source": [
    "t = tn.Node(np.ones([3,3,3,3 ]), name=\"o_4\")\n",
    "a = tn.Node(np.ones([3,3]), name=\"a\")\n",
    "t[0]^ a[0]\n",
    "test = tn.split_node(t, left_edges=[t[0],t[1]], right_edges=[t[2], t[3]], max_truncation_err = 10e-20, left_name = \"l\",\n",
    "right_name=\"r\")"
   ]
  },
  {
   "cell_type": "code",
   "execution_count": 185,
   "metadata": {},
   "outputs": [
    {
     "data": {
      "text/plain": [
       "[\n",
       " Edge('o_4'[0] -> 'a'[0] ),\n",
       " \n",
       " Edge(Dangling Edge)[1] ]"
      ]
     },
     "execution_count": 185,
     "metadata": {},
     "output_type": "execute_result"
    }
   ],
   "source": []
  },
  {
   "cell_type": "code",
   "execution_count": 187,
   "metadata": {},
   "outputs": [],
   "source": [
    "test = tn.split_node(t, left_edges=[t[0],t[1]], right_edges=[t[2], t[3]], max_truncation_err = 10e-20, left_name = \"l\",\n",
    "right_name=\"r\")"
   ]
  },
  {
   "cell_type": "code",
   "execution_count": 189,
   "metadata": {},
   "outputs": [
    {
     "data": {
      "text/plain": [
       "[\n",
       " Edge('l'[0] -> 'a'[0] ),\n",
       " \n",
       " Edge(Dangling Edge)[1] ,\n",
       " \n",
       " Edge('l'[2] -> 'r'[0] )]"
      ]
     },
     "execution_count": 189,
     "metadata": {},
     "output_type": "execute_result"
    }
   ],
   "source": []
  },
  {
   "cell_type": "code",
   "execution_count": 170,
   "metadata": {},
   "outputs": [
    {
     "data": {
      "text/plain": [
       "[\n",
       " Edge('l'[0] -> 'a'[0] ),\n",
       " \n",
       " Edge(Dangling Edge)[1] ,\n",
       " \n",
       " Edge('l'[2] -> 'r'[0] )]"
      ]
     },
     "execution_count": 170,
     "metadata": {},
     "output_type": "execute_result"
    }
   ],
   "source": [
    "test[0][0]^ a[0]\n",
    "test[0].edges"
   ]
  },
  {
   "cell_type": "code",
   "execution_count": 176,
   "metadata": {},
   "outputs": [
    {
     "data": {
      "text/plain": [
       "(Node\n",
       " (\n",
       " name : 'l',\n",
       " tensor : \n",
       " array([[[-1.],\n",
       "         [-1.],\n",
       "         [-1.]],\n",
       " \n",
       "        [[-1.],\n",
       "         [-1.],\n",
       "         [-1.]],\n",
       " \n",
       "        [[-1.],\n",
       "         [-1.],\n",
       "         [-1.]]]),\n",
       " edges : \n",
       " [\n",
       " Edge('l'[0] -> 'a'[0] )\n",
       " , \n",
       " Edge(Dangling Edge)[1] \n",
       " , \n",
       " Edge('l'[2] -> 'r'[0] )\n",
       " ] \n",
       " ),\n",
       " Node\n",
       " (\n",
       " name : 'r',\n",
       " tensor : \n",
       " array([[[-1., -1., -1.],\n",
       "         [-1., -1., -1.],\n",
       "         [-1., -1., -1.]]]),\n",
       " edges : \n",
       " [\n",
       " Edge('l'[2] -> 'r'[0] )\n",
       " , \n",
       " Edge(Dangling Edge)[1] \n",
       " , \n",
       " Edge(Dangling Edge)[2] \n",
       " ] \n",
       " ),\n",
       " array([0., 0., 0., 0., 0., 0., 0., 0.]))"
      ]
     },
     "execution_count": 176,
     "metadata": {},
     "output_type": "execute_result"
    }
   ],
   "source": [
    "test"
   ]
  },
  {
   "cell_type": "code",
   "execution_count": null,
   "metadata": {},
   "outputs": [],
   "source": []
  }
 ],
 "metadata": {
  "kernelspec": {
   "display_name": "Python 3",
   "language": "python",
   "name": "python3"
  },
  "language_info": {
   "codemirror_mode": {
    "name": "ipython",
    "version": 3
   },
   "file_extension": ".py",
   "mimetype": "text/x-python",
   "name": "python",
   "nbconvert_exporter": "python",
   "pygments_lexer": "ipython3",
   "version": "3.7.7"
  }
 },
 "nbformat": 4,
 "nbformat_minor": 4
}
