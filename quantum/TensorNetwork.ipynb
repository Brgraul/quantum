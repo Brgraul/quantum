{
 "cells": [
  {
   "cell_type": "code",
   "execution_count": 2,
   "metadata": {},
   "outputs": [],
   "source": [
    "import numpy as np\n",
    "from qiskit.quantum_info.operators.predicates import (is_hermitian_matrix,\n",
    "                                                      is_unitary_matrix)\n",
    "from scipy.linalg import expm\n",
    "import tensornetwork as tn"
   ]
  },
  {
   "cell_type": "code",
   "execution_count": 17,
   "metadata": {},
   "outputs": [],
   "source": [
    "n_weight = 16\n",
    "gates = 6\n",
    "\n",
    "weights = np.random.normal(size=(gates, n_weight))\n",
    "\n",
    "\n",
    "def unitary_from_hermitian(hermitian):\n",
    "    \"\"\"Generates a unitary matrix from a hermitian matrix.\n",
    "        The formula is U = e^(i*H).\n",
    "\n",
    "    Args:\n",
    "        hermitian: A hermitian matrix.\n",
    "\n",
    "    Returns:\n",
    "        unitary: The resulting unitarian matrix.\n",
    "\n",
    "    Raises:\n",
    "        AssertionError: If the resulting matrix is not unitarian.\n",
    "    \"\"\"\n",
    "    unitary = np.array(expm(1j * hermitian))\n",
    "    assert is_unitary_matrix(unitary)\n",
    "    return unitary\n",
    "\n",
    "\n",
    "def hermitian_from_weights(weights, dimension):\n",
    "    \"\"\"Generates a  complex hermitian matrix from a set of weights.\n",
    "        The hermitian is constructed by an upper triangle matrix which then is\n",
    "        added to its transpose. The first dimension weights are used for the real\n",
    "        diagonal values, the next values are used for the real parts of the upper\n",
    "        triangle the rest for the imaginarie parts.\n",
    "\n",
    "    Args:\n",
    "        weights: List of weights.\n",
    "        dimension: size of the matrix.\n",
    "\n",
    "    Returns:\n",
    "        hermitian: The resulting hermitian matrix.\n",
    "\n",
    "    Raises:\n",
    "        AssertionError: If the resulting matrix is not hermitian.\n",
    "    \"\"\"\n",
    "    diagonals = weights[:dimension]\n",
    "    dim = ((dimension**2 - dimension) // 2) + dimension\n",
    "    reals = weights[dimension:dim]\n",
    "    imaginaries = weights[dim:]\n",
    "    assert reals.shape == imaginaries.shape\n",
    "    diag = np.matrix(np.diag(diagonals))\n",
    "    hermitian = np.matrix(np.zeros((dimension, dimension), dtype=complex))\n",
    "\n",
    "    hermitian[np.triu_indices(dimension, 1)] = np.array(\n",
    "        [complex(a, b) for a, b in zip(reals, imaginaries)])\n",
    "    hermitian = hermitian + hermitian.H + diag  # tril and triu don't use the same ordering!\n",
    "    assert is_hermitian_matrix(hermitian)\n",
    "    return hermitian\n",
    "\n",
    "\n",
    "def unitaries_from_weights(weights, dimension=4):\n",
    "    \"\"\"Wrapper function to generate unitary matricies from weight list.\n",
    "\n",
    "    Args:\n",
    "        weights: The weights to transform.\n",
    "\n",
    "    Returns:\n",
    "        unitaries: The resulting list of unitary matrices.\n",
    "    \"\"\"\n",
    "    unitaries = []\n",
    "    for weight in weights:\n",
    "        unitaries.append(\n",
    "            unitary_from_hermitian(hermitian_from_weights(weight, dimension)))\n",
    "    return unitaries\n",
    "\n"
   ]
  },
  {
   "cell_type": "code",
   "execution_count": 284,
   "metadata": {},
   "outputs": [
    {
     "ename": "AssertionError",
     "evalue": "",
     "output_type": "error",
     "traceback": [
      "\u001b[0;31m---------------------------------------------------------------------------\u001b[0m",
      "\u001b[0;31mAssertionError\u001b[0m                            Traceback (most recent call last)",
      "\u001b[0;32m<ipython-input-284-4ae0b7916c6f>\u001b[0m in \u001b[0;36m<module>\u001b[0;34m\u001b[0m\n\u001b[0;32m----> 1\u001b[0;31m \u001b[0munitaries\u001b[0m \u001b[0;34m=\u001b[0m \u001b[0munitaries_from_weights\u001b[0m\u001b[0;34m(\u001b[0m\u001b[0mweights\u001b[0m\u001b[0;34m)\u001b[0m\u001b[0;34m\u001b[0m\u001b[0;34m\u001b[0m\u001b[0m\n\u001b[0m",
      "\u001b[0;32m<ipython-input-17-14bbf4719ec7>\u001b[0m in \u001b[0;36munitaries_from_weights\u001b[0;34m(weights, dimension)\u001b[0m\n\u001b[1;32m     67\u001b[0m     \u001b[0;32mfor\u001b[0m \u001b[0mweight\u001b[0m \u001b[0;32min\u001b[0m \u001b[0mweights\u001b[0m\u001b[0;34m:\u001b[0m\u001b[0;34m\u001b[0m\u001b[0;34m\u001b[0m\u001b[0m\n\u001b[1;32m     68\u001b[0m         unitaries.append(\n\u001b[0;32m---> 69\u001b[0;31m             unitary_from_hermitian(hermitian_from_weights(weight, dimension)))\n\u001b[0m\u001b[1;32m     70\u001b[0m     \u001b[0;32mreturn\u001b[0m \u001b[0munitaries\u001b[0m\u001b[0;34m\u001b[0m\u001b[0;34m\u001b[0m\u001b[0m\n\u001b[1;32m     71\u001b[0m \u001b[0;34m\u001b[0m\u001b[0m\n",
      "\u001b[0;32m<ipython-input-17-14bbf4719ec7>\u001b[0m in \u001b[0;36mhermitian_from_weights\u001b[0;34m(weights, dimension)\u001b[0m\n\u001b[1;32m     44\u001b[0m     \u001b[0mreals\u001b[0m \u001b[0;34m=\u001b[0m \u001b[0mweights\u001b[0m\u001b[0;34m[\u001b[0m\u001b[0mdimension\u001b[0m\u001b[0;34m:\u001b[0m\u001b[0mdim\u001b[0m\u001b[0;34m]\u001b[0m\u001b[0;34m\u001b[0m\u001b[0;34m\u001b[0m\u001b[0m\n\u001b[1;32m     45\u001b[0m     \u001b[0mimaginaries\u001b[0m \u001b[0;34m=\u001b[0m \u001b[0mweights\u001b[0m\u001b[0;34m[\u001b[0m\u001b[0mdim\u001b[0m\u001b[0;34m:\u001b[0m\u001b[0;34m]\u001b[0m\u001b[0;34m\u001b[0m\u001b[0;34m\u001b[0m\u001b[0m\n\u001b[0;32m---> 46\u001b[0;31m     \u001b[0;32massert\u001b[0m \u001b[0mreals\u001b[0m\u001b[0;34m.\u001b[0m\u001b[0mshape\u001b[0m \u001b[0;34m==\u001b[0m \u001b[0mimaginaries\u001b[0m\u001b[0;34m.\u001b[0m\u001b[0mshape\u001b[0m\u001b[0;34m\u001b[0m\u001b[0;34m\u001b[0m\u001b[0m\n\u001b[0m\u001b[1;32m     47\u001b[0m     \u001b[0mdiag\u001b[0m \u001b[0;34m=\u001b[0m \u001b[0mnp\u001b[0m\u001b[0;34m.\u001b[0m\u001b[0mmatrix\u001b[0m\u001b[0;34m(\u001b[0m\u001b[0mnp\u001b[0m\u001b[0;34m.\u001b[0m\u001b[0mdiag\u001b[0m\u001b[0;34m(\u001b[0m\u001b[0mdiagonals\u001b[0m\u001b[0;34m)\u001b[0m\u001b[0;34m)\u001b[0m\u001b[0;34m\u001b[0m\u001b[0;34m\u001b[0m\u001b[0m\n\u001b[1;32m     48\u001b[0m     \u001b[0mhermitian\u001b[0m \u001b[0;34m=\u001b[0m \u001b[0mnp\u001b[0m\u001b[0;34m.\u001b[0m\u001b[0mmatrix\u001b[0m\u001b[0;34m(\u001b[0m\u001b[0mnp\u001b[0m\u001b[0;34m.\u001b[0m\u001b[0mzeros\u001b[0m\u001b[0;34m(\u001b[0m\u001b[0;34m(\u001b[0m\u001b[0mdimension\u001b[0m\u001b[0;34m,\u001b[0m \u001b[0mdimension\u001b[0m\u001b[0;34m)\u001b[0m\u001b[0;34m,\u001b[0m \u001b[0mdtype\u001b[0m\u001b[0;34m=\u001b[0m\u001b[0mcomplex\u001b[0m\u001b[0;34m)\u001b[0m\u001b[0;34m)\u001b[0m\u001b[0;34m\u001b[0m\u001b[0;34m\u001b[0m\u001b[0m\n",
      "\u001b[0;31mAssertionError\u001b[0m: "
     ]
    }
   ],
   "source": [
    "unitaries = unitaries_from_weights(weights)"
   ]
  },
  {
   "cell_type": "code",
   "execution_count": 294,
   "metadata": {},
   "outputs": [
    {
     "data": {
      "text/plain": [
       "[8, 4, 2, 1]"
      ]
     },
     "execution_count": 294,
     "metadata": {},
     "output_type": "execute_result"
    }
   ],
   "source": [
    "input_length = 16\n",
    "v = 1\n",
    "\n",
    "gates_per_step = []\n",
    "gates_per_step.append(input_length // (2**v))\n",
    "\n",
    "dimension = 4**v\n",
    "\n",
    "steps = int(np.log2(gates_per_step[0])) + 1 # +1 as we added the first step already\n",
    "\n",
    "for i in range(1, steps):\n",
    "    gates_per_step.append(gates_per_step[i-1]//2)\n",
    "gates_per_step"
   ]
  },
  {
   "cell_type": "code",
   "execution_count": 295,
   "metadata": {},
   "outputs": [],
   "source": [
    "weights = np.random.normal(size=(int(sum(gates_per_step)), 2**(4*v)))"
   ]
  },
  {
   "cell_type": "code",
   "execution_count": 296,
   "metadata": {},
   "outputs": [],
   "source": [
    "unitaries = unitaries_from_weights(weights, dimension)"
   ]
  },
  {
   "cell_type": "code",
   "execution_count": 297,
   "metadata": {},
   "outputs": [],
   "source": [
    "# Generating an artificial image\n",
    "\n",
    "dim = 4\n",
    "data = np.random.normal(size=(dim**2))"
   ]
  },
  {
   "cell_type": "code",
   "execution_count": 298,
   "metadata": {},
   "outputs": [],
   "source": [
    "# Preparing the unitary matrixes in the tensor network\n",
    "tensor_network = []\n",
    "\n",
    "redistribute_indexes = [2 for i in range(int(np.log2(unitaries[0].size)))]\n",
    "\n",
    "for i, unitary in enumerate(unitaries):\n",
    "    tensor_network.append(tn.Node(unitary.reshape(redistribute_indexes), name=f'unitary_{i}'))\n",
    "    tensor_network.append(tn.Node(unitary.conjugate().T.reshape(redistribute_indexes), name=f'unitary_{i+1}'))"
   ]
  },
  {
   "cell_type": "code",
   "execution_count": 299,
   "metadata": {},
   "outputs": [],
   "source": [
    "# Preparing the tensors holding the data and connecting their edges to the unitary tensors\n",
    "\n",
    "feature_map = np.zeros((data.shape[0], 2))\n",
    "tensor_data = []\n",
    "\n",
    "for i in range(gates_per_step[0]):\n",
    "    for k in range(2*v):\n",
    "        l = i*2*v+k # Index in the input data array of length dim**2x1 \n",
    "        idx= 2*i*2*v+k # Index in the array of dual and non-dual vectors of length 2*dim**2x1\n",
    "        feature_map[l][0] = np.cos(np.pi / 2 * data[l])\n",
    "        feature_map[l][1] = np.sin(np.pi / 2 * data[l])\n",
    "        tensor_data.append(tn.Node(feature_map[l], name=f'data_{idx}'))\n",
    "        # print(f'Normal unitary_id:{2*i} tensor_data:{idx}')\n",
    "        tensor_network[2*i][k]^tensor_data[idx][0]\n",
    "        \n",
    "    for k in range(2*v):\n",
    "        l = i*2*v+k\n",
    "        idx= 2*i*2*v+k\n",
    "        # print(f'H unitary_id:{2*i+1} tensor_data_h:{idx+2*v}')\n",
    "        tensor_data.append(tn.Node(feature_map[l].T, name=f'data_h_{idx}'))\n",
    "        tensor_network[2*i+1][k]^tensor_data[idx+2*v][0]"
   ]
  },
  {
   "cell_type": "code",
   "execution_count": 300,
   "metadata": {},
   "outputs": [],
   "source": [
    "# Cummulative gates in a given step\n",
    "c_gates = [0]  \n",
    "\n",
    "sum_ = 0 \n",
    "for i in range(len(gates_per_step)):\n",
    "    sum_ += 2*gates_per_step[i]\n",
    "    c_gates.append(sum_)"
   ]
  },
  {
   "cell_type": "code",
   "execution_count": 302,
   "metadata": {},
   "outputs": [
    {
     "name": "stdout",
     "output_type": "stream",
     "text": [
      "Unitary_id:0 Unitary_next_id:16 thru edge:3->0\n",
      "\n",
      "Unitary_H_id:1 Unitary_H_next_id:17 thru edge:3->0\n",
      "\n",
      "Unitary_id:2 Unitary_next_id:16 thru edge:3->1\n",
      "\n",
      "Unitary_H_id:3 Unitary_H_next_id:17 thru edge:3->1\n",
      "\n",
      "Unitary_id:4 Unitary_next_id:18 thru edge:3->0\n",
      "\n",
      "Unitary_H_id:5 Unitary_H_next_id:19 thru edge:3->0\n",
      "\n",
      "Unitary_id:6 Unitary_next_id:18 thru edge:3->1\n",
      "\n",
      "Unitary_H_id:7 Unitary_H_next_id:19 thru edge:3->1\n",
      "\n",
      "Unitary_id:8 Unitary_next_id:20 thru edge:3->0\n",
      "\n",
      "Unitary_H_id:9 Unitary_H_next_id:21 thru edge:3->0\n",
      "\n",
      "Unitary_id:10 Unitary_next_id:20 thru edge:3->1\n",
      "\n",
      "Unitary_H_id:11 Unitary_H_next_id:21 thru edge:3->1\n",
      "\n",
      "Unitary_id:12 Unitary_next_id:22 thru edge:3->0\n",
      "\n",
      "Unitary_H_id:13 Unitary_H_next_id:23 thru edge:3->0\n",
      "\n",
      "Unitary_id:14 Unitary_next_id:22 thru edge:3->1\n",
      "\n",
      "Unitary_H_id:15 Unitary_H_next_id:23 thru edge:3->1\n",
      "\n",
      "Unitary_id:16 Unitary_next_id:24 thru edge:3->0\n",
      "\n",
      "Unitary_H_id:17 Unitary_H_next_id:25 thru edge:3->0\n",
      "\n",
      "Unitary_id:18 Unitary_next_id:24 thru edge:3->1\n",
      "\n",
      "Unitary_H_id:19 Unitary_H_next_id:25 thru edge:3->1\n",
      "\n",
      "Unitary_id:20 Unitary_next_id:26 thru edge:3->0\n",
      "\n",
      "Unitary_H_id:21 Unitary_H_next_id:27 thru edge:3->0\n",
      "\n",
      "Unitary_id:22 Unitary_next_id:26 thru edge:3->1\n",
      "\n",
      "Unitary_H_id:23 Unitary_H_next_id:27 thru edge:3->1\n",
      "\n",
      "Unitary_id:24 Unitary_next_id:28 thru edge:3->0\n",
      "\n",
      "Unitary_H_id:25 Unitary_H_next_id:29 thru edge:3->0\n",
      "\n",
      "Unitary_id:26 Unitary_next_id:28 thru edge:3->1\n",
      "\n",
      "Unitary_H_id:27 Unitary_H_next_id:29 thru edge:3->1\n",
      "\n"
     ]
    }
   ],
   "source": [
    "idx = 0\n",
    "for i in range(steps-1): # Last execution is peeled off, as there's no 'next tensor' to link\n",
    "    for j in range(gates_per_step[i]):\n",
    "        # Within a given gate\n",
    "        gate_idx = 2*j+c_gates[i]\n",
    "        for k in range(v):\n",
    "            tensor_network[gate_idx][2*v+k] ^ tensor_network[gate_idx+1][2*v+k]\n",
    "            # print(f'Unitary_id:{gate_idx} Unitary_H_id:{gate_idx+1} thru edge:{2*v+k}->{2*v+k}\\n')\n",
    "        for k in range(v):\n",
    "            print(f'Unitary_id:{gate_idx} Unitary_next_id:{((gate_idx-c_gates[i])//4)*2+c_gates[i+1]} thru edge:{k+3*v}->{((gate_idx//2)%2)*v+k}\\n')\n",
    "            print(f'Unitary_H_id:{gate_idx+1} Unitary_H_next_id:{((gate_idx-c_gates[i])//4)*2+c_gates[i+1]+1} thru edge:{k+3*v}->{((gate_idx//2)%2)*v+k}\\n')\n",
    "            tensor_network[gate_idx][k+3*v] ^ tensor_network[((gate_idx-c_gates[i])//4)*2+c_gates[i+1]][((gate_idx//2)%2)*v+k] \n",
    "            tensor_network[gate_idx+1][k+3*v] ^ tensor_network[((gate_idx-c_gates[i])//4)*2+c_gates[i+1]+1][((gate_idx//2)%2)*v+k]"
   ]
  },
  {
   "cell_type": "code",
   "execution_count": 304,
   "metadata": {},
   "outputs": [
    {
     "name": "stdout",
     "output_type": "stream",
     "text": [
      "Unitary_id:28 Unitary_H_id:29 thru edge:2->2\n",
      "\n"
     ]
    }
   ],
   "source": [
    "# Contracting the last tensor in the network\n",
    "gate_idx = c_gates[-2] # Remember we appended an offset 0, thus -2 instead of -1\n",
    "for k in range((2*v)-1):\n",
    "    tensor_network[gate_idx][2*v+k] ^ tensor_network[gate_idx+1][2*v+k]\n",
    "    print(f'Unitary_id:{gate_idx} Unitary_H_id:{gate_idx+1} thru edge:{2*v+k}->{2*v+k}\\n')"
   ]
  },
  {
   "cell_type": "code",
   "execution_count": null,
   "metadata": {},
   "outputs": [],
   "source": [
    "result = tn.contractors.auto(tensor_network, ignore_edge_order=True)"
   ]
  }
 ],
 "metadata": {
  "kernelspec": {
   "display_name": "Python 3",
   "language": "python",
   "name": "python3"
  },
  "language_info": {
   "codemirror_mode": {
    "name": "ipython",
    "version": 3
   },
   "file_extension": ".py",
   "mimetype": "text/x-python",
   "name": "python",
   "nbconvert_exporter": "python",
   "pygments_lexer": "ipython3",
   "version": "3.7.7"
  }
 },
 "nbformat": 4,
 "nbformat_minor": 4
}
