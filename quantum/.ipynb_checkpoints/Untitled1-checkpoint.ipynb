{
 "cells": [
  {
   "cell_type": "code",
   "execution_count": 4,
   "metadata": {},
   "outputs": [],
   "source": [
    "import numpy as np\n",
    "from qiskit.quantum_info.operators.predicates import (is_hermitian_matrix,\n",
    "                                                      is_unitary_matrix)\n",
    "from scipy.linalg import expm\n",
    "import tensornetwork as tn"
   ]
  },
  {
   "cell_type": "code",
   "execution_count": 98,
   "metadata": {},
   "outputs": [],
   "source": [
    "n_weight = 16\n",
    "gates = 6\n",
    "\n",
    "weights = np.random.normal(size=(gates, n_weight))\n",
    "\n",
    "\n",
    "def unitary_from_hermitian(hermitian):\n",
    "    \"\"\"Generates a unitary matrix from a hermitian matrix.\n",
    "        The formula is U = e^(i*H).\n",
    "\n",
    "    Args:\n",
    "        hermitian: A hermitian matrix.\n",
    "\n",
    "    Returns:\n",
    "        unitary: The resulting unitarian matrix.\n",
    "\n",
    "    Raises:\n",
    "        AssertionError: If the resulting matrix is not unitarian.\n",
    "    \"\"\"\n",
    "    unitary = np.matrix(expm(1j * hermitian))\n",
    "    assert is_unitary_matrix(unitary)\n",
    "    return unitary\n",
    "\n",
    "\n",
    "def hermitian_from_weights(weights, dimension):\n",
    "    \"\"\"Generates a  complex hermitian matrix from a set of weights.\n",
    "        The hermitian is constructed by an upper triangle matrix which then is\n",
    "        added to its transpose. The first dimension weights are used for the real\n",
    "        diagonal values, the next values are used for the real parts of the upper\n",
    "        triangle the rest for the imaginarie parts.\n",
    "\n",
    "    Args:\n",
    "        weights: List of weights.\n",
    "        dimension: size of the matrix.\n",
    "\n",
    "    Returns:\n",
    "        hermitian: The resulting hermitian matrix.\n",
    "\n",
    "    Raises:\n",
    "        AssertionError: If the resulting matrix is not hermitian.\n",
    "    \"\"\"\n",
    "    diagonals = weights[:dimension]\n",
    "    dim = ((dimension**2 - dimension) // 2) + dimension\n",
    "    reals = weights[dimension:dim]\n",
    "    #print('reals \\n')\n",
    "    #print(reals)\n",
    "\n",
    "    imaginaries = weights[dim:]\n",
    "    \n",
    "    #print('imaginaries \\n')\n",
    "    #print(imaginaries)\n",
    "    assert reals.shape == imaginaries.shape\n",
    "    diag = np.matrix(np.diag(diagonals))\n",
    "    hermitian = np.matrix(np.zeros((dimension, dimension), dtype=complex))\n",
    "\n",
    "    hermitian[np.triu_indices(dimension, 1)] = np.array(\n",
    "        [complex(a, b) for a, b in zip(reals, imaginaries)])\n",
    "    hermitian = hermitian + hermitian.H + diag  # tril and triu don't use the same ordering!\n",
    "    print(hermitian)\n",
    "    assert is_hermitian_matrix(hermitian)\n",
    "    return hermitian\n",
    "\n",
    "\n",
    "def unitaries_from_weights(weights, dimension=4):\n",
    "    \"\"\"Wrapper function to generate unitary matricies from weight list.\n",
    "\n",
    "    Args:\n",
    "        weights: The weights to transform.\n",
    "\n",
    "    Returns:\n",
    "        unitaries: The resulting list of unitary matrices.\n",
    "    \"\"\"\n",
    "    unitaries = []\n",
    "    for weight in weights:\n",
    "        unitaries.append(\n",
    "            unitary_from_hermitian(hermitian_from_weights(weight, dimension)))\n",
    "    return unitaries\n",
    "\n"
   ]
  },
  {
   "cell_type": "code",
   "execution_count": 99,
   "metadata": {},
   "outputs": [
    {
     "name": "stdout",
     "output_type": "stream",
     "text": [
      "[[-0.1995558 +0.j         -0.47479492-1.27758312j -1.38384924-0.70798348j\n",
      "   1.01804742-0.38050194j]\n",
      " [-0.47479492+1.27758312j  2.19548732+0.j          0.38189194+0.70758684j\n",
      "   0.03728327-0.49455754j]\n",
      " [-1.38384924+0.70798348j  0.38189194-0.70758684j  1.06474008+0.j\n",
      "   1.02093801+0.78300591j]\n",
      " [ 1.01804742+0.38050194j  0.03728327+0.49455754j  1.02093801-0.78300591j\n",
      "   0.58705447+0.j        ]]\n",
      "[[ 0.81258276+0.j          0.22134841-0.57358612j -0.95037705+0.05651205j\n",
      "   2.1027938 +1.21879841j]\n",
      " [ 0.22134841+0.57358612j -0.92811611+0.j          0.54987191+0.00250257j\n",
      "   0.24449913+0.34140892j]\n",
      " [-0.95037705-0.05651205j  0.54987191-0.00250257j  0.73762554+0.j\n",
      "  -0.12699399+1.32622484j]\n",
      " [ 2.1027938 -1.21879841j  0.24449913-0.34140892j -0.12699399-1.32622484j\n",
      "   0.50631984+0.j        ]]\n",
      "[[-8.05331454e-01+0.j         -8.53725468e-01+0.0243742j\n",
      "  -1.82389538e+00+1.42753131j -9.14724717e-02-0.62311081j]\n",
      " [-8.53725468e-01-0.0243742j   1.41938345e+00+0.j\n",
      "  -8.23009374e-02+1.25103873j -7.23934269e-01-0.11087658j]\n",
      " [-1.82389538e+00-1.42753131j -8.23009374e-02-1.25103873j\n",
      "   1.23445100e-03+0.j         -9.66305768e-01+1.17516142j]\n",
      " [-9.14724717e-02+0.62311081j -7.23934269e-01+0.11087658j\n",
      "  -9.66305768e-01-1.17516142j -8.21542521e-01+0.j        ]]\n",
      "[[-1.99857718+0.j          2.0762216 -0.51542639j  0.40083179-0.52342346j\n",
      "   0.8316028 -1.21020062j]\n",
      " [ 2.0762216 +0.51542639j  0.18924919+0.j          0.44296295-1.17954419j\n",
      "   0.46371164-0.85006641j]\n",
      " [ 0.40083179+0.52342346j  0.44296295+1.17954419j -0.12583677+0.j\n",
      "   0.01135802+0.31387573j]\n",
      " [ 0.8316028 +1.21020062j  0.46371164+0.85006641j  0.01135802-0.31387573j\n",
      "   1.84606244+0.j        ]]\n",
      "[[-0.01753901+0.j          0.95328847-0.74993558j -1.92306823+0.3674385j\n",
      "   0.13299482-1.60715008j]\n",
      " [ 0.95328847+0.74993558j -1.06975856+0.j          0.72540492+0.32270288j\n",
      "   1.02699686+0.38365264j]\n",
      " [-1.92306823-0.3674385j   0.72540492-0.32270288j  0.43694062+0.j\n",
      "  -1.39103234+2.23676862j]\n",
      " [ 0.13299482+1.60715008j  1.02699686-0.38365264j -1.39103234-2.23676862j\n",
      "  -2.34535209+0.j        ]]\n",
      "[[ 0.83673489+0.j         -0.09229817-0.05765299j  0.60137757-0.05278512j\n",
      "   0.5690906 +1.07643948j]\n",
      " [-0.09229817+0.05765299j  0.13691984+0.j          1.37626781+0.15382979j\n",
      "   1.43934026+1.65250698j]\n",
      " [ 0.60137757+0.05278512j  1.37626781-0.15382979j -0.81437373+0.j\n",
      "   0.68763775-1.68093176j]\n",
      " [ 0.5690906 -1.07643948j  1.43934026-1.65250698j  0.68763775+1.68093176j\n",
      "   1.51389674+0.j        ]]\n"
     ]
    }
   ],
   "source": [
    "unitaries = unitaries_from_weights(weights)"
   ]
  },
  {
   "cell_type": "code",
   "execution_count": 79,
   "metadata": {},
   "outputs": [],
   "source": [
    "qubits = 16\n",
    "v = 1\n",
    "dimension = 4**v\n",
    "steps = int(np.log2(qubits))-1\n",
    "gates_per_step = []\n",
    "for i in range(1, steps + 1):\n",
    "    gates_per_step.append((qubits // 2) //(2 ** i))"
   ]
  },
  {
   "cell_type": "code",
   "execution_count": 80,
   "metadata": {},
   "outputs": [],
   "source": [
    "weights = np.random.normal(size=(int(sum(gates_per_step)), 2**(4*v)))\n"
   ]
  },
  {
   "cell_type": "code",
   "execution_count": 81,
   "metadata": {},
   "outputs": [],
   "source": [
    "unitaries = unitaries_from_weights(weights, dimension)"
   ]
  },
  {
   "cell_type": "code",
   "execution_count": 82,
   "metadata": {},
   "outputs": [],
   "source": [
    "a = tn.Node(unitaries[0]) \n",
    "b = tn.Node(unitaries[0].H) \n",
    "edge = a[0]^b[0]"
   ]
  },
  {
   "cell_type": "code",
   "execution_count": 83,
   "metadata": {},
   "outputs": [
    {
     "name": "stdout",
     "output_type": "stream",
     "text": [
      "[[ 0.32563409+0.35280621j  0.493927  -0.56441808j -0.16091646-0.21077943j\n",
      "   0.01472209-0.36935044j]\n",
      " [ 0.21801692+0.19721926j -0.22403201+0.26097618j  0.10532949+0.54039844j\n",
      "   0.22947993-0.66293926j]\n",
      " [ 0.3187259 -0.02810395j -0.2802303 -0.18658812j  0.64859342-0.35057199j\n",
      "   0.48007455+0.10116376j]\n",
      " [-0.64986312+0.39795138j -0.35626049-0.28089812j  0.23977464-0.15964688j\n",
      "  -0.24744418-0.2632104j ]]\n"
     ]
    }
   ],
   "source": [
    "c = tn.contract(edge)\n",
    "print(c.tensor)"
   ]
  },
  {
   "cell_type": "code",
   "execution_count": 20,
   "metadata": {},
   "outputs": [
    {
     "name": "stdout",
     "output_type": "stream",
     "text": [
      "(16, 16)\n"
     ]
    },
    {
     "ename": "IndexError",
     "evalue": "list index out of range",
     "output_type": "error",
     "traceback": [
      "\u001b[0;31m---------------------------------------------------------------------------\u001b[0m",
      "\u001b[0;31mIndexError\u001b[0m                                Traceback (most recent call last)",
      "\u001b[0;32m<ipython-input-20-9e9379ebe61d>\u001b[0m in \u001b[0;36m<module>\u001b[0;34m\u001b[0m\n\u001b[1;32m      1\u001b[0m \u001b[0mprint\u001b[0m\u001b[0;34m(\u001b[0m\u001b[0mc\u001b[0m\u001b[0;34m.\u001b[0m\u001b[0mtensor\u001b[0m\u001b[0;34m.\u001b[0m\u001b[0mshape\u001b[0m\u001b[0;34m)\u001b[0m\u001b[0;34m\u001b[0m\u001b[0;34m\u001b[0m\u001b[0m\n\u001b[1;32m      2\u001b[0m \u001b[0;32mfor\u001b[0m \u001b[0medge\u001b[0m \u001b[0;32min\u001b[0m \u001b[0ma\u001b[0m\u001b[0;34m:\u001b[0m\u001b[0;34m\u001b[0m\u001b[0;34m\u001b[0m\u001b[0m\n\u001b[0;32m----> 3\u001b[0;31m     \u001b[0mprint\u001b[0m\u001b[0;34m(\u001b[0m\u001b[0;34mf\"The type of a[{i}] is:\"\u001b[0m\u001b[0;34m,\u001b[0m \u001b[0mtype\u001b[0m\u001b[0;34m(\u001b[0m\u001b[0ma\u001b[0m\u001b[0;34m[\u001b[0m\u001b[0mi\u001b[0m\u001b[0;34m]\u001b[0m\u001b[0;34m)\u001b[0m\u001b[0;34m)\u001b[0m\u001b[0;34m\u001b[0m\u001b[0;34m\u001b[0m\u001b[0m\n\u001b[0m",
      "\u001b[0;32m~/Desktop/CSE/SS20/quantum_seminar/quantum/venv/lib/python3.7/site-packages/tensornetwork/network_components.py\u001b[0m in \u001b[0;36m__getitem__\u001b[0;34m(self, key)\u001b[0m\n\u001b[1;32m    370\u001b[0m     \u001b[0;32mif\u001b[0m \u001b[0misinstance\u001b[0m\u001b[0;34m(\u001b[0m\u001b[0mkey\u001b[0m\u001b[0;34m,\u001b[0m \u001b[0mslice\u001b[0m\u001b[0;34m)\u001b[0m\u001b[0;34m:\u001b[0m\u001b[0;34m\u001b[0m\u001b[0;34m\u001b[0m\u001b[0m\n\u001b[1;32m    371\u001b[0m       \u001b[0;32mreturn\u001b[0m \u001b[0mself\u001b[0m\u001b[0;34m.\u001b[0m\u001b[0medges\u001b[0m\u001b[0;34m[\u001b[0m\u001b[0mkey\u001b[0m\u001b[0;34m]\u001b[0m\u001b[0;34m\u001b[0m\u001b[0;34m\u001b[0m\u001b[0m\n\u001b[0;32m--> 372\u001b[0;31m     \u001b[0;32mreturn\u001b[0m \u001b[0mself\u001b[0m\u001b[0;34m.\u001b[0m\u001b[0mget_edge\u001b[0m\u001b[0;34m(\u001b[0m\u001b[0mkey\u001b[0m\u001b[0;34m)\u001b[0m\u001b[0;34m\u001b[0m\u001b[0;34m\u001b[0m\u001b[0m\n\u001b[0m\u001b[1;32m    373\u001b[0m \u001b[0;34m\u001b[0m\u001b[0m\n\u001b[1;32m    374\u001b[0m   \u001b[0;32mdef\u001b[0m \u001b[0m__str__\u001b[0m\u001b[0;34m(\u001b[0m\u001b[0mself\u001b[0m\u001b[0;34m)\u001b[0m \u001b[0;34m->\u001b[0m \u001b[0mText\u001b[0m\u001b[0;34m:\u001b[0m\u001b[0;34m\u001b[0m\u001b[0;34m\u001b[0m\u001b[0m\n",
      "\u001b[0;32m~/Desktop/CSE/SS20/quantum_seminar/quantum/venv/lib/python3.7/site-packages/tensornetwork/network_components.py\u001b[0m in \u001b[0;36mget_edge\u001b[0;34m(self, axis)\u001b[0m\n\u001b[1;32m    327\u001b[0m   \u001b[0;32mdef\u001b[0m \u001b[0mget_edge\u001b[0m\u001b[0;34m(\u001b[0m\u001b[0mself\u001b[0m\u001b[0;34m,\u001b[0m \u001b[0maxis\u001b[0m\u001b[0;34m:\u001b[0m \u001b[0mUnion\u001b[0m\u001b[0;34m[\u001b[0m\u001b[0mint\u001b[0m\u001b[0;34m,\u001b[0m \u001b[0mText\u001b[0m\u001b[0;34m]\u001b[0m\u001b[0;34m)\u001b[0m \u001b[0;34m->\u001b[0m \u001b[0;34m\"Edge\"\u001b[0m\u001b[0;34m:\u001b[0m\u001b[0;34m\u001b[0m\u001b[0;34m\u001b[0m\u001b[0m\n\u001b[1;32m    328\u001b[0m     \u001b[0maxis_num\u001b[0m \u001b[0;34m=\u001b[0m \u001b[0mself\u001b[0m\u001b[0;34m.\u001b[0m\u001b[0mget_axis_number\u001b[0m\u001b[0;34m(\u001b[0m\u001b[0maxis\u001b[0m\u001b[0;34m)\u001b[0m\u001b[0;34m\u001b[0m\u001b[0;34m\u001b[0m\u001b[0m\n\u001b[0;32m--> 329\u001b[0;31m     \u001b[0;32mreturn\u001b[0m \u001b[0mself\u001b[0m\u001b[0;34m.\u001b[0m\u001b[0medges\u001b[0m\u001b[0;34m[\u001b[0m\u001b[0maxis_num\u001b[0m\u001b[0;34m]\u001b[0m\u001b[0;34m\u001b[0m\u001b[0;34m\u001b[0m\u001b[0m\n\u001b[0m\u001b[1;32m    330\u001b[0m \u001b[0;34m\u001b[0m\u001b[0m\n\u001b[1;32m    331\u001b[0m   \u001b[0;32mdef\u001b[0m \u001b[0mget_all_edges\u001b[0m\u001b[0;34m(\u001b[0m\u001b[0mself\u001b[0m\u001b[0;34m)\u001b[0m \u001b[0;34m->\u001b[0m \u001b[0mList\u001b[0m\u001b[0;34m[\u001b[0m\u001b[0;34m\"Edge\"\u001b[0m\u001b[0;34m]\u001b[0m\u001b[0;34m:\u001b[0m\u001b[0;34m\u001b[0m\u001b[0;34m\u001b[0m\u001b[0m\n",
      "\u001b[0;31mIndexError\u001b[0m: list index out of range"
     ]
    }
   ],
   "source": [
    "print(c.tensor.shape)\n",
    "for edge in a:\n",
    "    print(f\"The type of a[{i}] is:\", type(a[i]))"
   ]
  },
  {
   "cell_type": "code",
   "execution_count": 23,
   "metadata": {},
   "outputs": [
    {
     "ename": "IndexError",
     "evalue": "list index out of range",
     "output_type": "error",
     "traceback": [
      "\u001b[0;31m---------------------------------------------------------------------------\u001b[0m",
      "\u001b[0;31mIndexError\u001b[0m                                Traceback (most recent call last)",
      "\u001b[0;32m<ipython-input-23-fc907be37984>\u001b[0m in \u001b[0;36m<module>\u001b[0;34m\u001b[0m\n\u001b[0;32m----> 1\u001b[0;31m \u001b[0ma\u001b[0m\u001b[0;34m[\u001b[0m\u001b[0;36m2\u001b[0m\u001b[0;34m]\u001b[0m\u001b[0;34m\u001b[0m\u001b[0;34m\u001b[0m\u001b[0m\n\u001b[0m",
      "\u001b[0;32m~/Desktop/CSE/SS20/quantum_seminar/quantum/venv/lib/python3.7/site-packages/tensornetwork/network_components.py\u001b[0m in \u001b[0;36m__getitem__\u001b[0;34m(self, key)\u001b[0m\n\u001b[1;32m    370\u001b[0m     \u001b[0;32mif\u001b[0m \u001b[0misinstance\u001b[0m\u001b[0;34m(\u001b[0m\u001b[0mkey\u001b[0m\u001b[0;34m,\u001b[0m \u001b[0mslice\u001b[0m\u001b[0;34m)\u001b[0m\u001b[0;34m:\u001b[0m\u001b[0;34m\u001b[0m\u001b[0;34m\u001b[0m\u001b[0m\n\u001b[1;32m    371\u001b[0m       \u001b[0;32mreturn\u001b[0m \u001b[0mself\u001b[0m\u001b[0;34m.\u001b[0m\u001b[0medges\u001b[0m\u001b[0;34m[\u001b[0m\u001b[0mkey\u001b[0m\u001b[0;34m]\u001b[0m\u001b[0;34m\u001b[0m\u001b[0;34m\u001b[0m\u001b[0m\n\u001b[0;32m--> 372\u001b[0;31m     \u001b[0;32mreturn\u001b[0m \u001b[0mself\u001b[0m\u001b[0;34m.\u001b[0m\u001b[0mget_edge\u001b[0m\u001b[0;34m(\u001b[0m\u001b[0mkey\u001b[0m\u001b[0;34m)\u001b[0m\u001b[0;34m\u001b[0m\u001b[0;34m\u001b[0m\u001b[0m\n\u001b[0m\u001b[1;32m    373\u001b[0m \u001b[0;34m\u001b[0m\u001b[0m\n\u001b[1;32m    374\u001b[0m   \u001b[0;32mdef\u001b[0m \u001b[0m__str__\u001b[0m\u001b[0;34m(\u001b[0m\u001b[0mself\u001b[0m\u001b[0;34m)\u001b[0m \u001b[0;34m->\u001b[0m \u001b[0mText\u001b[0m\u001b[0;34m:\u001b[0m\u001b[0;34m\u001b[0m\u001b[0;34m\u001b[0m\u001b[0m\n",
      "\u001b[0;32m~/Desktop/CSE/SS20/quantum_seminar/quantum/venv/lib/python3.7/site-packages/tensornetwork/network_components.py\u001b[0m in \u001b[0;36mget_edge\u001b[0;34m(self, axis)\u001b[0m\n\u001b[1;32m    327\u001b[0m   \u001b[0;32mdef\u001b[0m \u001b[0mget_edge\u001b[0m\u001b[0;34m(\u001b[0m\u001b[0mself\u001b[0m\u001b[0;34m,\u001b[0m \u001b[0maxis\u001b[0m\u001b[0;34m:\u001b[0m \u001b[0mUnion\u001b[0m\u001b[0;34m[\u001b[0m\u001b[0mint\u001b[0m\u001b[0;34m,\u001b[0m \u001b[0mText\u001b[0m\u001b[0;34m]\u001b[0m\u001b[0;34m)\u001b[0m \u001b[0;34m->\u001b[0m \u001b[0;34m\"Edge\"\u001b[0m\u001b[0;34m:\u001b[0m\u001b[0;34m\u001b[0m\u001b[0;34m\u001b[0m\u001b[0m\n\u001b[1;32m    328\u001b[0m     \u001b[0maxis_num\u001b[0m \u001b[0;34m=\u001b[0m \u001b[0mself\u001b[0m\u001b[0;34m.\u001b[0m\u001b[0mget_axis_number\u001b[0m\u001b[0;34m(\u001b[0m\u001b[0maxis\u001b[0m\u001b[0;34m)\u001b[0m\u001b[0;34m\u001b[0m\u001b[0;34m\u001b[0m\u001b[0m\n\u001b[0;32m--> 329\u001b[0;31m     \u001b[0;32mreturn\u001b[0m \u001b[0mself\u001b[0m\u001b[0;34m.\u001b[0m\u001b[0medges\u001b[0m\u001b[0;34m[\u001b[0m\u001b[0maxis_num\u001b[0m\u001b[0;34m]\u001b[0m\u001b[0;34m\u001b[0m\u001b[0;34m\u001b[0m\u001b[0m\n\u001b[0m\u001b[1;32m    330\u001b[0m \u001b[0;34m\u001b[0m\u001b[0m\n\u001b[1;32m    331\u001b[0m   \u001b[0;32mdef\u001b[0m \u001b[0mget_all_edges\u001b[0m\u001b[0;34m(\u001b[0m\u001b[0mself\u001b[0m\u001b[0;34m)\u001b[0m \u001b[0;34m->\u001b[0m \u001b[0mList\u001b[0m\u001b[0;34m[\u001b[0m\u001b[0;34m\"Edge\"\u001b[0m\u001b[0;34m]\u001b[0m\u001b[0;34m:\u001b[0m\u001b[0;34m\u001b[0m\u001b[0;34m\u001b[0m\u001b[0m\n",
      "\u001b[0;31mIndexError\u001b[0m: list index out of range"
     ]
    }
   ],
   "source": [
    "a[2]"
   ]
  },
  {
   "cell_type": "code",
   "execution_count": 24,
   "metadata": {},
   "outputs": [
    {
     "data": {
      "text/plain": [
       "[\n",
       " Edge(Dangling Edge)[0] ,\n",
       " \n",
       " Edge(Dangling Edge)[1] ]"
      ]
     },
     "execution_count": 24,
     "metadata": {},
     "output_type": "execute_result"
    }
   ],
   "source": [
    "a.edges"
   ]
  },
  {
   "cell_type": "code",
   "execution_count": 46,
   "metadata": {},
   "outputs": [],
   "source": [
    "b = tn.Node(np.ones([5,5,5,5])) \n",
    "d = tn.Node(np.ones([5,5,5,5])) "
   ]
  },
  {
   "cell_type": "code",
   "execution_count": 47,
   "metadata": {},
   "outputs": [],
   "source": [
    "for i in range(4):\n",
    "    b[i]^d[i]"
   ]
  },
  {
   "cell_type": "code",
   "execution_count": 49,
   "metadata": {},
   "outputs": [
    {
     "ename": "TypeError",
     "evalue": "Node name should be str type",
     "output_type": "error",
     "traceback": [
      "\u001b[0;31m---------------------------------------------------------------------------\u001b[0m",
      "\u001b[0;31mTypeError\u001b[0m                                 Traceback (most recent call last)",
      "\u001b[0;32m<ipython-input-49-13bcc8adb365>\u001b[0m in \u001b[0;36m<module>\u001b[0;34m\u001b[0m\n\u001b[0;32m----> 1\u001b[0;31m \u001b[0mresult\u001b[0m \u001b[0;34m=\u001b[0m \u001b[0mtn\u001b[0m\u001b[0;34m.\u001b[0m\u001b[0mcontract\u001b[0m\u001b[0;34m(\u001b[0m\u001b[0medges\u001b[0m\u001b[0;34m[\u001b[0m\u001b[0;36m0\u001b[0m\u001b[0;34m]\u001b[0m\u001b[0;34m,\u001b[0m \u001b[0medges\u001b[0m\u001b[0;34m[\u001b[0m\u001b[0;36m1\u001b[0m\u001b[0;34m]\u001b[0m\u001b[0;34m)\u001b[0m\u001b[0;34m\u001b[0m\u001b[0;34m\u001b[0m\u001b[0m\n\u001b[0m",
      "\u001b[0;32m~/Desktop/CSE/SS20/quantum_seminar/quantum/venv/lib/python3.7/site-packages/tensornetwork/network_components.py\u001b[0m in \u001b[0;36mcontract\u001b[0;34m(edge, name, axis_names)\u001b[0m\n\u001b[1;32m   1820\u001b[0m                                  [[edge.axis1], [edge.axis2]])\n\u001b[1;32m   1821\u001b[0m   new_node = Node(\n\u001b[0;32m-> 1822\u001b[0;31m       tensor=new_tensor, name=name, axis_names=axis_names, backend=backend.name)\n\u001b[0m\u001b[1;32m   1823\u001b[0m   \u001b[0;31m# edge.node1 and edge.node2 get new edges in _remove_edges\u001b[0m\u001b[0;34m\u001b[0m\u001b[0;34m\u001b[0m\u001b[0;34m\u001b[0m\u001b[0m\n\u001b[1;32m   1824\u001b[0m   \u001b[0m_remove_edges\u001b[0m\u001b[0;34m(\u001b[0m\u001b[0mset\u001b[0m\u001b[0;34m(\u001b[0m\u001b[0;34m[\u001b[0m\u001b[0medge\u001b[0m\u001b[0;34m]\u001b[0m\u001b[0;34m)\u001b[0m\u001b[0;34m,\u001b[0m \u001b[0medge\u001b[0m\u001b[0;34m.\u001b[0m\u001b[0mnode1\u001b[0m\u001b[0;34m,\u001b[0m \u001b[0medge\u001b[0m\u001b[0;34m.\u001b[0m\u001b[0mnode2\u001b[0m\u001b[0;34m,\u001b[0m \u001b[0mnew_node\u001b[0m\u001b[0;34m)\u001b[0m\u001b[0;34m\u001b[0m\u001b[0;34m\u001b[0m\u001b[0m\n",
      "\u001b[0;32m~/Desktop/CSE/SS20/quantum_seminar/quantum/venv/lib/python3.7/site-packages/tensornetwork/network_components.py\u001b[0m in \u001b[0;36m__init__\u001b[0;34m(self, tensor, name, axis_names, backend)\u001b[0m\n\u001b[1;32m    554\u001b[0m         \u001b[0maxis_names\u001b[0m\u001b[0;34m=\u001b[0m\u001b[0maxis_names\u001b[0m\u001b[0;34m,\u001b[0m\u001b[0;34m\u001b[0m\u001b[0;34m\u001b[0m\u001b[0m\n\u001b[1;32m    555\u001b[0m         \u001b[0mbackend\u001b[0m\u001b[0;34m=\u001b[0m\u001b[0mbackend_obj\u001b[0m\u001b[0;34m,\u001b[0m\u001b[0;34m\u001b[0m\u001b[0;34m\u001b[0m\u001b[0m\n\u001b[0;32m--> 556\u001b[0;31m         shape=backend_obj.shape_tuple(self._tensor))\n\u001b[0m\u001b[1;32m    557\u001b[0m \u001b[0;34m\u001b[0m\u001b[0m\n\u001b[1;32m    558\u001b[0m   \u001b[0;32mdef\u001b[0m \u001b[0mop_protection\u001b[0m\u001b[0;34m(\u001b[0m\u001b[0mself\u001b[0m\u001b[0;34m,\u001b[0m \u001b[0mother\u001b[0m\u001b[0;34m:\u001b[0m \u001b[0mUnion\u001b[0m\u001b[0;34m[\u001b[0m\u001b[0mint\u001b[0m\u001b[0;34m,\u001b[0m \u001b[0mfloat\u001b[0m\u001b[0;34m,\u001b[0m \u001b[0;34m\"Node\"\u001b[0m\u001b[0;34m]\u001b[0m\u001b[0;34m)\u001b[0m \u001b[0;34m->\u001b[0m \u001b[0;34m\"Node\"\u001b[0m\u001b[0;34m:\u001b[0m\u001b[0;34m\u001b[0m\u001b[0;34m\u001b[0m\u001b[0m\n",
      "\u001b[0;32m~/Desktop/CSE/SS20/quantum_seminar/quantum/venv/lib/python3.7/site-packages/tensornetwork/network_components.py\u001b[0m in \u001b[0;36m__init__\u001b[0;34m(self, name, axis_names, backend, shape)\u001b[0m\n\u001b[1;32m     74\u001b[0m     \u001b[0;32melse\u001b[0m\u001b[0;34m:\u001b[0m\u001b[0;34m\u001b[0m\u001b[0;34m\u001b[0m\u001b[0m\n\u001b[1;32m     75\u001b[0m       \u001b[0;32mif\u001b[0m \u001b[0;32mnot\u001b[0m \u001b[0misinstance\u001b[0m\u001b[0;34m(\u001b[0m\u001b[0mname\u001b[0m\u001b[0;34m,\u001b[0m \u001b[0mstr\u001b[0m\u001b[0;34m)\u001b[0m\u001b[0;34m:\u001b[0m\u001b[0;34m\u001b[0m\u001b[0;34m\u001b[0m\u001b[0m\n\u001b[0;32m---> 76\u001b[0;31m         \u001b[0;32mraise\u001b[0m \u001b[0mTypeError\u001b[0m\u001b[0;34m(\u001b[0m\u001b[0;34m\"Node name should be str type\"\u001b[0m\u001b[0;34m)\u001b[0m\u001b[0;34m\u001b[0m\u001b[0;34m\u001b[0m\u001b[0m\n\u001b[0m\u001b[1;32m     77\u001b[0m     \u001b[0mself\u001b[0m\u001b[0;34m.\u001b[0m\u001b[0mname\u001b[0m \u001b[0;34m=\u001b[0m \u001b[0mname\u001b[0m\u001b[0;34m\u001b[0m\u001b[0;34m\u001b[0m\u001b[0m\n\u001b[1;32m     78\u001b[0m     \u001b[0mself\u001b[0m\u001b[0;34m.\u001b[0m\u001b[0mbackend\u001b[0m \u001b[0;34m=\u001b[0m \u001b[0mbackend\u001b[0m\u001b[0;34m\u001b[0m\u001b[0;34m\u001b[0m\u001b[0m\n",
      "\u001b[0;31mTypeError\u001b[0m: Node name should be str type"
     ]
    }
   ],
   "source": [
    "result = tn.contract(edges[0], edges[1])"
   ]
  },
  {
   "cell_type": "code",
   "execution_count": 56,
   "metadata": {},
   "outputs": [
    {
     "data": {
      "text/plain": [
       "array(2.)"
      ]
     },
     "execution_count": 56,
     "metadata": {},
     "output_type": "execute_result"
    }
   ],
   "source": [
    "a = tn.Node(np.eye(2))\n",
    "edge = a[0] ^ a[1]\n",
    "result = tn.contract(edge)\n",
    "result.tensor"
   ]
  },
  {
   "cell_type": "code",
   "execution_count": 59,
   "metadata": {},
   "outputs": [
    {
     "data": {
      "text/plain": [
       "array(2.)"
      ]
     },
     "execution_count": 59,
     "metadata": {},
     "output_type": "execute_result"
    }
   ],
   "source": [
    "a = tn.Node(np.eye(2))\n",
    "b = tn.Node(np.eye(2))\n",
    "\n",
    "for i in range(2):\n",
    "    a[i]^b[i]\n",
    "\n",
    "result = a@b\n",
    "result.tensor"
   ]
  },
  {
   "cell_type": "code",
   "execution_count": 62,
   "metadata": {},
   "outputs": [
    {
     "data": {
      "text/plain": [
       "22.627416997969522"
      ]
     },
     "execution_count": 62,
     "metadata": {},
     "output_type": "execute_result"
    }
   ],
   "source": [
    "np.linalg.norm(unitaries[0].shape)"
   ]
  },
  {
   "cell_type": "code",
   "execution_count": 171,
   "metadata": {},
   "outputs": [],
   "source": [
    "V = np.array( [1-5j, 2j, -3]\n",
    ")\n",
    "V = V / np.linalg.norm(V)\n",
    "V = V[:,np.newaxis]\n",
    "V_dual = V.conjugate().T\n",
    "V_dual = V_dual / np.linalg.norm(V_dual)"
   ]
  },
  {
   "cell_type": "code",
   "execution_count": 174,
   "metadata": {},
   "outputs": [
    {
     "data": {
      "text/plain": [
       "False"
      ]
     },
     "execution_count": 174,
     "metadata": {},
     "output_type": "execute_result"
    }
   ],
   "source": [
    "is_unitary_matrix(np.kron(V_dual,V))"
   ]
  },
  {
   "cell_type": "code",
   "execution_count": 176,
   "metadata": {},
   "outputs": [
    {
     "data": {
      "text/plain": [
       "array([[ 0.66666667+0.j        , -0.25641026-0.05128205j,\n",
       "        -0.07692308+0.38461538j],\n",
       "       [-0.25641026+0.05128205j,  0.1025641 +0.j        ,\n",
       "        -0.        -0.15384615j],\n",
       "       [-0.07692308-0.38461538j,  0.        +0.15384615j,\n",
       "         0.23076923-0.j        ]])"
      ]
     },
     "execution_count": 176,
     "metadata": {},
     "output_type": "execute_result"
    }
   ],
   "source": [
    "np.kron(V_dual, V)"
   ]
  },
  {
   "cell_type": "code",
   "execution_count": 172,
   "metadata": {},
   "outputs": [
    {
     "data": {
      "text/plain": [
       "array([[ 0.16012815-0.80064077j],\n",
       "       [ 0.        +0.32025631j],\n",
       "       [-0.48038446+0.j        ]])"
      ]
     },
     "execution_count": 172,
     "metadata": {},
     "output_type": "execute_result"
    }
   ],
   "source": [
    "V"
   ]
  },
  {
   "cell_type": "code",
   "execution_count": 173,
   "metadata": {},
   "outputs": [
    {
     "data": {
      "text/plain": [
       "array([[ 0.16012815+0.80064077j,  0.        -0.32025631j,\n",
       "        -0.48038446+0.j        ]])"
      ]
     },
     "execution_count": 173,
     "metadata": {},
     "output_type": "execute_result"
    }
   ],
   "source": []
  },
  {
   "cell_type": "code",
   "execution_count": 113,
   "metadata": {},
   "outputs": [
    {
     "data": {
      "text/plain": [
       "array([[1., 1., 0., 0.],\n",
       "       [1., 1., 0., 0.],\n",
       "       [0., 0., 1., 1.],\n",
       "       [0., 0., 1., 1.]])"
      ]
     },
     "execution_count": 113,
     "metadata": {},
     "output_type": "execute_result"
    }
   ],
   "source": []
  },
  {
   "cell_type": "code",
   "execution_count": 177,
   "metadata": {},
   "outputs": [
    {
     "data": {
      "text/plain": [
       "True"
      ]
     },
     "execution_count": 177,
     "metadata": {},
     "output_type": "execute_result"
    }
   ],
   "source": []
  },
  {
   "cell_type": "code",
   "execution_count": null,
   "metadata": {},
   "outputs": [],
   "source": []
  },
  {
   "cell_type": "code",
   "execution_count": null,
   "metadata": {},
   "outputs": [],
   "source": []
  }
 ],
 "metadata": {
  "kernelspec": {
   "display_name": "Python 3",
   "language": "python",
   "name": "python3"
  },
  "language_info": {
   "codemirror_mode": {
    "name": "ipython",
    "version": 3
   },
   "file_extension": ".py",
   "mimetype": "text/x-python",
   "name": "python",
   "nbconvert_exporter": "python",
   "pygments_lexer": "ipython3",
   "version": "3.7.7"
  }
 },
 "nbformat": 4,
 "nbformat_minor": 4
}
