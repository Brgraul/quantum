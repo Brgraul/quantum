{
 "cells": [
  {
   "cell_type": "code",
   "execution_count": 1,
   "metadata": {},
   "outputs": [],
   "source": [
    "import numpy as np\n",
    "from qiskit.quantum_info.operators.predicates import (is_hermitian_matrix,\n",
    "                                                      is_unitary_matrix)\n",
    "from scipy.linalg import expm\n",
    "import tensornetwork as tn"
   ]
  },
  {
   "cell_type": "code",
   "execution_count": 82,
   "metadata": {},
   "outputs": [],
   "source": [
    "n_weight = 16\n",
    "gates = 6\n",
    "\n",
    "weights = np.random.normal(size=(gates, n_weight))\n",
    "\n",
    "\n",
    "def unitary_from_hermitian(hermitian):\n",
    "    \"\"\"Generates a unitary matrix from a hermitian matrix.\n",
    "        The formula is U = e^(i*H).\n",
    "\n",
    "    Args:\n",
    "        hermitian: A hermitian matrix.\n",
    "\n",
    "    Returns:\n",
    "        unitary: The resulting unitarian matrix.\n",
    "\n",
    "    Raises:\n",
    "        AssertionError: If the resulting matrix is not unitarian.\n",
    "    \"\"\"\n",
    "    unitary = np.array(expm(1j * hermitian))\n",
    "    assert is_unitary_matrix(unitary)\n",
    "    return unitary\n",
    "\n",
    "\n",
    "def hermitian_from_weights(weights, dimension):\n",
    "    \"\"\"Generates a  complex hermitian matrix from a set of weights.\n",
    "        The hermitian is constructed by an upper triangle matrix which then is\n",
    "        added to its transpose. The first dimension weights are used for the real\n",
    "        diagonal values, the next values are used for the real parts of the upper\n",
    "        triangle the rest for the imaginarie parts.\n",
    "\n",
    "    Args:\n",
    "        weights: List of weights.\n",
    "        dimension: size of the matrix.\n",
    "\n",
    "    Returns:\n",
    "        hermitian: The resulting hermitian matrix.\n",
    "\n",
    "    Raises:\n",
    "        AssertionError: If the resulting matrix is not hermitian.\n",
    "    \"\"\"\n",
    "    diagonals = weights[:dimension]\n",
    "    dim = ((dimension**2 - dimension) // 2) + dimension\n",
    "    reals = weights[dimension:dim]\n",
    "    imaginaries = weights[dim:]\n",
    "    assert reals.shape == imaginaries.shape\n",
    "    diag = np.matrix(np.diag(diagonals))\n",
    "    hermitian = np.matrix(np.zeros((dimension, dimension), dtype=complex))\n",
    "\n",
    "    hermitian[np.triu_indices(dimension, 1)] = np.array(\n",
    "        [complex(a, b) for a, b in zip(reals, imaginaries)])\n",
    "    hermitian = hermitian + hermitian.H + diag  # tril and triu don't use the same ordering!\n",
    "    assert is_hermitian_matrix(hermitian)\n",
    "    return hermitian\n",
    "\n",
    "\n",
    "def unitaries_from_weights(weights, dimension=4):\n",
    "    \"\"\"Wrapper function to generate unitary matricies from weight list.\n",
    "\n",
    "    Args:\n",
    "        weights: The weights to transform.\n",
    "\n",
    "    Returns:\n",
    "        unitaries: The resulting list of unitary matrices.\n",
    "    \"\"\"\n",
    "    unitaries = []\n",
    "    for weight in weights:\n",
    "        unitaries.append(\n",
    "            unitary_from_hermitian(hermitian_from_weights(weight, dimension)))\n",
    "    return unitaries\n",
    "\n"
   ]
  },
  {
   "cell_type": "code",
   "execution_count": 83,
   "metadata": {},
   "outputs": [],
   "source": [
    "unitaries = unitaries_from_weights(weights)"
   ]
  },
  {
   "cell_type": "code",
   "execution_count": 20,
   "metadata": {},
   "outputs": [],
   "source": [
    "qubits = 16\n",
    "v = 2\n",
    "\n",
    "dimension = 4**v\n",
    "steps = int(np.log2(qubits))-1\n",
    "gates_per_step = []\n",
    "for i in range(1, steps + 1):\n",
    "    gates_per_step.append((qubits // 2) //(2 ** i))"
   ]
  },
  {
   "cell_type": "code",
   "execution_count": 85,
   "metadata": {},
   "outputs": [],
   "source": [
    "weights = np.random.normal(size=(int(sum(gates_per_step)), 2**(4*v)))"
   ]
  },
  {
   "cell_type": "code",
   "execution_count": 87,
   "metadata": {},
   "outputs": [],
   "source": [
    "unitaries = unitaries_from_weights(weights, dimension)"
   ]
  },
  {
   "cell_type": "code",
   "execution_count": 93,
   "metadata": {},
   "outputs": [],
   "source": [
    "# Generating an artificial image\n",
    "\n",
    "dim = 4\n",
    "data = np.random.normal(size=(dim**2))"
   ]
  },
  {
   "cell_type": "code",
   "execution_count": 104,
   "metadata": {},
   "outputs": [],
   "source": [
    "# Preparing the unitary matrixes in the tensor network\n",
    "tensor_network = []\n",
    "\n",
    "redistribute_indexes = [2 for i in range(int(np.log2(unitaries[0].size)))]\n",
    "\n",
    "for unitary in unitaries:\n",
    "    tensor_network.append(tn.Node(unitary.reshape(avg)))\n",
    "    tensor_network.append(tn.Node(unitary.conjugate().T.reshape(avg)))"
   ]
  },
  {
   "cell_type": "code",
   "execution_count": 105,
   "metadata": {},
   "outputs": [],
   "source": [
    "# Preparing the tensors holding the data\n",
    "\n",
    "feature_map = np.zeros((data.shape[0], 2))\n",
    "tensor_data = []\n",
    "\n",
    "for i in range(dim):\n",
    "    for k in range(dim):\n",
    "        idx= i*dim+k\n",
    "        feature_map[idx][0] = np.cos(np.pi / 2 * data[idx])\n",
    "        feature_map[idx][1] = np.sin(np.pi / 2 * data[idx])\n",
    "        tensor_data.append(tn.Node(feature_map[idx][:,np.newaxis]))\n",
    "        tensor_network[idx][k]^tensor_data[idx][0]\n",
    "    for k in range(dim):\n",
    "        tensor_data.append(tn.Node(feature_map[i*dim+k][:,np.newaxis].T))"
   ]
  },
  {
   "cell_type": "code",
   "execution_count": 106,
   "metadata": {},
   "outputs": [
    {
     "data": {
      "text/plain": [
       "\n",
       "Edge('__unnamed_node__'[0] -> '__unnamed_node__'[0] )"
      ]
     },
     "execution_count": 106,
     "metadata": {},
     "output_type": "execute_result"
    }
   ],
   "source": [
    "tensor_data[0][0]^tensor_network[0][0]"
   ]
  },
  {
   "cell_type": "code",
   "execution_count": 75,
   "metadata": {},
   "outputs": [],
   "source": [
    "# Connect the dangling edges\n",
    "for i in range(dim**2):\n",
    "    tensor_network[i//dim][i]^tensor_data[2*i][0]\n"
   ]
  },
  {
   "cell_type": "code",
   "execution_count": 47,
   "metadata": {},
   "outputs": [
    {
     "data": {
      "text/plain": [
       "14"
      ]
     },
     "execution_count": 47,
     "metadata": {},
     "output_type": "execute_result"
    }
   ],
   "source": []
  },
  {
   "cell_type": "code",
   "execution_count": 38,
   "metadata": {},
   "outputs": [
    {
     "data": {
      "text/plain": [
       "[2, 2, 2, 2, 2, 2, 2, 2]"
      ]
     },
     "execution_count": 38,
     "metadata": {},
     "output_type": "execute_result"
    }
   ],
   "source": []
  },
  {
   "cell_type": "code",
   "execution_count": 37,
   "metadata": {},
   "outputs": [
    {
     "data": {
      "text/plain": [
       "256"
      ]
     },
     "execution_count": 37,
     "metadata": {},
     "output_type": "execute_result"
    }
   ],
   "source": [
    "U.size"
   ]
  },
  {
   "cell_type": "code",
   "execution_count": null,
   "metadata": {},
   "outputs": [],
   "source": []
  }
 ],
 "metadata": {
  "kernelspec": {
   "display_name": "Python 3",
   "language": "python",
   "name": "python3"
  },
  "language_info": {
   "codemirror_mode": {
    "name": "ipython",
    "version": 3
   },
   "file_extension": ".py",
   "mimetype": "text/x-python",
   "name": "python",
   "nbconvert_exporter": "python",
   "pygments_lexer": "ipython3",
   "version": "3.7.7"
  }
 },
 "nbformat": 4,
 "nbformat_minor": 4
}
