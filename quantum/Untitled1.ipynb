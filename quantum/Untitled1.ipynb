{
 "cells": [
  {
   "cell_type": "code",
   "execution_count": 2,
   "metadata": {},
   "outputs": [],
   "source": [
    "import numpy as np\n",
    "from qiskit.quantum_info.operators.predicates import (is_hermitian_matrix,\n",
    "                                                      is_unitary_matrix)\n",
    "from scipy.linalg import expm\n",
    "import tensornetwork as tn"
   ]
  },
  {
   "cell_type": "code",
   "execution_count": 17,
   "metadata": {},
   "outputs": [],
   "source": [
    "n_weight = 16\n",
    "gates = 6\n",
    "\n",
    "weights = np.random.normal(size=(gates, n_weight))\n",
    "\n",
    "\n",
    "def unitary_from_hermitian(hermitian):\n",
    "    \"\"\"Generates a unitary matrix from a hermitian matrix.\n",
    "        The formula is U = e^(i*H).\n",
    "\n",
    "    Args:\n",
    "        hermitian: A hermitian matrix.\n",
    "\n",
    "    Returns:\n",
    "        unitary: The resulting unitarian matrix.\n",
    "\n",
    "    Raises:\n",
    "        AssertionError: If the resulting matrix is not unitarian.\n",
    "    \"\"\"\n",
    "    unitary = np.array(expm(1j * hermitian))\n",
    "    assert is_unitary_matrix(unitary)\n",
    "    return unitary\n",
    "\n",
    "\n",
    "def hermitian_from_weights(weights, dimension):\n",
    "    \"\"\"Generates a  complex hermitian matrix from a set of weights.\n",
    "        The hermitian is constructed by an upper triangle matrix which then is\n",
    "        added to its transpose. The first dimension weights are used for the real\n",
    "        diagonal values, the next values are used for the real parts of the upper\n",
    "        triangle the rest for the imaginarie parts.\n",
    "\n",
    "    Args:\n",
    "        weights: List of weights.\n",
    "        dimension: size of the matrix.\n",
    "\n",
    "    Returns:\n",
    "        hermitian: The resulting hermitian matrix.\n",
    "\n",
    "    Raises:\n",
    "        AssertionError: If the resulting matrix is not hermitian.\n",
    "    \"\"\"\n",
    "    diagonals = weights[:dimension]\n",
    "    dim = ((dimension**2 - dimension) // 2) + dimension\n",
    "    reals = weights[dimension:dim]\n",
    "    imaginaries = weights[dim:]\n",
    "    assert reals.shape == imaginaries.shape\n",
    "    diag = np.matrix(np.diag(diagonals))\n",
    "    hermitian = np.matrix(np.zeros((dimension, dimension), dtype=complex))\n",
    "\n",
    "    hermitian[np.triu_indices(dimension, 1)] = np.array(\n",
    "        [complex(a, b) for a, b in zip(reals, imaginaries)])\n",
    "    hermitian = hermitian + hermitian.H + diag  # tril and triu don't use the same ordering!\n",
    "    assert is_hermitian_matrix(hermitian)\n",
    "    return hermitian\n",
    "\n",
    "\n",
    "def unitaries_from_weights(weights, dimension=4):\n",
    "    \"\"\"Wrapper function to generate unitary matricies from weight list.\n",
    "\n",
    "    Args:\n",
    "        weights: The weights to transform.\n",
    "\n",
    "    Returns:\n",
    "        unitaries: The resulting list of unitary matrices.\n",
    "    \"\"\"\n",
    "    unitaries = []\n",
    "    for weight in weights:\n",
    "        unitaries.append(\n",
    "            unitary_from_hermitian(hermitian_from_weights(weight, dimension)))\n",
    "    return unitaries\n",
    "\n"
   ]
  },
  {
   "cell_type": "code",
   "execution_count": 3,
   "metadata": {},
   "outputs": [],
   "source": [
    "unitaries = unitaries_from_weights(weights)"
   ]
  },
  {
   "cell_type": "code",
   "execution_count": 255,
   "metadata": {},
   "outputs": [
    {
     "data": {
      "text/plain": [
       "[8, 4, 2, 1]"
      ]
     },
     "execution_count": 255,
     "metadata": {},
     "output_type": "execute_result"
    }
   ],
   "source": [
    "input_length = 16\n",
    "v = 1\n",
    "\n",
    "gates_per_step = []\n",
    "gates_per_step.append(input_length // (2**v))\n",
    "\n",
    "dimension = 4**v\n",
    "\n",
    "steps = int(np.log2(gates_per_step[0])) + 1 # +1 as we added the first step already\n",
    "\n",
    "for i in range(1, steps):\n",
    "    gates_per_step.append(gates_per_step[i-1]//2)\n",
    "gates_per_step"
   ]
  },
  {
   "cell_type": "code",
   "execution_count": 256,
   "metadata": {},
   "outputs": [],
   "source": [
    "weights = np.random.normal(size=(int(sum(gates_per_step)), 2**(4*v)))"
   ]
  },
  {
   "cell_type": "code",
   "execution_count": 257,
   "metadata": {},
   "outputs": [],
   "source": [
    "unitaries = unitaries_from_weights(weights, dimension)"
   ]
  },
  {
   "cell_type": "code",
   "execution_count": 258,
   "metadata": {},
   "outputs": [],
   "source": [
    "# Generating an artificial image\n",
    "\n",
    "dim = 4\n",
    "data = np.random.normal(size=(dim**2))"
   ]
  },
  {
   "cell_type": "code",
   "execution_count": 269,
   "metadata": {},
   "outputs": [],
   "source": [
    "# Preparing the unitary matrixes in the tensor network\n",
    "tensor_network = []\n",
    "\n",
    "redistribute_indexes = [2 for i in range(int(np.log2(unitaries[0].size)))]\n",
    "\n",
    "for i, unitary in enumerate(unitaries):\n",
    "    tensor_network.append(tn.Node(unitary.reshape(redistribute_indexes), name=f'unitary_{i}'))\n",
    "    tensor_network.append(tn.Node(unitary.conjugate().T.reshape(redistribute_indexes), name=f'unitary_{i+1}'))"
   ]
  },
  {
   "cell_type": "code",
   "execution_count": 270,
   "metadata": {},
   "outputs": [],
   "source": [
    "# Preparing the tensors holding the data and connecting their edges to the unitary tensors\n",
    "\n",
    "feature_map = np.zeros((data.shape[0], 2))\n",
    "tensor_data = []\n",
    "\n",
    "for i in range(gates_per_step[0]):\n",
    "    for k in range(2*v):\n",
    "        l = i*2*v+k # Index in the input data array of length dim**2x1 \n",
    "        idx= 2*i*2*v+k # Index in the array of dual and non-dual vectors of length 2*dim**2x1\n",
    "        feature_map[l][0] = np.cos(np.pi / 2 * data[l])\n",
    "        feature_map[l][1] = np.sin(np.pi / 2 * data[l])\n",
    "        tensor_data.append(tn.Node(feature_map[l], name=f'data_{idx}'))\n",
    "        # print(f'Normal unitary_id:{2*i} tensor_data:{idx}')\n",
    "        tensor_network[2*i][k]^tensor_data[idx][0]\n",
    "        \n",
    "    for k in range(2*v):\n",
    "        l = i*2*v+k\n",
    "        idx= 2*i*2*v+k\n",
    "        # print(f'H unitary_id:{2*i+1} tensor_data_h:{idx+2*v}')\n",
    "        tensor_data.append(tn.Node(feature_map[l].T, name=f'data_h_{idx}'))\n",
    "        tensor_network[2*i+1][k]^tensor_data[idx+2*v][0]"
   ]
  },
  {
   "cell_type": "code",
   "execution_count": 271,
   "metadata": {},
   "outputs": [],
   "source": [
    "# Cummulative gates in a given step\n",
    "c_gates = [0]  \n",
    "\n",
    "sum_ = 0 \n",
    "for i in range(len(gates_per_step)):\n",
    "    sum_ += 2*gates_per_step[i]\n",
    "    c_gates.append(sum_)"
   ]
  },
  {
   "cell_type": "code",
   "execution_count": 272,
   "metadata": {},
   "outputs": [
    {
     "data": {
      "text/plain": [
       "[0, 16, 24, 28, 30]"
      ]
     },
     "execution_count": 272,
     "metadata": {},
     "output_type": "execute_result"
    }
   ],
   "source": [
    "c_gates"
   ]
  },
  {
   "cell_type": "code",
   "execution_count": 273,
   "metadata": {},
   "outputs": [
    {
     "name": "stdout",
     "output_type": "stream",
     "text": [
      "Unitary_id:0 Unitary_next_id:16 thru edge:3->0\n",
      "\n",
      "Unitary_H_id:1 Unitary_H_next_id:17 thru edge:3->0\n",
      "\n",
      "Unitary_id:2 Unitary_next_id:16 thru edge:3->1\n",
      "\n",
      "Unitary_H_id:3 Unitary_H_next_id:17 thru edge:3->1\n",
      "\n",
      "Unitary_id:4 Unitary_next_id:18 thru edge:3->0\n",
      "\n",
      "Unitary_H_id:5 Unitary_H_next_id:19 thru edge:3->0\n",
      "\n",
      "Unitary_id:6 Unitary_next_id:18 thru edge:3->1\n",
      "\n",
      "Unitary_H_id:7 Unitary_H_next_id:19 thru edge:3->1\n",
      "\n",
      "Unitary_id:8 Unitary_next_id:20 thru edge:3->0\n",
      "\n",
      "Unitary_H_id:9 Unitary_H_next_id:21 thru edge:3->0\n",
      "\n",
      "Unitary_id:10 Unitary_next_id:20 thru edge:3->1\n",
      "\n",
      "Unitary_H_id:11 Unitary_H_next_id:21 thru edge:3->1\n",
      "\n",
      "Unitary_id:12 Unitary_next_id:22 thru edge:3->0\n",
      "\n",
      "Unitary_H_id:13 Unitary_H_next_id:23 thru edge:3->0\n",
      "\n",
      "Unitary_id:14 Unitary_next_id:22 thru edge:3->1\n",
      "\n",
      "Unitary_H_id:15 Unitary_H_next_id:23 thru edge:3->1\n",
      "\n",
      "Unitary_id:16 Unitary_next_id:24 thru edge:3->0\n",
      "\n",
      "Unitary_H_id:17 Unitary_H_next_id:25 thru edge:3->0\n",
      "\n",
      "Unitary_id:18 Unitary_next_id:24 thru edge:3->1\n",
      "\n",
      "Unitary_H_id:19 Unitary_H_next_id:25 thru edge:3->1\n",
      "\n",
      "Unitary_id:20 Unitary_next_id:26 thru edge:3->0\n",
      "\n",
      "Unitary_H_id:21 Unitary_H_next_id:27 thru edge:3->0\n",
      "\n",
      "Unitary_id:22 Unitary_next_id:26 thru edge:3->1\n",
      "\n",
      "Unitary_H_id:23 Unitary_H_next_id:27 thru edge:3->1\n",
      "\n",
      "Unitary_id:24 Unitary_next_id:28 thru edge:3->0\n",
      "\n",
      "Unitary_H_id:25 Unitary_H_next_id:29 thru edge:3->0\n",
      "\n",
      "Unitary_id:26 Unitary_next_id:28 thru edge:3->1\n",
      "\n",
      "Unitary_H_id:27 Unitary_H_next_id:29 thru edge:3->1\n",
      "\n"
     ]
    }
   ],
   "source": [
    "idx = 0\n",
    "for i in range(steps-1): # Last execution is peeled off, as there's no 'next tensor' to link\n",
    "    for j in range(gates_per_step[i]):\n",
    "        # Within a given gate\n",
    "        gate_idx = 2*j+c_gates[i]\n",
    "        for k in range(v):\n",
    "            tensor_network[gate_idx][2*v+k] ^ tensor_network[gate_idx+1][2*v+k]\n",
    "            # print(f'Unitary_id:{gate_idx} Unitary_H_id:{gate_idx+1} thru edge:{2*v+k}->{2*v+k}\\n')\n",
    "        for k in range(v):\n",
    "            print(f'Unitary_id:{gate_idx} Unitary_next_id:{((gate_idx-c_gates[i])//4)*2+c_gates[i+1]} thru edge:{k+3*v}->{((gate_idx//2)%2)*v+k}\\n')\n",
    "            print(f'Unitary_H_id:{gate_idx+1} Unitary_H_next_id:{((gate_idx-c_gates[i])//4)*2+c_gates[i+1]+1} thru edge:{k+3*v}->{((gate_idx//2)%2)*v+k}\\n')\n",
    "            tensor_network[gate_idx][k+3*v] ^ tensor_network[((gate_idx-c_gates[i])//4)*2+c_gates[i+1]][((gate_idx//2)%2)*v+k] \n",
    "            tensor_network[gate_idx+1][k+3*v] ^ tensor_network[((gate_idx-c_gates[i])//4)*2+c_gates[i+1]+1][((gate_idx//2)%2)*v+k]"
   ]
  },
  {
   "cell_type": "code",
   "execution_count": 28,
   "metadata": {},
   "outputs": [
    {
     "ename": "ValueError",
     "evalue": "Edge '__unnamed_edge__' is not a dangling edge. This edge points to nodes: 'unitary_0' and 'data_2'",
     "output_type": "error",
     "traceback": [
      "\u001b[0;31m---------------------------------------------------------------------------\u001b[0m",
      "\u001b[0;31mValueError\u001b[0m                                Traceback (most recent call last)",
      "\u001b[0;32m<ipython-input-28-eaea9d9721a7>\u001b[0m in \u001b[0;36m<module>\u001b[0;34m\u001b[0m\n\u001b[1;32m      5\u001b[0m         \u001b[0mgate_idx\u001b[0m \u001b[0;34m=\u001b[0m \u001b[0;36m2\u001b[0m\u001b[0;34m*\u001b[0m\u001b[0mj\u001b[0m\u001b[0;34m+\u001b[0m\u001b[0mc_gates\u001b[0m\u001b[0;34m[\u001b[0m\u001b[0mi\u001b[0m\u001b[0;34m]\u001b[0m\u001b[0;34m\u001b[0m\u001b[0;34m\u001b[0m\u001b[0m\n\u001b[1;32m      6\u001b[0m         \u001b[0;32mfor\u001b[0m \u001b[0mk\u001b[0m \u001b[0;32min\u001b[0m \u001b[0mrange\u001b[0m\u001b[0;34m(\u001b[0m\u001b[0mv\u001b[0m\u001b[0;34m)\u001b[0m\u001b[0;34m:\u001b[0m\u001b[0;34m\u001b[0m\u001b[0;34m\u001b[0m\u001b[0m\n\u001b[0;32m----> 7\u001b[0;31m             \u001b[0mtensor_network\u001b[0m\u001b[0;34m[\u001b[0m\u001b[0mgate_idx\u001b[0m\u001b[0;34m]\u001b[0m\u001b[0;34m[\u001b[0m\u001b[0;36m2\u001b[0m\u001b[0;34m*\u001b[0m\u001b[0mv\u001b[0m\u001b[0;34m+\u001b[0m\u001b[0mk\u001b[0m\u001b[0;34m]\u001b[0m \u001b[0;34m^\u001b[0m \u001b[0mtensor_network\u001b[0m\u001b[0;34m[\u001b[0m\u001b[0mgate_idx\u001b[0m\u001b[0;34m+\u001b[0m\u001b[0;36m1\u001b[0m\u001b[0;34m]\u001b[0m\u001b[0;34m[\u001b[0m\u001b[0;36m2\u001b[0m\u001b[0;34m*\u001b[0m\u001b[0mv\u001b[0m\u001b[0;34m+\u001b[0m\u001b[0mk\u001b[0m\u001b[0;34m]\u001b[0m\u001b[0;34m\u001b[0m\u001b[0;34m\u001b[0m\u001b[0m\n\u001b[0m\u001b[1;32m      8\u001b[0m             \u001b[0;31m# print(f'Unitary_id:{gate_idx} Unitary_H_id:{gate_idx+1} thru edge:{2*v+k}->{2*v+k}\\n')\u001b[0m\u001b[0;34m\u001b[0m\u001b[0;34m\u001b[0m\u001b[0;34m\u001b[0m\u001b[0m\n\u001b[1;32m      9\u001b[0m         \u001b[0;32mfor\u001b[0m \u001b[0mk\u001b[0m \u001b[0;32min\u001b[0m \u001b[0mrange\u001b[0m\u001b[0;34m(\u001b[0m\u001b[0mv\u001b[0m\u001b[0;34m)\u001b[0m\u001b[0;34m:\u001b[0m\u001b[0;34m\u001b[0m\u001b[0;34m\u001b[0m\u001b[0m\n",
      "\u001b[0;32m~/Desktop/CSE/SS20/quantum_seminar/quantum/venv/lib/python3.7/site-packages/tensornetwork/network_components.py\u001b[0m in \u001b[0;36m__xor__\u001b[0;34m(self, other)\u001b[0m\n\u001b[1;32m   1168\u001b[0m \u001b[0;34m\u001b[0m\u001b[0m\n\u001b[1;32m   1169\u001b[0m   \u001b[0;32mdef\u001b[0m \u001b[0m__xor__\u001b[0m\u001b[0;34m(\u001b[0m\u001b[0mself\u001b[0m\u001b[0;34m,\u001b[0m \u001b[0mother\u001b[0m\u001b[0;34m:\u001b[0m \u001b[0;34m\"Edge\"\u001b[0m\u001b[0;34m)\u001b[0m \u001b[0;34m->\u001b[0m \u001b[0;34m\"Edge\"\u001b[0m\u001b[0;34m:\u001b[0m\u001b[0;34m\u001b[0m\u001b[0;34m\u001b[0m\u001b[0m\n\u001b[0;32m-> 1170\u001b[0;31m     \u001b[0;32mreturn\u001b[0m \u001b[0mconnect\u001b[0m\u001b[0;34m(\u001b[0m\u001b[0mself\u001b[0m\u001b[0;34m,\u001b[0m \u001b[0mother\u001b[0m\u001b[0;34m,\u001b[0m \u001b[0mself\u001b[0m\u001b[0;34m.\u001b[0m\u001b[0mname\u001b[0m\u001b[0;34m)\u001b[0m\u001b[0;34m\u001b[0m\u001b[0;34m\u001b[0m\u001b[0m\n\u001b[0m\u001b[1;32m   1171\u001b[0m \u001b[0;34m\u001b[0m\u001b[0m\n\u001b[1;32m   1172\u001b[0m   \u001b[0;32mdef\u001b[0m \u001b[0m__str__\u001b[0m\u001b[0;34m(\u001b[0m\u001b[0mself\u001b[0m\u001b[0;34m)\u001b[0m \u001b[0;34m->\u001b[0m \u001b[0mOptional\u001b[0m\u001b[0;34m[\u001b[0m\u001b[0mText\u001b[0m\u001b[0;34m]\u001b[0m\u001b[0;34m:\u001b[0m\u001b[0;34m\u001b[0m\u001b[0;34m\u001b[0m\u001b[0m\n",
      "\u001b[0;32m~/Desktop/CSE/SS20/quantum_seminar/quantum/venv/lib/python3.7/site-packages/tensornetwork/network_components.py\u001b[0m in \u001b[0;36mconnect\u001b[0;34m(edge1, edge2, name)\u001b[0m\n\u001b[1;32m   1883\u001b[0m       raise ValueError(\"Edge '{}' is not a dangling edge. \"\n\u001b[1;32m   1884\u001b[0m                        \"This edge points to nodes: '{}' and '{}'\".format(\n\u001b[0;32m-> 1885\u001b[0;31m                            edge, edge.node1, edge.node2))\n\u001b[0m\u001b[1;32m   1886\u001b[0m   \u001b[0;32mif\u001b[0m \u001b[0medge1\u001b[0m \u001b[0;32mis\u001b[0m \u001b[0medge2\u001b[0m\u001b[0;34m:\u001b[0m\u001b[0;34m\u001b[0m\u001b[0;34m\u001b[0m\u001b[0m\n\u001b[1;32m   1887\u001b[0m     \u001b[0;32mraise\u001b[0m \u001b[0mValueError\u001b[0m\u001b[0;34m(\u001b[0m\u001b[0;34m\"Cannot connect edge '{}' to itself.\"\u001b[0m\u001b[0;34m.\u001b[0m\u001b[0mformat\u001b[0m\u001b[0;34m(\u001b[0m\u001b[0medge1\u001b[0m\u001b[0;34m)\u001b[0m\u001b[0;34m)\u001b[0m\u001b[0;34m\u001b[0m\u001b[0;34m\u001b[0m\u001b[0m\n",
      "\u001b[0;31mValueError\u001b[0m: Edge '__unnamed_edge__' is not a dangling edge. This edge points to nodes: 'unitary_0' and 'data_2'"
     ]
    }
   ],
   "source": [
    "# Contracting the last tensor in the network\n",
    "gate_idx = c_gates[-2] # Remember we appended an offset 0, thus -2 instead of -1\n",
    "for k in range(v):\n",
    "    tensor_network[gate_idx][2*v+k] ^ tensor_network[gate_idx+1][2*v+k]\n",
    "    # print(f'Unitary_id:{gate_idx} Unitary_H_id:{gate_idx+1} thru edge:{2*v+k}->{2*v+k}\\n')\n",
    "    \n",
    "tensor_network[gate_idx][-2] ^ tensor_network[gate_idx+1][-2] # One of the output edges is contracted, the last one is the label"
   ]
  },
  {
   "cell_type": "code",
   "execution_count": null,
   "metadata": {},
   "outputs": [],
   "source": [
    "result = tn.contractors.auto(tensor_network, ignore_edge_order=True)"
   ]
  },
  {
   "cell_type": "code",
   "execution_count": null,
   "metadata": {},
   "outputs": [],
   "source": []
  }
 ],
 "metadata": {
  "kernelspec": {
   "display_name": "Python 3",
   "language": "python",
   "name": "python3"
  },
  "language_info": {
   "codemirror_mode": {
    "name": "ipython",
    "version": 3
   },
   "file_extension": ".py",
   "mimetype": "text/x-python",
   "name": "python",
   "nbconvert_exporter": "python",
   "pygments_lexer": "ipython3",
   "version": "3.7.7"
  }
 },
 "nbformat": 4,
 "nbformat_minor": 4
}
