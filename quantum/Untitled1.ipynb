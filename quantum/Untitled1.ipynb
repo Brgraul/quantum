{
 "cells": [
  {
   "cell_type": "code",
   "execution_count": 4,
   "metadata": {},
   "outputs": [],
   "source": [
    "import numpy as np\n",
    "from qiskit.quantum_info.operators.predicates import (is_hermitian_matrix,\n",
    "                                                      is_unitary_matrix)\n",
    "from scipy.linalg import expm\n",
    "import tensornetwork as tn"
   ]
  },
  {
   "cell_type": "code",
   "execution_count": 5,
   "metadata": {},
   "outputs": [],
   "source": [
    "n_weight = 16\n",
    "gates = 6\n",
    "\n",
    "weights = np.random.normal(size=(gates, n_weight))\n",
    "\n",
    "\n",
    "def unitary_from_hermitian(hermitian):\n",
    "    \"\"\"Generates a unitary matrix from a hermitian matrix.\n",
    "        The formula is U = e^(i*H).\n",
    "\n",
    "    Args:\n",
    "        hermitian: A hermitian matrix.\n",
    "\n",
    "    Returns:\n",
    "        unitary: The resulting unitarian matrix.\n",
    "\n",
    "    Raises:\n",
    "        AssertionError: If the resulting matrix is not unitarian.\n",
    "    \"\"\"\n",
    "    unitary = np.array(expm(1j * hermitian))\n",
    "    assert is_unitary_matrix(unitary)\n",
    "    return unitary\n",
    "\n",
    "\n",
    "def hermitian_from_weights(weights, dimension):\n",
    "    \"\"\"Generates a  complex hermitian matrix from a set of weights.\n",
    "        The hermitian is constructed by an upper triangle matrix which then is\n",
    "        added to its transpose. The first dimension weights are used for the real\n",
    "        diagonal values, the next values are used for the real parts of the upper\n",
    "        triangle the rest for the imaginarie parts.\n",
    "\n",
    "    Args:\n",
    "        weights: List of weights.\n",
    "        dimension: size of the matrix.\n",
    "\n",
    "    Returns:\n",
    "        hermitian: The resulting hermitian matrix.\n",
    "\n",
    "    Raises:\n",
    "        AssertionError: If the resulting matrix is not hermitian.\n",
    "    \"\"\"\n",
    "    diagonals = weights[:dimension]\n",
    "    dim = ((dimension**2 - dimension) // 2) + dimension\n",
    "    reals = weights[dimension:dim]\n",
    "    imaginaries = weights[dim:]\n",
    "    assert reals.shape == imaginaries.shape\n",
    "    diag = np.matrix(np.diag(diagonals))\n",
    "    hermitian = np.matrix(np.zeros((dimension, dimension), dtype=complex))\n",
    "\n",
    "    hermitian[np.triu_indices(dimension, 1)] = np.array(\n",
    "        [complex(a, b) for a, b in zip(reals, imaginaries)])\n",
    "    hermitian = hermitian + hermitian.H + diag  # tril and triu don't use the same ordering!\n",
    "    assert is_hermitian_matrix(hermitian)\n",
    "    return hermitian\n",
    "\n",
    "\n",
    "def unitaries_from_weights(weights, dimension=4):\n",
    "    \"\"\"Wrapper function to generate unitary matricies from weight list.\n",
    "\n",
    "    Args:\n",
    "        weights: The weights to transform.\n",
    "\n",
    "    Returns:\n",
    "        unitaries: The resulting list of unitary matrices.\n",
    "    \"\"\"\n",
    "    unitaries = []\n",
    "    for weight in weights:\n",
    "        unitaries.append(\n",
    "            unitary_from_hermitian(hermitian_from_weights(weight, dimension)))\n",
    "    return unitaries\n",
    "\n"
   ]
  },
  {
   "cell_type": "code",
   "execution_count": 6,
   "metadata": {},
   "outputs": [],
   "source": [
    "unitaries = unitaries_from_weights(weights)"
   ]
  },
  {
   "cell_type": "code",
   "execution_count": 7,
   "metadata": {},
   "outputs": [],
   "source": [
    "qubits = 16\n",
    "v = 2\n",
    "\n",
    "dimension = 4**v\n",
    "steps = int(np.log2(qubits))-1\n",
    "gates_per_step = []\n",
    "for i in range(1, steps + 1):\n",
    "    gates_per_step.append((qubits // 2) //(2 ** i))"
   ]
  },
  {
   "cell_type": "code",
   "execution_count": 8,
   "metadata": {},
   "outputs": [],
   "source": [
    "weights = np.random.normal(size=(int(sum(gates_per_step)), 2**(4*v)))"
   ]
  },
  {
   "cell_type": "code",
   "execution_count": 9,
   "metadata": {},
   "outputs": [],
   "source": [
    "unitaries = unitaries_from_weights(weights, dimension)"
   ]
  },
  {
   "cell_type": "code",
   "execution_count": 10,
   "metadata": {},
   "outputs": [],
   "source": [
    "# Generating an artificial image\n",
    "\n",
    "dim = 4\n",
    "data = np.random.normal(size=(dim**2))"
   ]
  },
  {
   "cell_type": "code",
   "execution_count": 11,
   "metadata": {},
   "outputs": [],
   "source": [
    "# Preparing the unitary matrixes in the tensor network\n",
    "tensor_network = []\n",
    "\n",
    "redistribute_indexes = [2 for i in range(int(np.log2(unitaries[0].size)))]\n",
    "\n",
    "for i, unitary in enumerate(unitaries):\n",
    "    tensor_network.append(tn.Node(unitary.reshape(redistribute_indexes), name=f'unitary_{i}'))\n",
    "    tensor_network.append(tn.Node(unitary.conjugate().T.reshape(redistribute_indexes), name=f'unitary_{i+1}'))"
   ]
  },
  {
   "cell_type": "code",
   "execution_count": 12,
   "metadata": {},
   "outputs": [],
   "source": [
    "# Preparing the tensors holding the data and connecting their edges to the unitary tensors\n",
    "\n",
    "feature_map = np.zeros((data.shape[0], 2))\n",
    "tensor_data = []\n",
    "\n",
    "for i in range(dim):\n",
    "    for k in range(dim):\n",
    "        l = i*dim+k # Index in the input data array of length dim**2x1 \n",
    "        idx= 2*i*dim+k # Index in the array of dual and non-dual vectors of length 2*dim**2x1\n",
    "        feature_map[l][0] = np.cos(np.pi / 2 * data[l])\n",
    "        feature_map[l][1] = np.sin(np.pi / 2 * data[l])\n",
    "        tensor_data.append(tn.Node(feature_map[l], name=f'data_{idx}'))\n",
    "        # print(f'Normal unitary_id:{2*i} tensor_data:{idx}')\n",
    "        tensor_network[2*i][k]^tensor_data[idx][0]\n",
    "    for k in range(dim):\n",
    "        l = i*dim+k\n",
    "        idx= 2*i*dim+k\n",
    "        # print(f'H unitary_id:{(2*i)+1} tensor_data_h:{idx+dim}')\n",
    "        tensor_data.append(tn.Node(feature_map[l].T, name=f'data_h_{idx}'))\n",
    "        tensor_network[(2*i)+1][k]^tensor_data[idx+dim][0]"
   ]
  },
  {
   "cell_type": "code",
   "execution_count": 13,
   "metadata": {},
   "outputs": [],
   "source": [
    "gates_per_step = []\n",
    "c_gates = [0] # Cummulative gates in a given step\n",
    "\n",
    "# Generating the structure of the tensor network\n",
    "gates_per_step.append(dim**2//(2**v)) # The number of gates in the first step depends on the bond dimensions\n",
    "# Revise\n",
    "n_steps = int(np.log2(gates_per_step[0])) + 1\n",
    "\n",
    "for i in range(n_steps-1):\n",
    "    # print(f'{i}\\n')\n",
    "    gates_per_step.append(gates_per_step[i]//2)\n",
    "    \n",
    "sum_ = 0 \n",
    "for i in range(len(gates_per_step)):\n",
    "    sum_ += 2*gates_per_step[i]\n",
    "    c_gates.append(sum_)"
   ]
  },
  {
   "cell_type": "code",
   "execution_count": 96,
   "metadata": {},
   "outputs": [
    {
     "name": "stdout",
     "output_type": "stream",
     "text": [
      "Unitary_id:0 Unitary_H_id:1 thru edge:4->4\n",
      "\n",
      "Unitary_id:0 Unitary_H_id:1 thru edge:5->5\n",
      "\n",
      "Unitary_id:0 Unitary_next_id:8 thru edge:6->0\n",
      "\n",
      "Unitary_H_id:1 Unitary_H_next_id:9 thru edge:6->0\n",
      "\n",
      "Unitary_id:0 Unitary_next_id:8 thru edge:7->1\n",
      "\n",
      "Unitary_H_id:1 Unitary_H_next_id:9 thru edge:7->1\n",
      "\n",
      "Unitary_id:2 Unitary_H_id:3 thru edge:4->4\n",
      "\n",
      "Unitary_id:2 Unitary_H_id:3 thru edge:5->5\n",
      "\n",
      "Unitary_id:2 Unitary_next_id:8 thru edge:6->2\n",
      "\n",
      "Unitary_H_id:3 Unitary_H_next_id:9 thru edge:6->2\n",
      "\n",
      "Unitary_id:2 Unitary_next_id:8 thru edge:7->3\n",
      "\n",
      "Unitary_H_id:3 Unitary_H_next_id:9 thru edge:7->3\n",
      "\n",
      "Unitary_id:4 Unitary_H_id:5 thru edge:4->4\n",
      "\n",
      "Unitary_id:4 Unitary_H_id:5 thru edge:5->5\n",
      "\n",
      "Unitary_id:4 Unitary_next_id:10 thru edge:6->0\n",
      "\n",
      "Unitary_H_id:5 Unitary_H_next_id:11 thru edge:6->0\n",
      "\n",
      "Unitary_id:4 Unitary_next_id:10 thru edge:7->1\n",
      "\n",
      "Unitary_H_id:5 Unitary_H_next_id:11 thru edge:7->1\n",
      "\n",
      "Unitary_id:6 Unitary_H_id:7 thru edge:4->4\n",
      "\n",
      "Unitary_id:6 Unitary_H_id:7 thru edge:5->5\n",
      "\n",
      "Unitary_id:6 Unitary_next_id:10 thru edge:6->2\n",
      "\n",
      "Unitary_H_id:7 Unitary_H_next_id:11 thru edge:6->2\n",
      "\n",
      "Unitary_id:6 Unitary_next_id:10 thru edge:7->3\n",
      "\n",
      "Unitary_H_id:7 Unitary_H_next_id:11 thru edge:7->3\n",
      "\n",
      "Unitary_id:8 Unitary_H_id:9 thru edge:4->4\n",
      "\n",
      "Unitary_id:8 Unitary_H_id:9 thru edge:5->5\n",
      "\n",
      "Unitary_id:8 Unitary_next_id:12 thru edge:6->0\n",
      "\n",
      "Unitary_H_id:9 Unitary_H_next_id:13 thru edge:6->0\n",
      "\n",
      "Unitary_id:8 Unitary_next_id:12 thru edge:7->1\n",
      "\n",
      "Unitary_H_id:9 Unitary_H_next_id:13 thru edge:7->1\n",
      "\n",
      "Unitary_id:10 Unitary_H_id:11 thru edge:4->4\n",
      "\n",
      "Unitary_id:10 Unitary_H_id:11 thru edge:5->5\n",
      "\n",
      "Unitary_id:10 Unitary_next_id:12 thru edge:6->2\n",
      "\n",
      "Unitary_H_id:11 Unitary_H_next_id:13 thru edge:6->2\n",
      "\n",
      "Unitary_id:10 Unitary_next_id:12 thru edge:7->3\n",
      "\n",
      "Unitary_H_id:11 Unitary_H_next_id:13 thru edge:7->3\n",
      "\n"
     ]
    }
   ],
   "source": [
    "idx = 0\n",
    "for i in range(n_steps-1): # Last execution is peeled off, as there's no 'next tensor' to link\n",
    "    for j in range(gates_per_step[i]):\n",
    "        # Within a given gate\n",
    "        gate_idx = 2*j+c_gates[i]\n",
    "        for k in range(v):\n",
    "            tensor_network[gate_idx][2*v+k] ^ tensor_network[gate_idx+1][2*v+k]\n",
    "            # print(f'Unitary_id:{gate_idx} Unitary_H_id:{gate_idx+1} thru edge:{2*v+k}->{2*v+k}\\n')\n",
    "        for k in range(v):\n",
    "            # print(f'Unitary_id:{gate_idx} Unitary_next_id:{((gate_idx-c_gates[i])//(v**2))*2+c_gates[i+1]} thru edge:{k+3*v}->{((gate_idx//2)%2)*v+k}\\n')\n",
    "            # print(f'Unitary_H_id:{gate_idx+1} Unitary_H_next_id:{((gate_idx-c_gates[i])//(v**2))*2+c_gates[i+1]+1} thru edge:{k+3*v}->{((gate_idx//2)%2)*v+k}\\n')\n",
    "            tensor_network[gate_idx][k+3*v] ^ tensor_network[((gate_idx-c_gates[i])//(v**2))*2+c_gates[i+1]][((gate_idx//2)%2)*v+k] \n",
    "            tensor_network[gate_idx+1][k+3*v] ^ tensor_network[((gate_idx-c_gates[i])//(v**2))*2+c_gates[i+1]+1][((gate_idx//2)%2)*v+k]\n",
    "\n",
    "# Contracting the last tensor in the network\n",
    "gate_idx = c_gates[-2] # Remember we appended an offset 0, thus -2 instead of -1\n",
    "for k in range(v):\n",
    "    tensor_network[gate_idx][2*v+k] ^ tensor_network[gate_idx+1][2*v+k]\n",
    "    # print(f'Unitary_id:{gate_idx} Unitary_H_id:{gate_idx+1} thru edge:{2*v+k}->{2*v+k}\\n')\n",
    "    \n",
    "tensor_network[gate_idx][-2] ^ tensor_network[gate_idx+1][-2] # One of the output edges is contracted, \n",
    "            "
   ]
  },
  {
   "cell_type": "code",
   "execution_count": 15,
   "metadata": {},
   "outputs": [
    {
     "data": {
      "text/plain": [
       "12"
      ]
     },
     "execution_count": 15,
     "metadata": {},
     "output_type": "execute_result"
    }
   ],
   "source": [
    "c_gates[-2]"
   ]
  },
  {
   "cell_type": "code",
   "execution_count": 2,
   "metadata": {},
   "outputs": [
    {
     "ename": "NameError",
     "evalue": "name 'c_gates' is not defined",
     "output_type": "error",
     "traceback": [
      "\u001b[0;31m---------------------------------------------------------------------------\u001b[0m",
      "\u001b[0;31mNameError\u001b[0m                                 Traceback (most recent call last)",
      "\u001b[0;32m<ipython-input-2-d7f6a9a6ce4b>\u001b[0m in \u001b[0;36m<module>\u001b[0;34m\u001b[0m\n\u001b[0;32m----> 1\u001b[0;31m \u001b[0mc_gates\u001b[0m\u001b[0;34m\u001b[0m\u001b[0;34m\u001b[0m\u001b[0m\n\u001b[0m",
      "\u001b[0;31mNameError\u001b[0m: name 'c_gates' is not defined"
     ]
    }
   ],
   "source": [
    "c_gates"
   ]
  },
  {
   "cell_type": "code",
   "execution_count": 71,
   "metadata": {},
   "outputs": [
    {
     "data": {
      "text/plain": [
       "[4, 2, 1]"
      ]
     },
     "execution_count": 71,
     "metadata": {},
     "output_type": "execute_result"
    }
   ],
   "source": [
    "gates_per_step"
   ]
  },
  {
   "cell_type": "code",
   "execution_count": 214,
   "metadata": {},
   "outputs": [],
   "source": [
    "test = [1,1,1,1]"
   ]
  },
  {
   "cell_type": "code",
   "execution_count": 215,
   "metadata": {},
   "outputs": [],
   "source": [
    "test.insert(0,0)"
   ]
  },
  {
   "cell_type": "code",
   "execution_count": 216,
   "metadata": {},
   "outputs": [
    {
     "data": {
      "text/plain": [
       "[0, 1, 1, 1, 1]"
      ]
     },
     "execution_count": 216,
     "metadata": {},
     "output_type": "execute_result"
    }
   ],
   "source": [
    "test"
   ]
  },
  {
   "cell_type": "code",
   "execution_count": 220,
   "metadata": {},
   "outputs": [
    {
     "data": {
      "text/plain": [
       "[0, 8, 12, 14]"
      ]
     },
     "execution_count": 220,
     "metadata": {},
     "output_type": "execute_result"
    }
   ],
   "source": [
    "c_gates"
   ]
  },
  {
   "cell_type": "code",
   "execution_count": null,
   "metadata": {},
   "outputs": [],
   "source": []
  }
 ],
 "metadata": {
  "kernelspec": {
   "display_name": "Python 3",
   "language": "python",
   "name": "python3"
  },
  "language_info": {
   "codemirror_mode": {
    "name": "ipython",
    "version": 3
   },
   "file_extension": ".py",
   "mimetype": "text/x-python",
   "name": "python",
   "nbconvert_exporter": "python",
   "pygments_lexer": "ipython3",
   "version": "3.7.7"
  }
 },
 "nbformat": 4,
 "nbformat_minor": 4
}
