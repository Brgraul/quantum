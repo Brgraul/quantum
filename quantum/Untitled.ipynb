{
 "cells": [
  {
   "cell_type": "code",
   "execution_count": 1,
   "metadata": {},
   "outputs": [],
   "source": [
    "import tensorflow as tf"
   ]
  },
  {
   "cell_type": "code",
   "execution_count": 1,
   "metadata": {},
   "outputs": [],
   "source": [
    "import numpy as np"
   ]
  },
  {
   "cell_type": "code",
   "execution_count": 109,
   "metadata": {},
   "outputs": [],
   "source": [
    "import qiskit\n",
    "from scipy.linalg import expm\n"
   ]
  },
  {
   "cell_type": "code",
   "execution_count": 6,
   "metadata": {},
   "outputs": [],
   "source": [
    "weights = np.random.normal(size=(2**(4*v), 1))\n"
   ]
  },
  {
   "cell_type": "code",
   "execution_count": 112,
   "metadata": {},
   "outputs": [],
   "source": [
    "weights.shape\n",
    "\n",
    "qubits = 16\n",
    "steps = int(np.log2(qubits))"
   ]
  },
  {
   "cell_type": "code",
   "execution_count": 113,
   "metadata": {},
   "outputs": [
    {
     "data": {
      "text/plain": [
       "[8, 4, 2, 1]"
      ]
     },
     "execution_count": 113,
     "metadata": {},
     "output_type": "execute_result"
    }
   ],
   "source": [
    "gates_per_step = []\n",
    "for i in range(1,steps+1):\n",
    "    gates_per_step.append(qubits//(2**i))\n",
    "gates_per_step "
   ]
  },
  {
   "cell_type": "code",
   "execution_count": 55,
   "metadata": {},
   "outputs": [],
   "source": [
    "params = 2**(4*v)*sum(gates_per_step)"
   ]
  },
  {
   "cell_type": "code",
   "execution_count": 107,
   "metadata": {},
   "outputs": [],
   "source": [
    "from qiskit.quantum_info.operators.predicates import (is_hermitian_matrix,\n",
    "                                                      is_unitary_matrix)\n"
   ]
  },
  {
   "cell_type": "code",
   "execution_count": 90,
   "metadata": {},
   "outputs": [
    {
     "data": {
      "text/plain": [
       "array([-0.61653241, -0.25805993, -0.96188335,  1.55362825,  0.59733385,\n",
       "       -0.82732927, -1.35153459,  0.08732493, -1.521356  , -0.33762162,\n",
       "        0.32980064, -0.06917155, -0.08559301,  0.75805073,  2.01477143,\n",
       "       -0.49177805])"
      ]
     },
     "execution_count": 90,
     "metadata": {},
     "output_type": "execute_result"
    }
   ],
   "source": [
    "weights = np.random.normal(size=(int(sum(gates_per_step)), 2**(4*v)))\n",
    "weights = weights[0]\n",
    "weights"
   ]
  },
  {
   "cell_type": "code",
   "execution_count": 114,
   "metadata": {},
   "outputs": [],
   "source": [
    "def unitary_from_hermitian(hermitian):\n",
    "    \"\"\"Generates a unitary matrix from a hermitian matrix.\n",
    "        The formula is U = e^(i*H).\n",
    "\n",
    "    Args:\n",
    "        hermitian: A hermitian matrix.\n",
    "\n",
    "    Returns:\n",
    "        unitary: The resulting unitarian matrix.\n",
    "\n",
    "    Raises:\n",
    "        AssertionError: If the resulting matrix is not unitarian.\n",
    "    \"\"\"\n",
    "    unitary = np.matrix(expm(1j * hermitian))\n",
    "    assert is_unitary_matrix(unitary)\n",
    "    return unitary\n",
    "\n",
    "\n",
    "def hermitian_from_weights(weights, dimension):\n",
    "    \"\"\"Generates a  complex hermitian matrix from a set of weights.\n",
    "        The hermitian is constructed by an upper triangle matrix which then is\n",
    "        added to its transpose. The first dimension weights are used for the real\n",
    "        diagonal values, the next values are used for the real parts of the upper\n",
    "        triangle the rest for the imaginarie parts.\n",
    "\n",
    "    Args:\n",
    "        weights: List of weights.\n",
    "        dimension: size of the matrix.\n",
    "\n",
    "    Returns:\n",
    "        hermitian: The resulting hermitian matrix.\n",
    "\n",
    "    Raises:\n",
    "        AssertionError: If the resulting matrix is not hermitian.\n",
    "    \"\"\"\n",
    "    diagonals = weights[:dimension]\n",
    "    dim = ((dimension**2 - dimension) // 2) + dimension\n",
    "    reals = weights[dimension:dim]\n",
    "    print(reals)\n",
    "    imaginaries = weights[dim:]\n",
    "    print(imaginaries)\n",
    "    assert reals.shape == imaginaries.shape\n",
    "    diag = np.matrix(np.diag(diagonals))\n",
    "    hermitian = np.matrix(np.zeros((dimension,dimension), dtype=complex))\n",
    "    hermitian[np.triu_indices(dimension, 1)] = np.array(\n",
    "        [complex(a, b) for a, b in zip(reals, imaginaries)])\n",
    "    hermitian = hermitian + hermitian.H + diag  # tril and triu don't use the same ordering!\n",
    "    assert is_hermitian_matrix(hermitian)\n",
    "    return hermitian\n",
    "\n",
    "\n",
    "def unitaries_from_weights(weights, dimension=4):\n",
    "    \"\"\"Wrapper function to generate unitary matricies from weight list.\n",
    "\n",
    "    Args:\n",
    "        weights: The weights to transform.\n",
    "\n",
    "    Returns:\n",
    "        unitaries: The resulting list of unitary matrices.\n",
    "    \"\"\"\n",
    "    unitaries = []\n",
    "    for weight in weights:\n",
    "        unitaries.append(\n",
    "            unitary_from_hermitian(hermitian_from_weights(weight, dimension)))\n",
    "    return unitaries\n",
    "\n"
   ]
  },
  {
   "cell_type": "code",
   "execution_count": 97,
   "metadata": {},
   "outputs": [
    {
     "data": {
      "text/plain": [
       "10"
      ]
     },
     "execution_count": 97,
     "metadata": {},
     "output_type": "execute_result"
    }
   ],
   "source": []
  },
  {
   "cell_type": "code",
   "execution_count": 98,
   "metadata": {},
   "outputs": [
    {
     "name": "stdout",
     "output_type": "stream",
     "text": [
      "[[ 0.        +0.j          0.59733385+0.32980064j -0.82732927-0.06917155j\n",
      "  -1.35153459-0.08559301j]\n",
      " [ 0.        +0.j          0.        +0.j          0.08732493+0.75805073j\n",
      "  -1.521356  +2.01477143j]\n",
      " [ 0.        +0.j          0.        +0.j          0.        +0.j\n",
      "  -0.33762162-0.49177805j]\n",
      " [ 0.        +0.j          0.        +0.j          0.        +0.j\n",
      "   0.        +0.j        ]]\n"
     ]
    },
    {
     "ename": "NameError",
     "evalue": "name 'is_hermitian_matrix' is not defined",
     "output_type": "error",
     "traceback": [
      "\u001b[0;31m---------------------------------------------------------------------------\u001b[0m",
      "\u001b[0;31mNameError\u001b[0m                                 Traceback (most recent call last)",
      "\u001b[0;32m<ipython-input-98-cb5e280ed0f3>\u001b[0m in \u001b[0;36m<module>\u001b[0;34m\u001b[0m\n\u001b[1;32m      4\u001b[0m \u001b[0mprint\u001b[0m\u001b[0;34m(\u001b[0m\u001b[0mhermitian\u001b[0m\u001b[0;34m)\u001b[0m\u001b[0;34m\u001b[0m\u001b[0;34m\u001b[0m\u001b[0m\n\u001b[1;32m      5\u001b[0m \u001b[0mhermitian\u001b[0m \u001b[0;34m=\u001b[0m \u001b[0mhermitian\u001b[0m \u001b[0;34m+\u001b[0m \u001b[0mhermitian\u001b[0m\u001b[0;34m.\u001b[0m\u001b[0mH\u001b[0m \u001b[0;34m+\u001b[0m \u001b[0mdiag\u001b[0m  \u001b[0;31m# tril and triu don't use the same ordering!\u001b[0m\u001b[0;34m\u001b[0m\u001b[0;34m\u001b[0m\u001b[0m\n\u001b[0;32m----> 6\u001b[0;31m \u001b[0;32massert\u001b[0m \u001b[0mis_hermitian_matrix\u001b[0m\u001b[0;34m(\u001b[0m\u001b[0mhermitian\u001b[0m\u001b[0;34m)\u001b[0m\u001b[0;34m\u001b[0m\u001b[0;34m\u001b[0m\u001b[0m\n\u001b[0m",
      "\u001b[0;31mNameError\u001b[0m: name 'is_hermitian_matrix' is not defined"
     ]
    }
   ],
   "source": []
  },
  {
   "cell_type": "code",
   "execution_count": 115,
   "metadata": {},
   "outputs": [
    {
     "name": "stdout",
     "output_type": "stream",
     "text": [
      "[-0.80188114 -1.228659    0.43548494  0.49197316  0.76509507 -2.01568188]\n",
      "[-0.3232818   0.08423062  2.8596082  -1.44204407  0.44144078 -1.01910207]\n",
      "[-0.34502721  0.0475294   1.43054358 -0.48934324 -0.85134716 -1.58723763]\n",
      "[ 0.38832741  0.00175392  1.06930924 -1.16631009  0.02174016 -0.81206183]\n",
      "[ 0.44041085 -0.70407063  0.63468108 -0.05686144  0.56224912 -0.194959  ]\n",
      "[-9.56047639e-01  1.32983265e-03  7.99268037e-01  1.96191179e+00\n",
      " -1.35453022e+00 -4.43547835e-01]\n",
      "[ 0.08527857 -0.00575754  0.34629393 -0.480302    0.18029241 -0.02466638]\n",
      "[ 2.36894044  0.48333911 -1.57509119  1.41114378 -0.48551818 -0.02268053]\n",
      "[ 2.03968572 -0.4183232   1.62294743  1.01766239  0.0874474   0.36151814]\n",
      "[-0.99307511  1.18630735 -0.70990139 -0.09389978 -2.13498692  1.41036251]\n",
      "[-0.90680797 -0.21753844 -1.35487343 -0.25780077 -0.72196113  0.05805215]\n",
      "[-1.22000465 -0.59113708 -0.38064271 -0.88801338 -0.06873617  0.25607384]\n",
      "[-2.62945989 -0.62901938 -0.94682437 -0.94091447 -0.62587322  1.37032986]\n",
      "[ 0.93635319  0.94737381 -1.05578259  2.40571998 -0.30072773 -0.16732265]\n",
      "[-1.81169585 -0.6563479  -0.25303217 -1.146027    0.01261617 -0.38657804]\n",
      "[ 1.3277981   0.76252212  0.86874326 -2.09348195  0.63131392 -0.46219259]\n",
      "[ 1.92446883 -0.04891333  1.52340747  0.03310059 -1.76741007 -0.04818095]\n",
      "[ 0.23640619 -0.15550536  0.11257373  0.19181554 -0.2328155  -0.25676341]\n",
      "[-0.48005853 -0.17592394 -0.62848258  1.14871067  0.9128321   0.05401851]\n",
      "[ 0.45305738 -0.645867    0.19675447 -0.64050094  0.03971769 -2.18792194]\n",
      "[ 0.9991781   0.89213266 -0.29140187 -1.26305481 -0.65662284 -0.70895229]\n",
      "[ 0.58220384  1.11300022  1.06893093 -0.60478392 -0.34856694  0.09598008]\n",
      "[ 1.6828188   0.70087381  0.52138471 -0.08497392 -0.40726206  1.23339938]\n",
      "[ 0.42620027 -0.18853938  1.3927345   0.18158793  0.04082615  0.35411047]\n",
      "[ 0.14752074  0.0812769  -0.71463085 -0.04546125  1.14373136  0.56639383]\n",
      "[ 0.43847241  1.03710542 -0.29405426 -2.30790901 -1.35497718  1.77953207]\n",
      "[ 0.9212544  -0.35177274  1.19785254  0.71263094  0.91716406 -0.09472958]\n",
      "[-0.42199625  1.21032685  1.79986967 -0.30343743 -0.2428076  -1.09293486]\n",
      "[ 0.95211116  0.70762652 -1.01228879 -1.17359567  0.70996126 -1.67912375]\n",
      "[-0.21727832 -1.91299232 -0.52909394  0.13460314 -1.46934504  0.27060181]\n"
     ]
    },
    {
     "ename": "NameError",
     "evalue": "name 'step_size' is not defined",
     "output_type": "error",
     "traceback": [
      "\u001b[0;31m---------------------------------------------------------------------------\u001b[0m",
      "\u001b[0;31mNameError\u001b[0m                                 Traceback (most recent call last)",
      "\u001b[0;32m<ipython-input-115-6cf8e8f09671>\u001b[0m in \u001b[0;36m<module>\u001b[0;34m\u001b[0m\n\u001b[1;32m     10\u001b[0m     \u001b[0;32mfor\u001b[0m \u001b[0mj\u001b[0m \u001b[0;32min\u001b[0m \u001b[0mrange\u001b[0m\u001b[0;34m(\u001b[0m\u001b[0mgates_per_step\u001b[0m\u001b[0;34m[\u001b[0m\u001b[0mi\u001b[0m\u001b[0;34m]\u001b[0m\u001b[0;34m)\u001b[0m\u001b[0;34m:\u001b[0m\u001b[0;34m\u001b[0m\u001b[0;34m\u001b[0m\u001b[0m\n\u001b[1;32m     11\u001b[0m         \u001b[0mqubits\u001b[0m \u001b[0;34m=\u001b[0m \u001b[0;34m[\u001b[0m\u001b[0;34m]\u001b[0m\u001b[0;34m\u001b[0m\u001b[0;34m\u001b[0m\u001b[0m\n\u001b[0;32m---> 12\u001b[0;31m         \u001b[0mlower\u001b[0m \u001b[0;34m=\u001b[0m \u001b[0mstep_size\u001b[0m \u001b[0;34m*\u001b[0m \u001b[0mj\u001b[0m \u001b[0;34m+\u001b[0m \u001b[0;36m2\u001b[0m\u001b[0;34m**\u001b[0m\u001b[0mi\u001b[0m \u001b[0;34m-\u001b[0m \u001b[0;36m1\u001b[0m\u001b[0;34m\u001b[0m\u001b[0;34m\u001b[0m\u001b[0m\n\u001b[0m\u001b[1;32m     13\u001b[0m         \u001b[0mupper\u001b[0m \u001b[0;34m=\u001b[0m \u001b[0mstep_size\u001b[0m \u001b[0;34m*\u001b[0m \u001b[0mj\u001b[0m \u001b[0;34m+\u001b[0m \u001b[0mstep_size\u001b[0m\u001b[0;34m\u001b[0m\u001b[0;34m\u001b[0m\u001b[0m\n\u001b[1;32m     14\u001b[0m         \u001b[0mqubits\u001b[0m\u001b[0;34m.\u001b[0m\u001b[0mappend\u001b[0m\u001b[0;34m(\u001b[0m\u001b[0mbase_circuit\u001b[0m\u001b[0;34m.\u001b[0m\u001b[0mqubits\u001b[0m\u001b[0;34m[\u001b[0m\u001b[0mlower\u001b[0m\u001b[0;34m]\u001b[0m\u001b[0;34m)\u001b[0m\u001b[0;34m\u001b[0m\u001b[0;34m\u001b[0m\u001b[0m\n",
      "\u001b[0;31mNameError\u001b[0m: name 'step_size' is not defined"
     ]
    }
   ],
   "source": [
    "base_circuit = qiskit.QuantumCircuit(dimension, 1)\n",
    "\n",
    "weights = np.random.normal(size=(int(sum(gates_per_step)), 2**(4*v)))\n",
    "\n",
    "unitaries = unitaries_from_weights(weights) # Theoretically we have 15 unitaries\n",
    "\n",
    "\n",
    "index = 0\n",
    "for i in range(len(gates_per_step)):\n",
    "    for j in range(gates_per_step[i]):\n",
    "        qubits = []\n",
    "        lower = step_size * j + 2**i - 1\n",
    "        upper = step_size * j + step_size\n",
    "        qubits.append(base_circuit.qubits[lower])\n",
    "        qubits.append(base_circuit.qubits[upper - 1])\n",
    "        base_circuit.unitary(unitaries[index], qubits, f'U({i},{j})')\n",
    "        index += 1\n",
    "base_circuit.measure([dimension - 1], [0])"
   ]
  },
  {
   "cell_type": "code",
   "execution_count": 126,
   "metadata": {},
   "outputs": [
    {
     "name": "stdout",
     "output_type": "stream",
     "text": [
      "step = 2\n",
      "0\n",
      "1\n",
      "2\n",
      "3\n",
      "4\n",
      "5\n",
      "6\n",
      "7\n",
      "8\n",
      "9\n",
      "10\n",
      "11\n",
      "12\n",
      "13\n",
      "14\n",
      "15\n",
      "stop\n",
      "step = 4\n",
      "1\n",
      "3\n",
      "5\n",
      "7\n",
      "9\n",
      "11\n",
      "13\n",
      "15\n",
      "stop\n",
      "step = 8\n",
      "3\n",
      "7\n",
      "11\n",
      "15\n",
      "stop\n",
      "step = 16\n",
      "7\n",
      "15\n",
      "stop\n"
     ]
    }
   ],
   "source": [
    "a = [8, 4, 2, 1]\n",
    "for i in range(4):\n",
    "    step = 2**(i+1)\n",
    "    print(f'step = {step}')\n",
    "    for j in range(a[i]):\n",
    "        print(f'{(2**i)-1+step*j}') # Verified expression start qubit\n",
    "        print(f'{(2**(i+1))-1+step*j}') # Verified expression end qubit\n",
    "    print('stop')"
   ]
  },
  {
   "cell_type": "code",
   "execution_count": null,
   "metadata": {},
   "outputs": [],
   "source": []
  }
 ],
 "metadata": {
  "kernelspec": {
   "display_name": "Python 3",
   "language": "python",
   "name": "python3"
  },
  "language_info": {
   "codemirror_mode": {
    "name": "ipython",
    "version": 3
   },
   "file_extension": ".py",
   "mimetype": "text/x-python",
   "name": "python",
   "nbconvert_exporter": "python",
   "pygments_lexer": "ipython3",
   "version": "3.7.7"
  }
 },
 "nbformat": 4,
 "nbformat_minor": 4
}
