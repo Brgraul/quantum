{
 "cells": [
  {
   "cell_type": "markdown",
   "metadata": {},
   "source": [
    "# This Notebook gives an example for using the implemented quantum circuit\n",
    "In this example we will train the network on the MNIST data set for binary classification.\n",
    "The task is to provide a classifier for numbers *0* and *4*.\n",
    "We will train the network using the default parameters and evaulate the result.\n",
    "\n",
    "## Imports\n",
    "In the beginning we start with importing data_utils to create our train and test sets as well as the network itself."
   ]
  },
  {
   "cell_type": "code",
   "execution_count": 8,
   "metadata": {
    "tags": []
   },
   "outputs": [],
   "source": [
    "from quantum.utils import data_utils\n",
    "from quantum.network import QuantumNetwork"
   ]
  },
  {
   "cell_type": "markdown",
   "metadata": {},
   "source": [
    "## Data Set \n",
    "Now we can create the data set. We have to decide which dimensionality we will tackle. Increasing the size increases the amount ouf time we have to spent.\n",
    "Using *Dimension=4* we have 16 pixels to consider. Since we want a binary calssifier we have to filter the values in the dataset, contradicting exampkles will also be removed.\n",
    "We also have to define a mapping of Labesl to quantum states like `{label: 'state'}`."
   ]
  },
  {
   "cell_type": "code",
   "execution_count": 5,
   "metadata": {},
   "outputs": [],
   "source": [
    "DIMENSION = 4\n",
    "LABELS = {0: '1', 4: '0'}\n",
    "(X_TRAIN, Y_TRAIN), (X_TEST, Y_TEST) = data_utils.generate_dataset(DIMENSION, filter_values=True, value_true=0, value_false=4)"
   ]
  },
  {
   "cell_type": "markdown",
   "metadata": {},
   "source": [
    "## Network\n",
    "In the next step we initialize the network. Important parameters are the dimensionality which influences the circuit and the labels.\n",
    "Hyperparameters need to be set using the respective function. Default values are provided by the paper. If we want to use the \n",
    "efficient circuit (recommended) set `efficient=True` in the initialization. "
   ]
  },
  {
   "cell_type": "code",
   "execution_count": 9,
   "metadata": {},
   "outputs": [],
   "source": [
    "NETWORK = QuantumNetwork(DIMENSION, LABELS, shots=512, efficient=True)\n",
    "NETWORK.set_spsa_hyperparameters() # use this function to controll the SPSA algorithm"
   ]
  },
  {
   "cell_type": "markdown",
   "metadata": {},
   "source": [
    "## Training\n",
    "FInally we can start training. This is straight forward but time-consuming.\n",
    "For now we set a small number of epochs."
   ]
  },
  {
   "cell_type": "code",
   "execution_count": 10,
   "metadata": {
    "tags": []
   },
   "outputs": [
    {
     "output_type": "stream",
     "name": "stdout",
     "text": "Epoch 1 out of 1\n"
    },
    {
     "output_type": "error",
     "ename": "KeyboardInterrupt",
     "evalue": "",
     "traceback": [
      "\u001b[1;31m---------------------------------------------------------------------------\u001b[0m",
      "\u001b[1;31mKeyboardInterrupt\u001b[0m                         Traceback (most recent call last)",
      "\u001b[1;32m<ipython-input-10-16d8ca22bfad>\u001b[0m in \u001b[0;36m<module>\u001b[1;34m\u001b[0m\n\u001b[1;32m----> 1\u001b[1;33m \u001b[0mNETWORK\u001b[0m\u001b[1;33m.\u001b[0m\u001b[0mtrain_epochs\u001b[0m\u001b[1;33m(\u001b[0m\u001b[0mX_TRAIN\u001b[0m\u001b[1;33m,\u001b[0m \u001b[0mY_TRAIN\u001b[0m\u001b[1;33m,\u001b[0m \u001b[0mepochs\u001b[0m\u001b[1;33m=\u001b[0m\u001b[1;36m1\u001b[0m\u001b[1;33m)\u001b[0m\u001b[1;33m\u001b[0m\u001b[1;33m\u001b[0m\u001b[0m\n\u001b[0m",
      "\u001b[1;32mc:\\Users\\Philipp\\Documents\\Projekte\\quantum\\quantum\\network.py\u001b[0m in \u001b[0;36mtrain_epochs\u001b[1;34m(self, x_train, y_train, batchsize, epochs)\u001b[0m\n\u001b[0;32m    158\u001b[0m                 b_loss_1 = self.spsa_batch_loss(batch, beta_k * pertubation,\n\u001b[0;32m    159\u001b[0m                                                 True)\n\u001b[1;32m--> 160\u001b[1;33m                 \u001b[0mb_loss_2\u001b[0m \u001b[1;33m=\u001b[0m \u001b[0mself\u001b[0m\u001b[1;33m.\u001b[0m\u001b[0mspsa_batch_loss\u001b[0m\u001b[1;33m(\u001b[0m\u001b[0mbatch\u001b[0m\u001b[1;33m,\u001b[0m \u001b[1;33m-\u001b[0m\u001b[0mbeta_k\u001b[0m \u001b[1;33m*\u001b[0m \u001b[0mpertubation\u001b[0m\u001b[1;33m)\u001b[0m\u001b[1;33m\u001b[0m\u001b[1;33m\u001b[0m\u001b[0m\n\u001b[0m\u001b[0;32m    161\u001b[0m                 \u001b[0mspsa_g\u001b[0m \u001b[1;33m=\u001b[0m \u001b[1;33m(\u001b[0m\u001b[0mb_loss_1\u001b[0m \u001b[1;33m-\u001b[0m \u001b[0mb_loss_2\u001b[0m\u001b[1;33m)\u001b[0m \u001b[1;33m/\u001b[0m \u001b[1;33m(\u001b[0m\u001b[1;36m2\u001b[0m \u001b[1;33m*\u001b[0m \u001b[0mbeta_k\u001b[0m\u001b[1;33m)\u001b[0m\u001b[1;33m\u001b[0m\u001b[1;33m\u001b[0m\u001b[0m\n\u001b[0;32m    162\u001b[0m                 \u001b[0mself\u001b[0m\u001b[1;33m.\u001b[0m\u001b[0mlosses\u001b[0m\u001b[1;33m.\u001b[0m\u001b[0mappend\u001b[0m\u001b[1;33m(\u001b[0m\u001b[0mb_loss_1\u001b[0m\u001b[1;33m)\u001b[0m\u001b[1;33m\u001b[0m\u001b[1;33m\u001b[0m\u001b[0m\n",
      "\u001b[1;32mc:\\Users\\Philipp\\Documents\\Projekte\\quantum\\quantum\\network.py\u001b[0m in \u001b[0;36mspsa_batch_loss\u001b[1;34m(self, batch, pertubation, track)\u001b[0m\n\u001b[0;32m    124\u001b[0m         \u001b[1;32mfor\u001b[0m \u001b[0mimage\u001b[0m\u001b[1;33m,\u001b[0m \u001b[0mlabel\u001b[0m \u001b[1;32min\u001b[0m \u001b[0mzip\u001b[0m\u001b[1;33m(\u001b[0m\u001b[0mx_batch\u001b[0m\u001b[1;33m,\u001b[0m \u001b[0my_batch\u001b[0m\u001b[1;33m)\u001b[0m\u001b[1;33m:\u001b[0m\u001b[1;33m\u001b[0m\u001b[1;33m\u001b[0m\u001b[0m\n\u001b[0;32m    125\u001b[0m             \u001b[1;32mif\u001b[0m \u001b[0mself\u001b[0m\u001b[1;33m.\u001b[0m\u001b[0mefficient\u001b[0m\u001b[1;33m:\u001b[0m\u001b[1;33m\u001b[0m\u001b[1;33m\u001b[0m\u001b[0m\n\u001b[1;32m--> 126\u001b[1;33m                 prediction = quantum_utils.run_efficient_circuit(\n\u001b[0m\u001b[0;32m    127\u001b[0m                     image.flatten(), weights_, shots=self.shots)\n\u001b[0;32m    128\u001b[0m             \u001b[1;32melse\u001b[0m\u001b[1;33m:\u001b[0m\u001b[1;33m\u001b[0m\u001b[1;33m\u001b[0m\u001b[0m\n",
      "\u001b[1;32mc:\\Users\\Philipp\\Documents\\Projekte\\quantum\\quantum\\utils\\quantum_utils.py\u001b[0m in \u001b[0;36mrun_efficient_circuit\u001b[1;34m(image, weights, backend, draw, shots)\u001b[0m\n\u001b[0;32m    159\u001b[0m     \"\"\"\n\u001b[0;32m    160\u001b[0m     \u001b[0mfeatures\u001b[0m \u001b[1;33m=\u001b[0m \u001b[0mtransform\u001b[0m\u001b[1;33m(\u001b[0m\u001b[0mimage\u001b[0m\u001b[1;33m)\u001b[0m\u001b[1;33m\u001b[0m\u001b[1;33m\u001b[0m\u001b[0m\n\u001b[1;32m--> 161\u001b[1;33m     \u001b[0munitaries\u001b[0m \u001b[1;33m=\u001b[0m \u001b[0munitaries_from_weights\u001b[0m\u001b[1;33m(\u001b[0m\u001b[0mweights\u001b[0m\u001b[1;33m,\u001b[0m \u001b[1;36m16\u001b[0m\u001b[1;33m)\u001b[0m\u001b[1;33m\u001b[0m\u001b[1;33m\u001b[0m\u001b[0m\n\u001b[0m\u001b[0;32m    162\u001b[0m \u001b[1;33m\u001b[0m\u001b[0m\n\u001b[0;32m    163\u001b[0m     \u001b[0mbase_circiut\u001b[0m \u001b[1;33m=\u001b[0m \u001b[0mqiskit\u001b[0m\u001b[1;33m.\u001b[0m\u001b[0mQuantumCircuit\u001b[0m\u001b[1;33m(\u001b[0m\u001b[1;36m4\u001b[0m\u001b[1;33m,\u001b[0m \u001b[1;36m1\u001b[0m\u001b[1;33m)\u001b[0m\u001b[1;33m\u001b[0m\u001b[1;33m\u001b[0m\u001b[0m\n",
      "\u001b[1;32mc:\\Users\\Philipp\\Documents\\Projekte\\quantum\\quantum\\utils\\quantum_utils.py\u001b[0m in \u001b[0;36munitaries_from_weights\u001b[1;34m(weights, dimension)\u001b[0m\n\u001b[0;32m     87\u001b[0m     \u001b[1;32mfor\u001b[0m \u001b[0mweight\u001b[0m \u001b[1;32min\u001b[0m \u001b[0mweights\u001b[0m\u001b[1;33m:\u001b[0m\u001b[1;33m\u001b[0m\u001b[1;33m\u001b[0m\u001b[0m\n\u001b[0;32m     88\u001b[0m         unitaries.append(\n\u001b[1;32m---> 89\u001b[1;33m             unitary_from_hermitian(hermitian_from_weights(weight, dimension)))\n\u001b[0m\u001b[0;32m     90\u001b[0m     \u001b[1;32mreturn\u001b[0m \u001b[0munitaries\u001b[0m\u001b[1;33m\u001b[0m\u001b[1;33m\u001b[0m\u001b[0m\n\u001b[0;32m     91\u001b[0m \u001b[1;33m\u001b[0m\u001b[0m\n",
      "\u001b[1;32mc:\\Users\\Philipp\\Documents\\Projekte\\quantum\\quantum\\utils\\quantum_utils.py\u001b[0m in \u001b[0;36munitary_from_hermitian\u001b[1;34m(hermitian)\u001b[0m\n\u001b[0;32m     39\u001b[0m         \u001b[0mAssertionError\u001b[0m\u001b[1;33m:\u001b[0m \u001b[0mIf\u001b[0m \u001b[0mthe\u001b[0m \u001b[0mresulting\u001b[0m \u001b[0mmatrix\u001b[0m \u001b[1;32mis\u001b[0m \u001b[1;32mnot\u001b[0m \u001b[0munitarian\u001b[0m\u001b[1;33m.\u001b[0m\u001b[1;33m\u001b[0m\u001b[1;33m\u001b[0m\u001b[0m\n\u001b[0;32m     40\u001b[0m     \"\"\"\n\u001b[1;32m---> 41\u001b[1;33m     \u001b[0munitary\u001b[0m \u001b[1;33m=\u001b[0m \u001b[0mnp\u001b[0m\u001b[1;33m.\u001b[0m\u001b[0mmatrix\u001b[0m\u001b[1;33m(\u001b[0m\u001b[0mexpm\u001b[0m\u001b[1;33m(\u001b[0m\u001b[1;36m1j\u001b[0m \u001b[1;33m*\u001b[0m \u001b[0mhermitian\u001b[0m\u001b[1;33m)\u001b[0m\u001b[1;33m)\u001b[0m\u001b[1;33m\u001b[0m\u001b[1;33m\u001b[0m\u001b[0m\n\u001b[0m\u001b[0;32m     42\u001b[0m     \u001b[1;32massert\u001b[0m \u001b[0mis_unitary_matrix\u001b[0m\u001b[1;33m(\u001b[0m\u001b[0munitary\u001b[0m\u001b[1;33m)\u001b[0m\u001b[1;33m\u001b[0m\u001b[1;33m\u001b[0m\u001b[0m\n\u001b[0;32m     43\u001b[0m     \u001b[1;32mreturn\u001b[0m \u001b[0munitary\u001b[0m\u001b[1;33m\u001b[0m\u001b[1;33m\u001b[0m\u001b[0m\n",
      "\u001b[1;32mc:\\Users\\Philipp\\Documents\\Projekte\\quantum\\venv\\lib\\site-packages\\scipy\\linalg\\matfuncs.py\u001b[0m in \u001b[0;36mexpm\u001b[1;34m(A)\u001b[0m\n\u001b[0;32m    254\u001b[0m     \u001b[1;31m# Input checking and conversion is provided by sparse.linalg.expm().\u001b[0m\u001b[1;33m\u001b[0m\u001b[1;33m\u001b[0m\u001b[1;33m\u001b[0m\u001b[0m\n\u001b[0;32m    255\u001b[0m     \u001b[1;32mimport\u001b[0m \u001b[0mscipy\u001b[0m\u001b[1;33m.\u001b[0m\u001b[0msparse\u001b[0m\u001b[1;33m.\u001b[0m\u001b[0mlinalg\u001b[0m\u001b[1;33m\u001b[0m\u001b[1;33m\u001b[0m\u001b[0m\n\u001b[1;32m--> 256\u001b[1;33m     \u001b[1;32mreturn\u001b[0m \u001b[0mscipy\u001b[0m\u001b[1;33m.\u001b[0m\u001b[0msparse\u001b[0m\u001b[1;33m.\u001b[0m\u001b[0mlinalg\u001b[0m\u001b[1;33m.\u001b[0m\u001b[0mexpm\u001b[0m\u001b[1;33m(\u001b[0m\u001b[0mA\u001b[0m\u001b[1;33m)\u001b[0m\u001b[1;33m\u001b[0m\u001b[1;33m\u001b[0m\u001b[0m\n\u001b[0m\u001b[0;32m    257\u001b[0m \u001b[1;33m\u001b[0m\u001b[0m\n\u001b[0;32m    258\u001b[0m \u001b[1;33m\u001b[0m\u001b[0m\n",
      "\u001b[1;32mc:\\Users\\Philipp\\Documents\\Projekte\\quantum\\venv\\lib\\site-packages\\scipy\\sparse\\linalg\\matfuncs.py\u001b[0m in \u001b[0;36mexpm\u001b[1;34m(A)\u001b[0m\n\u001b[0;32m    593\u001b[0m             [  0.        ,   0.        ,  20.08553692]])\n\u001b[0;32m    594\u001b[0m     \"\"\"\n\u001b[1;32m--> 595\u001b[1;33m     \u001b[1;32mreturn\u001b[0m \u001b[0m_expm\u001b[0m\u001b[1;33m(\u001b[0m\u001b[0mA\u001b[0m\u001b[1;33m,\u001b[0m \u001b[0muse_exact_onenorm\u001b[0m\u001b[1;33m=\u001b[0m\u001b[1;34m'auto'\u001b[0m\u001b[1;33m)\u001b[0m\u001b[1;33m\u001b[0m\u001b[1;33m\u001b[0m\u001b[0m\n\u001b[0m\u001b[0;32m    596\u001b[0m \u001b[1;33m\u001b[0m\u001b[0m\n\u001b[0;32m    597\u001b[0m \u001b[1;33m\u001b[0m\u001b[0m\n",
      "\u001b[1;32mc:\\Users\\Philipp\\Documents\\Projekte\\quantum\\venv\\lib\\site-packages\\scipy\\sparse\\linalg\\matfuncs.py\u001b[0m in \u001b[0;36m_expm\u001b[1;34m(A, use_exact_onenorm)\u001b[0m\n\u001b[0;32m    667\u001b[0m     \u001b[0ms\u001b[0m \u001b[1;33m=\u001b[0m \u001b[0ms\u001b[0m \u001b[1;33m+\u001b[0m \u001b[0m_ell\u001b[0m\u001b[1;33m(\u001b[0m\u001b[1;36m2\u001b[0m\u001b[1;33m**\u001b[0m\u001b[1;33m-\u001b[0m\u001b[0ms\u001b[0m \u001b[1;33m*\u001b[0m \u001b[0mh\u001b[0m\u001b[1;33m.\u001b[0m\u001b[0mA\u001b[0m\u001b[1;33m,\u001b[0m \u001b[1;36m13\u001b[0m\u001b[1;33m)\u001b[0m\u001b[1;33m\u001b[0m\u001b[1;33m\u001b[0m\u001b[0m\n\u001b[0;32m    668\u001b[0m     \u001b[0mU\u001b[0m\u001b[1;33m,\u001b[0m \u001b[0mV\u001b[0m \u001b[1;33m=\u001b[0m \u001b[0mh\u001b[0m\u001b[1;33m.\u001b[0m\u001b[0mpade13_scaled\u001b[0m\u001b[1;33m(\u001b[0m\u001b[0ms\u001b[0m\u001b[1;33m)\u001b[0m\u001b[1;33m\u001b[0m\u001b[1;33m\u001b[0m\u001b[0m\n\u001b[1;32m--> 669\u001b[1;33m     \u001b[0mX\u001b[0m \u001b[1;33m=\u001b[0m \u001b[0m_solve_P_Q\u001b[0m\u001b[1;33m(\u001b[0m\u001b[0mU\u001b[0m\u001b[1;33m,\u001b[0m \u001b[0mV\u001b[0m\u001b[1;33m,\u001b[0m \u001b[0mstructure\u001b[0m\u001b[1;33m=\u001b[0m\u001b[0mstructure\u001b[0m\u001b[1;33m)\u001b[0m\u001b[1;33m\u001b[0m\u001b[1;33m\u001b[0m\u001b[0m\n\u001b[0m\u001b[0;32m    670\u001b[0m     \u001b[1;32mif\u001b[0m \u001b[0mstructure\u001b[0m \u001b[1;33m==\u001b[0m \u001b[0mUPPER_TRIANGULAR\u001b[0m\u001b[1;33m:\u001b[0m\u001b[1;33m\u001b[0m\u001b[1;33m\u001b[0m\u001b[0m\n\u001b[0;32m    671\u001b[0m         \u001b[1;31m# Invoke Code Fragment 2.1.\u001b[0m\u001b[1;33m\u001b[0m\u001b[1;33m\u001b[0m\u001b[1;33m\u001b[0m\u001b[0m\n",
      "\u001b[1;32mc:\\Users\\Philipp\\Documents\\Projekte\\quantum\\venv\\lib\\site-packages\\scipy\\sparse\\linalg\\matfuncs.py\u001b[0m in \u001b[0;36m_solve_P_Q\u001b[1;34m(U, V, structure)\u001b[0m\n\u001b[0;32m    703\u001b[0m         \u001b[1;32mreturn\u001b[0m \u001b[0mspsolve\u001b[0m\u001b[1;33m(\u001b[0m\u001b[0mQ\u001b[0m\u001b[1;33m,\u001b[0m \u001b[0mP\u001b[0m\u001b[1;33m)\u001b[0m\u001b[1;33m\u001b[0m\u001b[1;33m\u001b[0m\u001b[0m\n\u001b[0;32m    704\u001b[0m     \u001b[1;32melif\u001b[0m \u001b[0mstructure\u001b[0m \u001b[1;32mis\u001b[0m \u001b[1;32mNone\u001b[0m\u001b[1;33m:\u001b[0m\u001b[1;33m\u001b[0m\u001b[1;33m\u001b[0m\u001b[0m\n\u001b[1;32m--> 705\u001b[1;33m         \u001b[1;32mreturn\u001b[0m \u001b[0msolve\u001b[0m\u001b[1;33m(\u001b[0m\u001b[0mQ\u001b[0m\u001b[1;33m,\u001b[0m \u001b[0mP\u001b[0m\u001b[1;33m)\u001b[0m\u001b[1;33m\u001b[0m\u001b[1;33m\u001b[0m\u001b[0m\n\u001b[0m\u001b[0;32m    706\u001b[0m     \u001b[1;32melif\u001b[0m \u001b[0mstructure\u001b[0m \u001b[1;33m==\u001b[0m \u001b[0mUPPER_TRIANGULAR\u001b[0m\u001b[1;33m:\u001b[0m\u001b[1;33m\u001b[0m\u001b[1;33m\u001b[0m\u001b[0m\n\u001b[0;32m    707\u001b[0m         \u001b[1;32mreturn\u001b[0m \u001b[0msolve_triangular\u001b[0m\u001b[1;33m(\u001b[0m\u001b[0mQ\u001b[0m\u001b[1;33m,\u001b[0m \u001b[0mP\u001b[0m\u001b[1;33m)\u001b[0m\u001b[1;33m\u001b[0m\u001b[1;33m\u001b[0m\u001b[0m\n",
      "\u001b[1;32mc:\\Users\\Philipp\\Documents\\Projekte\\quantum\\venv\\lib\\site-packages\\scipy\\linalg\\basic.py\u001b[0m in \u001b[0;36msolve\u001b[1;34m(a, b, sym_pos, lower, overwrite_a, overwrite_b, debug, check_finite, assume_a, transposed)\u001b[0m\n\u001b[0;32m    213\u001b[0m         gecon, getrf, getrs = get_lapack_funcs(('gecon', 'getrf', 'getrs'),\n\u001b[0;32m    214\u001b[0m                                                (a1, b1))\n\u001b[1;32m--> 215\u001b[1;33m         \u001b[0mlu\u001b[0m\u001b[1;33m,\u001b[0m \u001b[0mipvt\u001b[0m\u001b[1;33m,\u001b[0m \u001b[0minfo\u001b[0m \u001b[1;33m=\u001b[0m \u001b[0mgetrf\u001b[0m\u001b[1;33m(\u001b[0m\u001b[0ma1\u001b[0m\u001b[1;33m,\u001b[0m \u001b[0moverwrite_a\u001b[0m\u001b[1;33m=\u001b[0m\u001b[0moverwrite_a\u001b[0m\u001b[1;33m)\u001b[0m\u001b[1;33m\u001b[0m\u001b[1;33m\u001b[0m\u001b[0m\n\u001b[0m\u001b[0;32m    216\u001b[0m         \u001b[0m_solve_check\u001b[0m\u001b[1;33m(\u001b[0m\u001b[0mn\u001b[0m\u001b[1;33m,\u001b[0m \u001b[0minfo\u001b[0m\u001b[1;33m)\u001b[0m\u001b[1;33m\u001b[0m\u001b[1;33m\u001b[0m\u001b[0m\n\u001b[0;32m    217\u001b[0m         x, info = getrs(lu, ipvt, b1,\n",
      "\u001b[1;31mKeyboardInterrupt\u001b[0m: "
     ]
    }
   ],
   "source": [
    "NETWORK.train_epochs(X_TRAIN, Y_TRAIN, epochs=2)"
   ]
  },
  {
   "cell_type": "markdown",
   "metadata": {},
   "source": [
    "## Testing\n",
    "After training we can evaluate our network. Given are **Accuracy** and **Loss per Batch**.\n",
    "*Test Accuracy* can be calculated manually. The weights are"
   ]
  },
  {
   "cell_type": "code",
   "execution_count": null,
   "metadata": {},
   "outputs": [],
   "source": [
    "NETWORK.print_stats()\n",
    "test_count = 0\n",
    "for sample, label in zip(X_TEST, Y_TEST):\n",
    "    if (NETWORK.predict(sample) == label):\n",
    "        test_count += 1\n",
    "print(f'Test Accuracy: {test_count/X_TEST.shape[0]}')"
   ]
  },
  {
   "cell_type": "markdown",
   "metadata": {},
   "source": [
    "## Loading and Saving\n",
    "The model parameters can be stored and saved using the pickle format in python."
   ]
  },
  {
   "cell_type": "code",
   "execution_count": null,
   "metadata": {},
   "outputs": [],
   "source": [
    "filename = 'my_model.pickle'\n",
    "NETWORK.save_model(filename)\n",
    "NETWORK = QuantumNetwork.load_model(filename)"
   ]
  }
 ],
 "metadata": {
  "language_info": {
   "codemirror_mode": {
    "name": "ipython",
    "version": 3
   },
   "file_extension": ".py",
   "mimetype": "text/x-python",
   "name": "python",
   "nbconvert_exporter": "python",
   "pygments_lexer": "ipython3",
   "version": "3.8.3-final"
  },
  "orig_nbformat": 2,
  "kernelspec": {
   "name": "python38364bitvenvvenv5f501b675454440a9bac3f37c233beef",
   "display_name": "Python 3.8.3 64-bit ('venv': venv)"
  }
 },
 "nbformat": 4,
 "nbformat_minor": 2
}