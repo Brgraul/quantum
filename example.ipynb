{
 "cells": [
  {
   "cell_type": "markdown",
   "metadata": {},
   "source": [
    "# This Notebook gives an example for using the implemented quantum circuit\n",
    "In this example we will train the network on the MNIST data set for binary classification.\n",
    "The task is to provide a classifier for numbers *0* and *4*.\n",
    "We will train the network using the default parameters and evaulate the result.\n",
    "\n",
    "## Usage\n",
    "In this section the usage of the module is described.\n",
    "\n",
    "### Imports\n",
    "In the beginning we start with importing data_utils to create our train and test sets as well as the network itself."
   ]
  },
  {
   "cell_type": "code",
   "execution_count": null,
   "metadata": {
    "tags": []
   },
   "outputs": [],
   "source": [
    "from quantum.utils import data_utils\n",
    "from quantum.network import QuantumNetwork"
   ]
  },
  {
   "cell_type": "markdown",
   "metadata": {},
   "source": [
    "### Data Set \n",
    "Now we can create the data set. We have to decide which dimensionality we will tackle. Increasing the size increases the amount ouf time we have to spent.\n",
    "Using *Dimension=4* we have 16 pixels to consider. Since we want a binary calssifier we have to filter the values in the dataset, contradicting exampkles will also be removed.\n",
    "We also have to define a mapping of Labesl to quantum states like `{label: 'state'}`."
   ]
  },
  {
   "cell_type": "code",
   "execution_count": null,
   "metadata": {},
   "outputs": [],
   "source": [
    "DIMENSION = 4\n",
    "LABELS = {0: '1', 4: '0'}\n",
    "(X_TRAIN, Y_TRAIN), (X_TEST, Y_TEST) = data_utils.generate_dataset(DIMENSION, filter_values=True, value_true=0, value_false=4)"
   ]
  },
  {
   "cell_type": "markdown",
   "metadata": {},
   "source": [
    "### Network\n",
    "In the next step we initialize the network. Important parameters are the dimensionality which influences the circuit and the labels.\n",
    "Hyperparameters need to be set using the respective function. Default values are provided by the paper. If we want to use the \n",
    "efficient circuit (recommended) set `efficient=True` in the initialization. "
   ]
  },
  {
   "cell_type": "code",
   "execution_count": null,
   "metadata": {},
   "outputs": [],
   "source": [
    "NETWORK = QuantumNetwork(DIMENSION, LABELS, shots=512, efficient=True)\n",
    "NETWORK.set_spsa_hyperparameters() # use this function to controll the SPSA algorithm"
   ]
  },
  {
   "cell_type": "markdown",
   "metadata": {},
   "source": [
    "### Training\n",
    "FInally we can start training. This is straight forward but time-consuming.\n",
    "For now we set a small number of epochs."
   ]
  },
  {
   "cell_type": "code",
   "execution_count": null,
   "metadata": {
    "tags": []
   },
   "outputs": [],
   "source": [
    "NETWORK.train_epochs(X_TRAIN, Y_TRAIN, epochs=2)"
   ]
  },
  {
   "cell_type": "code",
   "execution_count": null,
   "metadata": {
    "tags": []
   },
   "outputs": [],
   "source": [
    "NETWORK.print_stats()\n",
    "test_count = 0\n",
    "for sample, label in zip(X_TEST, Y_TEST):\n",
    "    if (NETWORK.predict(sample) == label):\n",
    "        test_count += 1\n",
    "print(f'Test Accuracy: {test_count/X_TEST.shape[0]}')"
   ]
  },
  {
   "cell_type": "markdown",
   "metadata": {},
   "source": [
    "### Loading and Saving\n",
    "The model parameters can be stored and saved using the pickle format in python."
   ]
  },
  {
   "cell_type": "code",
   "execution_count": null,
   "metadata": {},
   "outputs": [],
   "source": [
    "filename = 'my_model.pickle'\n",
    "NETWORK.save_model(filename)\n",
    "NETWORK = QuantumNetwork.load_model(filename)"
   ]
  },
  {
   "cell_type": "markdown",
   "metadata": {},
   "source": [
    "## Results\n",
    "This section discusses the results of my findings.\n",
    "\n",
    "### Perfomance\n",
    "Qiskit is optimized for use of tensornetworks. This shows in the timing of the default circuit. \n",
    "The following results were archived on an AMD Ryzen 3700x (8x3.66 GHz) and 16 GB of RAM.\n",
    "The Batches of Size 222 were simulated on the QUASM Simulator.\n",
    "\n",
    "|Circuit|Shots|Dimension|Seconds per Batch|\n",
    "|:------|----:|--------:|----------------:|\n",
    "|Base|1024|4|4500|\n",
    "|Efficient|1024|4|20|\n",
    "|Efficient|512|4|12|\n",
    "|Efficient|1024|4|80|\n",
    "\n",
    "### Accuracy\n",
    "Unfortunatley in terms of accuracy no meaningfull results could be archived. \n",
    "For the parameters given in the paper, the highest test accuracy score was **56%**.\n",
    "The highest overall score archived when using a different set of parameters was **61%**.\n",
    "The parameters are given below:\n",
    "\n",
    "|Parameters|Value|\n",
    "|:---------|----:|\n",
    "|Epochs|200|\n",
    "|Batchsize|222|\n",
    "|a|0.05|\n",
    "|b|0.01|\n",
    "|A|5|\n",
    "|s|0.602|\n",
    "|t|0.101|\n",
    "|𝛾|1|\n",
    "|𝜂|1|\n",
    "|𝜆|0|\n",
    "\n",
    "The trainin courve looked as follows:\n",
    "![Results](https://github.com/Gistbatch/quantum/blob/master/quantum/data/results.png)\n",
    "\n",
    "### Problems\n",
    "There are some problems regarding the implementation not given in the paper:\n",
    "* Weight initialization\n",
    "* Mapping of measurement results to labels\n",
    "\n",
    "An additional problem is in the given explanation of the SPSA algorithm.\n",
    "The implementation confuses the series a<sub>n</sub> and b<sub>n</sub>. In the original paper cited on SPSA (*Implementation of the simultaneous perturbation algorithm for stochastic optimization*) the roles of these series are swaped.\n",
    "Additionally it seems the parameters given in the paper don't fulfill the required convergence criteria for SPSA."
   ]
  }
 ],
 "metadata": {
  "language_info": {
   "codemirror_mode": {
    "name": "ipython",
    "version": 3
   },
   "file_extension": ".py",
   "mimetype": "text/x-python",
   "name": "python",
   "nbconvert_exporter": "python",
   "pygments_lexer": "ipython3",
   "version": "3.8.3-final"
  },
  "orig_nbformat": 2,
  "kernelspec": {
   "name": "python38364bitvenvvenv5f501b675454440a9bac3f37c233beef",
   "display_name": "Python 3.8.3 64-bit ('venv': venv)"
  }
 },
 "nbformat": 4,
 "nbformat_minor": 2
}