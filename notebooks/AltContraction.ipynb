{
 "cells": [
  {
   "cell_type": "code",
   "execution_count": 1,
   "metadata": {},
   "outputs": [],
   "source": [
    "import numpy as np\n",
    "\n",
    "from qiskit.quantum_info.operators.predicates import (is_hermitian_matrix,\n",
    "                                                      is_unitary_matrix)\n",
    "from scipy.linalg import expm\n",
    "import tensornetwork as tn"
   ]
  },
  {
   "cell_type": "code",
   "execution_count": 28,
   "metadata": {},
   "outputs": [],
   "source": [
    "def unitary_from_hermitian(hermitian):\n",
    "    \"\"\"Generates a unitary matrix from a hermitian matrix.\n",
    "        The formula is U = e^(i*H).\n",
    "\n",
    "    Args:\n",
    "        hermitian: A hermitian matrix.\n",
    "\n",
    "    Returns:\n",
    "        unitary: The resulting unitarian matrix.\n",
    "\n",
    "    Raises:\n",
    "        AssertionError: If the resulting matrix is not unitarian.\n",
    "    \"\"\"\n",
    "    unitary = np.array(expm(1j * hermitian))\n",
    "    assert is_unitary_matrix(unitary)\n",
    "    return unitary\n",
    "\n",
    "\n",
    "def hermitian_from_weights(weights, dimension):\n",
    "    \"\"\"Generates a  complex hermitian matrix from a set of weights.\n",
    "        The hermitian is constructed by an upper triangle matrix which then is\n",
    "        added to its transpose. The first dimension weights are used for the real\n",
    "        diagonal values, the next values are used for the real parts of the upper\n",
    "        triangle the rest for the imaginarie parts.\n",
    "\n",
    "    Args:\n",
    "        weights: List of weights.\n",
    "        dimension: size of the matrix.\n",
    "\n",
    "    Returns:\n",
    "        hermitian: The resulting hermitian matrix.\n",
    "\n",
    "    Raises:\n",
    "        AssertionError: If the resulting matrix is not hermitian.\n",
    "    \"\"\"\n",
    "    diagonals = weights[:dimension]\n",
    "    dim = ((dimension**2 - dimension) // 2) + dimension\n",
    "    reals = weights[dimension:dim]\n",
    "    imaginaries = weights[dim:]\n",
    "    assert reals.shape == imaginaries.shape\n",
    "    diag = np.matrix(np.diag(diagonals))\n",
    "    hermitian = np.matrix(np.zeros((dimension, dimension), dtype=complex))\n",
    "\n",
    "    hermitian[np.triu_indices(dimension, 1)] = np.array(\n",
    "        [complex(a, b) for a, b in zip(reals, imaginaries)])\n",
    "\n",
    "    hermitian = hermitian + hermitian.H + diag  # tril and triu don't use the same ordering!\n",
    "    assert is_hermitian_matrix(hermitian)\n",
    "    return hermitian\n",
    "\n",
    "\n",
    "def unitaries_from_weights(weights, dimension=4):\n",
    "    \"\"\"Wrapper function to generate unitary matricies from weight list.\n",
    "\n",
    "    Args:\n",
    "        weights: The weights to transform.\n",
    "\n",
    "    Returns:\n",
    "        unitaries: The resulting list of unitary matrices.\n",
    "    \"\"\"\n",
    "    unitaries = []\n",
    "    for weight in weights:\n",
    "        unitaries.append(\n",
    "            unitary_from_hermitian(hermitian_from_weights(weight, dimension)))\n",
    "    return unitaries\n",
    "\n",
    "def labeling(rho_tensor):\n",
    "    rho = rho_tensor.tensor\n",
    "    if rho[0][0].real > 0.5:\n",
    "        return 1\n",
    "    else:\n",
    "        return 0"
   ]
  },
  {
   "cell_type": "code",
   "execution_count": 44,
   "metadata": {},
   "outputs": [],
   "source": [
    "# Root parameters\n",
    "\n",
    "input_length = 16\n",
    "v = 2\n",
    "\n",
    "# Generating random input data\n",
    "\n",
    "data = np.random.random(size=(input_length))\n",
    "\n",
    "# Derived parameters\n",
    "\n",
    "gates_per_step = []\n",
    "gates_per_step.append(input_length // (2**v))\n",
    "\n",
    "steps = int(np.log2(gates_per_step[0])) + 1 # +1 as we added the first step already\n",
    "\n",
    "for i in range(1, steps):\n",
    "    gates_per_step.append(gates_per_step[i-1]//2)\n",
    "\n",
    "# Cummulative gates in a given step\n",
    "c_gates = [0]  \n",
    "\n",
    "sum_ = 0 \n",
    "for i in range(len(gates_per_step)):\n",
    "    sum_ += 2*gates_per_step[i]\n",
    "    c_gates.append(sum_)"
   ]
  },
  {
   "cell_type": "code",
   "execution_count": 45,
   "metadata": {},
   "outputs": [],
   "source": [
    "# Constructing the unitary matrices that make the quantum circuit\n",
    "weights = np.random.normal(size=(int(sum(gates_per_step)), 2**(4*v)))\n",
    "unitaries = unitaries_from_weights(weights, 2**(2*v))"
   ]
  },
  {
   "cell_type": "code",
   "execution_count": 46,
   "metadata": {},
   "outputs": [
    {
     "name": "stdout",
     "output_type": "stream",
     "text": [
      "[2, 2, 2, 2, 2, 2, 2, 2]\n"
     ]
    }
   ],
   "source": [
    "# Transform the unitary matrixes into tensors\n",
    "tensor_network = []\n",
    "\n",
    "redistribute_indexes = [2 for i in range(int(np.log2(unitaries[0].size)))]\n",
    "\n",
    "for i, unitary in enumerate(unitaries):\n",
    "    tensor_network.append(tn.Node(unitary.reshape(redistribute_indexes), name=f'unitary_{i}'))\n",
    "    tensor_network.append(tn.Node(unitary.conjugate().reshape(redistribute_indexes), name=f'unitary_h_{i}'))   "
   ]
  },
  {
   "cell_type": "code",
   "execution_count": 47,
   "metadata": {},
   "outputs": [],
   "source": [
    "# Preparing the tensors holding the data and connecting their edges to the unitary tensors\n",
    "feature_map = np.zeros((data.shape[0], 2))\n",
    "tensor_data = []\n",
    "\n",
    "for i in range(gates_per_step[0]):\n",
    "    for k in range(2*v):\n",
    "        l = i*2*v+k # Index in the input data array of length dim**2x1 \n",
    "        idx= 2*i*2*v+k # Index in the array of dual and non-dual vectors of length 2*dim**2x1\n",
    "        feature_map[l][0] = np.cos(np.pi / 2 * data[l])\n",
    "        feature_map[l][1] = np.sin(np.pi / 2 * data[l])\n",
    "        tensor_data.append(tn.Node(feature_map[l], name=f'data_{l}'))\n",
    "        # print(f'Normal unitary_id:{2*i} tensor_data:{idx}')\n",
    "        tensor_network[2*i][k]^tensor_data[idx][0]\n",
    "        \n",
    "    for k in range(2*v):\n",
    "        l = i*2*v+k\n",
    "        idx= 2*i*2*v+k\n",
    "        # print(f'H unitary_id:{2*i+1} tensor_data_h:{idx+2*v}')\n",
    "        tensor_data.append(tn.Node(feature_map[l].T, name=f'data_h_{l}'))\n",
    "        tensor_network[2*i+1][k]^tensor_data[idx+2*v][0]"
   ]
  },
  {
   "cell_type": "code",
   "execution_count": 48,
   "metadata": {},
   "outputs": [],
   "source": [
    "# Doing the necessary edge connections between the tensors\n",
    "idx = 0\n",
    "for i in range(steps-1): # Last execution is peeled off, as there's no 'next tensor' to link\n",
    "    for j in range(gates_per_step[i]):\n",
    "        # Within a given gate\n",
    "        gate_idx = 2*j+c_gates[i]\n",
    "        for k in range(v):\n",
    "            tensor_network[gate_idx][2*v+k] ^ tensor_network[gate_idx+1][2*v+k]\n",
    "            # print(f'Unitary_id:{gate_idx} Unitary_H_id:{gate_idx+1} thru edge:{2*v+k}->{2*v+k}\\n')\n",
    "        for k in range(v):\n",
    "            # print(f'Unitary_id:{gate_idx} Unitary_next_id:{((gate_idx-c_gates[i])//4)*2+c_gates[i+1]} thru edge:{k+3*v}->{((gate_idx//2)%2)*v+k}\\n')\n",
    "            # print(f'Unitary_H_id:{gate_idx+1} Unitary_H_next_id:{((gate_idx-c_gates[i])//4)*2+c_gates[i+1]+1} thru edge:{k+3*v}->{((gate_idx//2)%2)*v+k}\\n')\n",
    "            tensor_network[gate_idx][k+3*v] ^ tensor_network[((gate_idx-c_gates[i])//4)*2+c_gates[i+1]][((gate_idx//2)%2)*v+k] \n",
    "            tensor_network[gate_idx+1][k+3*v] ^ tensor_network[((gate_idx-c_gates[i])//4)*2+c_gates[i+1]+1][((gate_idx//2)%2)*v+k]"
   ]
  },
  {
   "cell_type": "code",
   "execution_count": 49,
   "metadata": {},
   "outputs": [],
   "source": [
    "# Contracting the last tensor in the network\n",
    "gate_idx = c_gates[-2] # Remember we appended an offset 0, thus -2 instead of -1\n",
    "for k in range((2*v)-1):\n",
    "    tensor_network[gate_idx][2*v+k] ^ tensor_network[gate_idx+1][2*v+k]\n",
    "    # print(f'Unitary_id:{gate_idx} Unitary_H_id:{gate_idx+1} thru edge:{2*v+k}->{2*v+k}\\n')"
   ]
  },
  {
   "cell_type": "code",
   "execution_count": 50,
   "metadata": {},
   "outputs": [],
   "source": [
    "tn.to_graphviz(tensor_network)"
   ]
  },
  {
   "cell_type": "code",
   "execution_count": 51,
   "metadata": {},
   "outputs": [],
   "source": [
    "temp = []\n",
    "for i in range(gates_per_step[0]):\n",
    "    cont1 = [ tensor_data[i] for i in range(i*4*v, (i+1)*4*v)]\n",
    "    cont_1u = [ tensor_network[i] for i in range(i*v,(i+1)*v)]\n",
    "    cont = cont1 + cont_1u\n",
    "    temp.append(tn.contractors.greedy(cont, ignore_edge_order=True))"
   ]
  },
  {
   "cell_type": "code",
   "execution_count": 52,
   "metadata": {},
   "outputs": [],
   "source": [
    "tmp1 = temp[0] @ tensor_network[8]\n",
    "tmp2 = temp[1] @ tensor_network[9]\n",
    "res = tmp1 @ tmp2"
   ]
  },
  {
   "cell_type": "code",
   "execution_count": 53,
   "metadata": {},
   "outputs": [],
   "source": [
    "tmp3 = temp[2] @ tensor_network[10]\n",
    "tmp4 = temp[3] @ tensor_network[11]\n",
    "res2 = tmp3 @ tmp4"
   ]
  },
  {
   "cell_type": "code",
   "execution_count": 54,
   "metadata": {},
   "outputs": [],
   "source": [
    "tmp5 = res @ tensor_network[12]\n",
    "tmp6 = res2 @ tensor_network[13]\n",
    "res_tot = tmp5 @ tmp6"
   ]
  },
  {
   "cell_type": "code",
   "execution_count": 55,
   "metadata": {},
   "outputs": [
    {
     "data": {
      "text/plain": [
       "1"
      ]
     },
     "execution_count": 55,
     "metadata": {},
     "output_type": "execute_result"
    }
   ],
   "source": [
    "labeling(res_tot)"
   ]
  }
 ],
 "metadata": {
  "kernelspec": {
   "display_name": "Python 3",
   "language": "python",
   "name": "python3"
  },
  "language_info": {
   "codemirror_mode": {
    "name": "ipython",
    "version": 3
   },
   "file_extension": ".py",
   "mimetype": "text/x-python",
   "name": "python",
   "nbconvert_exporter": "python",
   "pygments_lexer": "ipython3",
   "version": "3.7.7"
  }
 },
 "nbformat": 4,
 "nbformat_minor": 4
}
